{
 "cells": [
  {
   "cell_type": "code",
   "execution_count": 4,
   "id": "e28e0c24-f165-4949-827d-39ec9a58b69a",
   "metadata": {},
   "outputs": [],
   "source": [
    "# Create a sample collection \n",
    "users = {'Hans': 'active', 'Éléonore': 'inactive', '奥特曼': 'active'}"
   ]
  },
  {
   "cell_type": "code",
   "execution_count": 5,
   "id": "813b7106-6203-42b4-a676-4ef21586f5d9",
   "metadata": {},
   "outputs": [],
   "source": [
    "# Strategy: Iterate over a copy\n",
    "for user,status in users.copy().items():\n",
    "    if status == 'inactive':\n",
    "        del users[user]\n",
    "\n",
    "# Strategy: Create a new collection\n",
    "active_users = {}\n",
    "for user,status in users.items():\n",
    "    if status == 'active':\n",
    "        active_users[user] = status"
   ]
  },
  {
   "cell_type": "code",
   "execution_count": 7,
   "id": "04d34c1f-f666-4a89-94a8-53984cdbf747",
   "metadata": {},
   "outputs": [
    {
     "name": "stdout",
     "output_type": "stream",
     "text": [
      "{'Hans': 'active', '奥特曼': 'active'}\n"
     ]
    }
   ],
   "source": [
    "print(active_users)"
   ]
  },
  {
   "cell_type": "markdown",
   "id": "e716bc30-2b02-42c7-b2d3-a8203351e972",
   "metadata": {},
   "source": [
    "#### 4.3 The range (Function)-P18"
   ]
  },
  {
   "cell_type": "code",
   "execution_count": 10,
   "id": "757635d1-4dce-4dc9-9b5c-4c2227d17ec4",
   "metadata": {},
   "outputs": [
    {
     "data": {
      "text/plain": [
       "[10, 9, 8, 7, 6, 5, 4, 3, 2]"
      ]
     },
     "execution_count": 10,
     "metadata": {},
     "output_type": "execute_result"
    }
   ],
   "source": [
    "list(range(10,1,-1))"
   ]
  },
  {
   "cell_type": "code",
   "execution_count": 11,
   "id": "bc7f1752-d041-49a3-902f-8eea6b70bfa4",
   "metadata": {},
   "outputs": [],
   "source": [
    "a = ['Mary','had','a','little','lamb']"
   ]
  },
  {
   "cell_type": "code",
   "execution_count": 12,
   "id": "6c1b4cec-fb79-4101-9ed8-4bcbaea8c384",
   "metadata": {},
   "outputs": [
    {
     "name": "stdout",
     "output_type": "stream",
     "text": [
      "0 Mary\n",
      "1 had\n",
      "2 a\n",
      "3 little\n",
      "4 lamb\n"
     ]
    }
   ],
   "source": [
    "for i in range(len(a)):\n",
    "    print(i,a[i])"
   ]
  },
  {
   "cell_type": "code",
   "execution_count": 13,
   "id": "28ff5f00-0d0b-45a2-8c10-c19cc6f264e3",
   "metadata": {},
   "outputs": [
    {
     "name": "stdout",
     "output_type": "stream",
     "text": [
      "0 Mary\n",
      "1 had\n",
      "2 a\n",
      "3 little\n",
      "4 lamb\n"
     ]
    }
   ],
   "source": [
    "# 用enumerate()实现\n",
    "for i, name in enumerate(a):\n",
    "    print(i,name)"
   ]
  },
  {
   "cell_type": "code",
   "execution_count": 14,
   "id": "4439a0d3-dcb1-4ef2-8d65-930de6a5b134",
   "metadata": {},
   "outputs": [
    {
     "data": {
      "text/plain": [
       "6"
      ]
     },
     "execution_count": 14,
     "metadata": {},
     "output_type": "execute_result"
    }
   ],
   "source": [
    "sum(range(4)) # 0,1,2,3"
   ]
  },
  {
   "cell_type": "code",
   "execution_count": 17,
   "id": "e8a6c09e-d350-428d-a70b-c4db1e6641d2",
   "metadata": {},
   "outputs": [
    {
     "name": "stdout",
     "output_type": "stream",
     "text": [
      "4 equals 2 * 2\n",
      "6 equals 2 * 3\n",
      "8 equals 2 * 4\n",
      "9 equals 3 * 3\n"
     ]
    }
   ],
   "source": [
    "# 但两段代码的行为和结果完全不同。\n",
    "# 第一个版本正确地找到了每个数的最小因子，\n",
    "# 第二个版本只检查了每个数是否能被2整除。\n",
    "# 为什么break 是在if 的下面， 改为for 下面会出错吗？\n",
    "for n in range(2,10):\n",
    "    for x in range(2,n):\n",
    "        if n % x == 0:\n",
    "            print(f\"{n} equals {x} * {n//x}\")\n",
    "            break"
   ]
  },
  {
   "cell_type": "code",
   "execution_count": 23,
   "id": "74fad28b-0d07-4a4b-86e4-fd433a7f8c9d",
   "metadata": {},
   "outputs": [
    {
     "name": "stdout",
     "output_type": "stream",
     "text": [
      "4 equals 2 * 2\n",
      "6 equals 2 * 3\n",
      "8 equals 2 * 4\n"
     ]
    }
   ],
   "source": [
    "# 将 break 放在for 下面\n",
    "for n in range(2,10):\n",
    "    for x in range(2,n):\n",
    "        if n % x == 0:\n",
    "            print(f\"{n} equals {x} * {n//x}\")\n",
    "        break"
   ]
  },
  {
   "cell_type": "code",
   "execution_count": 24,
   "id": "89fa9914-0645-49a9-8c73-9517084eb1bb",
   "metadata": {},
   "outputs": [
    {
     "name": "stdout",
     "output_type": "stream",
     "text": [
      "Found an even number 2\n",
      "Found an odd number 3\n",
      "Found an even number 4\n",
      "Found an odd number 5\n",
      "Found an even number 6\n",
      "Found an odd number 7\n",
      "Found an even number 8\n",
      "Found an odd number 9\n"
     ]
    }
   ],
   "source": [
    "# continue语句继续下一次循环迭代\n",
    "for num in range(2,10):\n",
    "    if num % 2 == 0:\n",
    "        print(f\"Found an even number {num}\")\n",
    "        continue # continue 执行之后， 返回到 for 循环\n",
    "    print(f\"Found an odd number {num}\")"
   ]
  },
  {
   "cell_type": "markdown",
   "id": "28ff9ed5-fa83-4cbd-bbac-0cc42969f635",
   "metadata": {},
   "source": [
    "### continue 和 break的差别\n",
    "- break 完全终止循环,break 通常用于找到满足条件就不需要继续循环的情况;\n",
    "- continue 只跳过当前迭代的剩余部分, continue 通常用于跳过特定条件不需要处理的情况，但仍需处理其他情况"
   ]
  },
  {
   "cell_type": "code",
   "execution_count": 25,
   "id": "0c363b5e-4917-4766-8e54-fa75d70e3f29",
   "metadata": {},
   "outputs": [],
   "source": [
    "# Match 语句\n",
    "def http_error(status):\n",
    "    match status:\n",
    "        case 400:\n",
    "            return \"Bad request\"\n",
    "        case 404:\n",
    "            return \"Not found\"\n",
    "        case 418:\n",
    "            return \"I am a teapot\"\n",
    "        case _:\n",
    "            return \"Something wrong\""
   ]
  },
  {
   "cell_type": "code",
   "execution_count": 32,
   "id": "15777813-d94d-4bd8-80f2-116cc8e54a96",
   "metadata": {},
   "outputs": [
    {
     "ename": "SyntaxError",
     "evalue": "invalid syntax (3808139221.py, line 1)",
     "output_type": "error",
     "traceback": [
      "\u001b[0;36m  Cell \u001b[0;32mIn[32], line 1\u001b[0;36m\u001b[0m\n\u001b[0;31m    case 401 | 403 | 405:\u001b[0m\n\u001b[0m         ^\u001b[0m\n\u001b[0;31mSyntaxError\u001b[0m\u001b[0;31m:\u001b[0m invalid syntax\n"
     ]
    }
   ],
   "source": [
    "case 401 | 403 | 405:\n",
    "    return \"Not allowed\""
   ]
  },
  {
   "cell_type": "code",
   "execution_count": 31,
   "id": "56368c26-b754-4e7d-8f71-98949f52c24a",
   "metadata": {},
   "outputs": [
    {
     "name": "stdout",
     "output_type": "stream",
     "text": [
      "3.12.8 | packaged by Anaconda, Inc. | (main, Dec 11 2024, 10:37:40) [Clang 14.0.6 ]\n"
     ]
    }
   ],
   "source": [
    "import sys\n",
    "print(sys.version)"
   ]
  },
  {
   "cell_type": "code",
   "execution_count": 34,
   "id": "3eea21ab-80ce-4b0d-be44-07d4786ac837",
   "metadata": {},
   "outputs": [
    {
     "name": "stdout",
     "output_type": "stream",
     "text": [
      "3\n",
      "4\n"
     ]
    }
   ],
   "source": [
    "class Point:\n",
    "    __match_args__ = ('x','y')\n",
    "    def __init__(self,x,y):\n",
    "        self.x = x\n",
    "        self.y = y\n",
    "        \n",
    "# 创建一个点(3, 4)\n",
    "p = Point(3, 4)\n",
    "\n",
    "# 访问点的坐标\n",
    "print(p.x)  # 输出: 3\n",
    "print(p.y)  # 输出: 4"
   ]
  },
  {
   "cell_type": "code",
   "execution_count": 35,
   "id": "91891e3a-16fa-414f-b421-9f252877bada",
   "metadata": {},
   "outputs": [],
   "source": [
    "# 4.8 Define functions\n",
    "def fib(n):\n",
    "    a, b = 0,1\n",
    "    while a < n:\n",
    "        print(a,end =',')\n",
    "        a,b = b, a+b\n",
    "    print()"
   ]
  },
  {
   "cell_type": "code",
   "execution_count": 36,
   "id": "5c47990e-517a-4a3c-a0ee-528d0a5e4662",
   "metadata": {},
   "outputs": [
    {
     "name": "stdout",
     "output_type": "stream",
     "text": [
      "0,1,1,2,3,5,8,13,21,34,55,89,144,233,377,610,987,1597,2584,\n"
     ]
    }
   ],
   "source": [
    "fib(3000)"
   ]
  },
  {
   "cell_type": "code",
   "execution_count": 39,
   "id": "a3100f98-1da0-4974-8fa1-fc4f4a40be86",
   "metadata": {},
   "outputs": [
    {
     "name": "stdout",
     "output_type": "stream",
     "text": [
      "\n",
      "None\n"
     ]
    }
   ],
   "source": [
    "print(fib(0))"
   ]
  },
  {
   "cell_type": "code",
   "execution_count": 40,
   "id": "6c4197b2-169a-4072-acfa-c9d41c025e85",
   "metadata": {},
   "outputs": [],
   "source": [
    "def ask_ok(prompt, retries=4, reminder='Please try again!'):\n",
    "    while True:\n",
    "        reply = input(prompt)\n",
    "        if reply in {'y', 'ye', 'yes'}:\n",
    "            return True\n",
    "        if reply in {'n', 'no', 'nop', 'nope'}:\n",
    "            return False\n",
    "        retries = retries - 1\n",
    "        if retries < 0:\n",
    "            raise ValueError('invalid user response')\n",
    "        print(reminder)"
   ]
  },
  {
   "cell_type": "code",
   "execution_count": 45,
   "id": "77c2884d-d7d1-4660-9bc8-4301bc10f117",
   "metadata": {},
   "outputs": [
    {
     "name": "stdin",
     "output_type": "stream",
     "text": [
      "Do you really want to quit? --\n"
     ]
    },
    {
     "name": "stdout",
     "output_type": "stream",
     "text": [
      "Please try again!\n"
     ]
    },
    {
     "name": "stdin",
     "output_type": "stream",
     "text": [
      "Do you really want to quit? nop\n"
     ]
    },
    {
     "data": {
      "text/plain": [
       "False"
      ]
     },
     "execution_count": 45,
     "metadata": {},
     "output_type": "execute_result"
    }
   ],
   "source": [
    "ask_ok('Do you really want to quit?')"
   ]
  },
  {
   "cell_type": "code",
   "execution_count": 47,
   "id": "2d4e4b75-608e-47c0-8038-ed01f1ce6e04",
   "metadata": {},
   "outputs": [
    {
     "name": "stdin",
     "output_type": "stream",
     "text": [
      "OK to overwrite the file? u\n"
     ]
    },
    {
     "name": "stdout",
     "output_type": "stream",
     "text": [
      "Please try again!\n"
     ]
    },
    {
     "name": "stdin",
     "output_type": "stream",
     "text": [
      "OK to overwrite the file? w\n"
     ]
    },
    {
     "name": "stdout",
     "output_type": "stream",
     "text": [
      "Please try again!\n"
     ]
    },
    {
     "name": "stdin",
     "output_type": "stream",
     "text": [
      "OK to overwrite the file? w\n"
     ]
    },
    {
     "ename": "ValueError",
     "evalue": "invalid user response",
     "output_type": "error",
     "traceback": [
      "\u001b[0;31m---------------------------------------------------------------------------\u001b[0m",
      "\u001b[0;31mValueError\u001b[0m                                Traceback (most recent call last)",
      "Cell \u001b[0;32mIn[47], line 1\u001b[0m\n\u001b[0;32m----> 1\u001b[0m ask_ok(\u001b[38;5;124m'\u001b[39m\u001b[38;5;124mOK to overwrite the file?\u001b[39m\u001b[38;5;124m'\u001b[39m, \u001b[38;5;241m2\u001b[39m)\n",
      "Cell \u001b[0;32mIn[40], line 10\u001b[0m, in \u001b[0;36mask_ok\u001b[0;34m(prompt, retries, reminder)\u001b[0m\n\u001b[1;32m      8\u001b[0m retries \u001b[38;5;241m=\u001b[39m retries \u001b[38;5;241m-\u001b[39m \u001b[38;5;241m1\u001b[39m\n\u001b[1;32m      9\u001b[0m \u001b[38;5;28;01mif\u001b[39;00m retries \u001b[38;5;241m<\u001b[39m \u001b[38;5;241m0\u001b[39m:\n\u001b[0;32m---> 10\u001b[0m     \u001b[38;5;28;01mraise\u001b[39;00m \u001b[38;5;167;01mValueError\u001b[39;00m(\u001b[38;5;124m'\u001b[39m\u001b[38;5;124minvalid user response\u001b[39m\u001b[38;5;124m'\u001b[39m)\n\u001b[1;32m     11\u001b[0m \u001b[38;5;28mprint\u001b[39m(reminder)\n",
      "\u001b[0;31mValueError\u001b[0m: invalid user response"
     ]
    }
   ],
   "source": [
    "ask_ok('OK to overwrite the file?', 2)"
   ]
  },
  {
   "cell_type": "code",
   "execution_count": 44,
   "id": "8e934fa8-49dc-4e76-a604-3c8b5e6a03a4",
   "metadata": {},
   "outputs": [
    {
     "name": "stdin",
     "output_type": "stream",
     "text": [
      "OK to overwrite the file? no\n"
     ]
    },
    {
     "data": {
      "text/plain": [
       "False"
      ]
     },
     "execution_count": 44,
     "metadata": {},
     "output_type": "execute_result"
    }
   ],
   "source": [
    "ask_ok('OK to overwrite the file?', 2, 'Come on, only yes or no!')"
   ]
  },
  {
   "cell_type": "code",
   "execution_count": 48,
   "id": "b767b723-ed96-4051-99ac-41769b6bbf09",
   "metadata": {},
   "outputs": [],
   "source": [
    "def f(a,L=[]):\n",
    "    L.append(a)\n",
    "    return L"
   ]
  },
  {
   "cell_type": "code",
   "execution_count": 53,
   "id": "60610bc4-fe4c-47db-b89d-df0780cfb89c",
   "metadata": {},
   "outputs": [
    {
     "name": "stdout",
     "output_type": "stream",
     "text": [
      "[1, 1, 2, 3, 1, 2, 3, 1, 2, 3, 1]\n",
      "[1, 1, 2, 3, 1, 2, 3, 1, 2, 3, 1, 2]\n",
      "[1, 1, 2, 3, 1, 2, 3, 1, 2, 3, 1, 2, 3]\n"
     ]
    }
   ],
   "source": [
    "print(f(1))\n",
    "print(f(2))\n",
    "print(f(3))"
   ]
  },
  {
   "cell_type": "code",
   "execution_count": 56,
   "id": "bcb7420d-ab90-4c47-8347-d1b95bf9c777",
   "metadata": {},
   "outputs": [
    {
     "name": "stdout",
     "output_type": "stream",
     "text": [
      "[1]\n",
      "[2]\n",
      "[3]\n"
     ]
    }
   ],
   "source": [
    "# Set default to be shared between subsequent calls\n",
    "def f(a,L=None):\n",
    "    if L is None:\n",
    "        L =[]\n",
    "    L.append(a)\n",
    "    return L\n",
    "print(f(1))\n",
    "print(f(2))\n",
    "print(f(3))"
   ]
  },
  {
   "cell_type": "code",
   "execution_count": 57,
   "id": "8c485508-5e68-4c10-8917-417d95f40943",
   "metadata": {},
   "outputs": [
    {
     "name": "stdout",
     "output_type": "stream",
     "text": [
      "[1]\n",
      "[2]\n",
      "[3]\n"
     ]
    }
   ],
   "source": [
    "print(f(1))\n",
    "print(f(2))\n",
    "print(f(3))"
   ]
  },
  {
   "cell_type": "code",
   "execution_count": 58,
   "id": "0f8045ea-b2cf-4fb8-b6da-6cd0075c4d0a",
   "metadata": {},
   "outputs": [],
   "source": [
    "# 4.9.2 Keyword Arguments\n",
    "def parrot(voltage, state='a stiff', action='voom', type='Norwegian Blue'):\n",
    "    print(\"-- This parrot wouldn't\", action, end=' ')\n",
    "    print(\"if you put\", voltage, \"volts through it.\")\n",
    "    print(\"-- Lovely plumage, the\", type)\n",
    "    print(\"-- It's\", state, \"!\")"
   ]
  },
  {
   "cell_type": "code",
   "execution_count": 60,
   "id": "8710db37-a996-4d19-9021-6616067fd7fe",
   "metadata": {},
   "outputs": [
    {
     "name": "stdout",
     "output_type": "stream",
     "text": [
      "-- This parrot wouldn't voom if you put 1000 volts through it.\n",
      "-- Lovely plumage, the Norwegian Blue\n",
      "-- It's a stiff !\n",
      "-- This parrot wouldn't voom if you put 1000 volts through it.\n",
      "-- Lovely plumage, the Norwegian Blue\n",
      "-- It's a stiff !\n"
     ]
    }
   ],
   "source": [
    "parrot(1000) \n",
    "parrot(voltage=1000)"
   ]
  },
  {
   "cell_type": "markdown",
   "id": "f20d8030-3cef-4cfa-84d9-150c469dd7b9",
   "metadata": {},
   "source": [
    "\n",
    "这个例子展示了Python函数参数中一个重要的概念，关于位置参数和关键字参数之间可能发生的冲突。我来用中文解释一下：\n",
    "\n",
    "首先，这个例子定义了一个函数：\n",
    "```python\n",
    "def foo(name, **kwds):\n",
    "    return 'name' in kwds\n",
    "```\n",
    "\n",
    "这个函数有两个参数：\n",
    "1. `name` - 一个位置参数\n",
    "2. `**kwds` - 一个关键字参数字典\n",
    "\n",
    "函数检查字符串 `'name'` 是否在 `kwds` 字典中作为键存在。\n",
    "\n",
    "当你尝试调用 `foo(1, **{'name': 2})` 时，会发生错误：\n",
    "```\n",
    "TypeError: foo() got multiple values for argument 'name'\n",
    "```\n",
    "\n",
    "这是因为:\n",
    "- 值 `1` 被绑定到位置参数 `name`\n",
    "- 同时，在 `**kwds` 中，也有一个键为 `'name'` 的项目\n",
    "\n",
    "Python解释器发现参数 `name` 被赋值了两次，所以报错。\n",
    "\n",
    "但是，通过使用 `/` 参数分隔符（在Python 3.8及以上版本可用），可以指定前面的参数只能作为位置参数使用：\n",
    "\n",
    "```python\n",
    "def foo(name, /, **kwds):\n",
    "    return 'name' in kwds\n",
    "```\n",
    "\n",
    "现在，`name` 参数只能通过位置提供，不能作为关键字参数。这样，当你调用 `foo(1, **{'name': 2})` 时：\n",
    "- 值 `1` 被绑定到位置参数 `name`\n",
    "- 键 `'name'` 和值 `2` 被放入 `kwds` 字典中\n",
    "- 函数返回 `True`，因为 `'name'` 确实在 `kwds` 中作为键存在\n",
    "\n",
    "这就解决了参数名称冲突的问题。简单来说，`/` 符号帮助我们区分哪些参数只能通过位置传递，避免了与关键字参数的命名冲突。\n",
    "\n",
    "这个例子很好地说明了Python函数参数系统的灵活性和潜在的复杂性。\n",
    "```\n"
   ]
  },
  {
   "cell_type": "markdown",
   "id": "771a722f-3916-4079-8e8a-31eb42274762",
   "metadata": {},
   "source": [
    "# 4.9.4 Arbitrary Argument Lists"
   ]
  },
  {
   "cell_type": "markdown",
   "id": "a2bb91e7-b73a-42ee-a636-9a5507ca1707",
   "metadata": {},
   "source": [
    "# 任意参数列表（Arbitrary Argument Lists）\n",
    "\n",
    "任意参数列表是Python中一个非常有用的功能，它允许你定义一个函数，该函数可以接收不确定数量的参数。这在你不知道函数将被调用时会传递多少个参数的情况下特别有用。\n",
    "\n",
    "## 基本语法\n",
    "\n",
    "在Python中，任意参数列表使用星号（`*`）表示：\n",
    "\n",
    "```python\n",
    "def function_name(*args):\n",
    "    # 函数体\n",
    "    # args是一个元组，包含所有传递给函数的位置参数\n",
    "```\n",
    "\n",
    "## 工作原理\n",
    "\n",
    "当你在函数定义中使用`*args`时：\n",
    "- `args`是一个元组（tuple）\n",
    "- 它包含了所有传递给函数的位置参数\n",
    "- 你可以在函数内部像处理普通元组一样处理`args`\n",
    "\n",
    "## 示例\n",
    "\n",
    "```python\n",
    "def sum_all(*numbers):\n",
    "    result = 0\n",
    "    for num in numbers:\n",
    "        result += num\n",
    "    return result\n",
    "\n",
    "# 调用函数\n",
    "print(sum_all(1, 2))          # 输出: 3\n",
    "print(sum_all(1, 2, 3, 4, 5)) # 输出: 15\n",
    "print(sum_all())              # 输出: 0\n",
    "```\n",
    "\n",
    "## 关键字任意参数\n",
    "\n",
    "除了位置参数，Python还允许你使用双星号（`**`）接收任意数量的关键字参数：\n",
    "\n",
    "```python\n",
    "def function_name(**kwargs):\n",
    "    # 函数体\n",
    "    # kwargs是一个字典，包含所有传递给函数的关键字参数\n",
    "```\n",
    "\n",
    "`kwargs`是\"keyword arguments\"的缩写，它是一个字典，键是参数名，值是传递的参数值。\n",
    "\n",
    "## 关键字任意参数示例\n",
    "\n",
    "```python\n",
    "def print_info(**info):\n",
    "    for key, value in info.items():\n",
    "        print(f\"{key}: {value}\")\n",
    "\n",
    "# 调用函数\n",
    "print_info(name=\"张三\", age=25, city=\"北京\")\n",
    "# 输出:\n",
    "# name: 张三\n",
    "# age: 25\n",
    "# city: 北京\n",
    "```\n",
    "\n",
    "## 混合使用\n",
    "\n",
    "你可以在同一个函数中混合使用普通参数、`*args`和`**kwargs`，但必须按照以下顺序：\n",
    "1. 普通参数\n",
    "2. `*args`\n",
    "3. `**kwargs`\n",
    "\n",
    "```python\n",
    "def mixed_function(a, b, *args, **kwargs):\n",
    "    print(f\"a = {a}\")\n",
    "    print(f\"b = {b}\")\n",
    "    print(f\"args = {args}\")\n",
    "    print(f\"kwargs = {kwargs}\")\n",
    "\n",
    "# 调用函数\n",
    "mixed_function(1, 2, 3, 4, 5, x=\"hello\", y=\"world\")\n",
    "# 输出:\n",
    "# a = 1\n",
    "# b = 2\n",
    "# args = (3, 4, 5)\n",
    "# kwargs = {'x': 'hello', 'y': 'world'}\n",
    "```\n",
    "\n",
    "## 解包参数列表\n",
    "\n",
    "你也可以使用`*`和`**`运算符来解包参数列表：\n",
    "\n",
    "```python\n",
    "def function(a, b, c):\n",
    "    print(a, b, c)\n",
    "\n",
    "args = [1, 2, 3]\n",
    "function(*args)  # 等同于 function(1, 2, 3)\n",
    "\n",
    "kwargs = {'a': 1, 'b': 2, 'c': 3}\n",
    "function(**kwargs)  # 等同于 function(a=1, b=2, c=3)\n",
    "```"
   ]
  },
  {
   "cell_type": "markdown",
   "id": "9c6e214f-4b61-4340-968c-d48edad1cff2",
   "metadata": {},
   "source": [
    "# 4.9.6.Lambda Expressions\n",
    "让我解释一下这行代码：`pairs.sort(key=lambda pair: pair[1])`\n",
    "\n",
    "这是一个排序操作的例子，展示了 lambda 表达式的一个常见用途。让我们逐部分分析：\n",
    "\n",
    "1. `pairs` 是一个需要排序的列表，由元组组成，例如：`[(1, 'one'), (2, 'two'), (3, 'three'), (4, 'four')]`\n",
    "\n",
    "2. `.sort()` 是列表的方法，用于对列表进行原地排序（即直接修改原列表而不返回新列表）\n",
    "\n",
    "3. `key=lambda pair: pair[1]` 是排序的关键所在：\n",
    "   - `key` 参数指定一个函数，这个函数将应用于列表中的每个元素，返回的值将用于比较元素的大小\n",
    "   - `lambda pair: pair[1]` 是一个匿名函数，它接收一个参数 `pair`（列表中的每个元组）\n",
    "   - 函数体 `pair[1]` 表示返回元组的第二个元素（索引为1）\n",
    "   \n",
    "所以这行代码的作用是：将 `pairs` 列表按照每个元组的第二个元素（即字符串部分）进行排序。\n",
    "\n",
    "对于示例数据 `[(1, 'one'), (2, 'two'), (3, 'three'), (4, 'four')]`，结果会是：\n",
    "`[(4, 'four'), (1, 'one'), (3, 'three'), (2, 'two')]`\n",
    "\n",
    "因为按照字母顺序，'four' 排在最前面，然后是 'one'，接着是 'three'，最后是 'two'。\n",
    "\n",
    "这种用法非常实用，因为它允许你以非常简洁的方式定义排序规则，而不必单独定义一个完整的函数。"
   ]
  },
  {
   "cell_type": "code",
   "execution_count": 63,
   "id": "392caafd-5781-4c53-8757-90505f318f7b",
   "metadata": {},
   "outputs": [
    {
     "data": {
      "text/plain": [
       "[(4, 'four'), (1, 'one'), (3, 'three'), (2, 'two')]"
      ]
     },
     "execution_count": 63,
     "metadata": {},
     "output_type": "execute_result"
    }
   ],
   "source": [
    "pairs = [(1, 'one'), (2, 'two'), (3, 'three'), (4, 'four')]\n",
    "pairs.sort(key=lambda pair: pair[1])\n",
    "pairs"
   ]
  },
  {
   "cell_type": "markdown",
   "id": "3170ec3c-e193-447c-9192-086d114782f0",
   "metadata": {},
   "source": [
    "# 4.9.7 Documentation Strings\n",
    "# Python 文档字符串（Documentation Strings）\n",
    "\n",
    "文档字符串（Documentation Strings），通常称为 docstrings，是 Python 中一个非常重要的特性，用于为模块、函数、类和方法提供文档。\n",
    "\n",
    "## 什么是文档字符串\n",
    "\n",
    "根据 Python 教程中的描述，文档字符串是作为函数、模块或类定义中的第一个语句出现的字符串字面量。这个字符串会被自动添加到对象的 `__doc__` 属性中。虽然在执行代码时文档字符串会被忽略，但它对于代码的可读性和维护性非常重要。\n",
    "\n",
    "## 基本语法\n",
    "\n",
    "文档字符串通常使用三重引号（`\"\"\"` 或 `'''`）来定义，这样可以方便地编写多行文档：\n",
    "\n",
    "```python\n",
    "def my_function():\n",
    "    \"\"\"这是一个函数的文档字符串。\n",
    "    \n",
    "    它可以跨越多行，并提供关于函数功能的详细信息。\n",
    "    \"\"\"\n",
    "    pass\n",
    "```\n",
    "\n",
    "## 文档字符串的规范\n",
    "\n",
    "教程中提到了一些关于文档字符串内容和格式的约定：\n",
    "\n",
    "1. 第一行应该是对象目的的简短、精确的摘要。为了简洁，它不应该显式地说明对象的名称或类型，因为这些可以通过其他方式获取。\n",
    "\n",
    "2. 如果文档字符串有多行，第二行应该是空行，从视觉上将摘要与其余描述分开。\n",
    "\n",
    "3. 后面的行可以是一个或多个段落，描述对象的调用约定、副作用等。\n",
    "\n",
    "Python 解析器不会从多行文档字符串中删除缩进，所以处理文档的工具如果需要的话必须自己删除缩进。这是通过以下约定完成的：文档字符串第一行后的第一个非空行决定整个文档字符串的缩进量。然后，所有行开头与这个缩进\"等效\"的空白都被删除。\n",
    "\n",
    "## 访问文档字符串\n",
    "\n",
    "您可以通过对象的 `__doc__` 属性访问文档字符串：\n",
    "\n",
    "```python\n",
    ">>> print(my_function.__doc__)\n",
    "这是一个函数的文档字符串。\n",
    "\n",
    "它可以跨越多行，并提供关于函数功能的详细信息。\n",
    "```\n",
    "\n",
    "## 文档字符串的重要性\n",
    "\n",
    "教程强调了编写文档字符串的重要性：\n",
    "\n",
    "- 它们是生成在线或打印文档的基础\n",
    "- 它们使用户能够交互式地浏览代码\n",
    "- 对于您编写的代码，包含文档字符串是一种良好的实践\n",
    "\n",
    "## 文档字符串示例\n",
    "\n",
    "```python\n",
    "def my_function():\n",
    "    \"\"\"Do nothing, but document it.\n",
    "    \n",
    "    No, really, it doesn't do anything.\n",
    "    \"\"\"\n",
    "    pass\n",
    "\n",
    "print(my_function.__doc__)\n",
    "```\n",
    "\n",
    "输出将是：\n",
    "\n",
    "```\n",
    "Do nothing, but document it.\n",
    "\n",
    "No, really, it doesn't do anything.\n",
    "```\n",
    "\n",
    "总之，文档字符串是 Python 编程中的一个重要特性，它不仅有助于代码的自文档化，也是生成外部文档的基础。良好的文档字符串能够大大提高代码的可维护性和可读性。"
   ]
  },
  {
   "cell_type": "markdown",
   "id": "ed2e74a2-e2dd-4af2-bd96-05bdbd6f21ab",
   "metadata": {},
   "source": [
    "# Function Annotations\n",
    "Function Annotations 是 Python 中的一种机制，允许你为函数的参数和返回值添加注释或标注。这些注释本身并不影响函数的执行，但可以被用于文档、类型检查和其他工具。\n",
    "\n",
    "根据 Python 教程中的内容，函数注释的语法如下：\n",
    "\n",
    "1. 参数注释：在参数名后使用冒号（:）添加，如 `def func(a: int)`\n",
    "2. 返回值注释：在函数参数列表和冒号之间使用箭头（->）添加，如 `def func(a) -> str:`\n",
    "\n",
    "例如：\n",
    "```python\n",
    "def sum_two_numbers(a: int, b: int) -> int:\n",
    "    return a + b\n",
    "```\n",
    "\n",
    "这个函数注释表明 `a` 和 `b` 应该是整数，且函数返回值也应该是整数。\n",
    "\n",
    "函数注释存储在函数的 `__annotations__` 属性中，这是一个字典，其中包含参数名和返回值（用 'return' 键表示）及其对应的注释。例如：\n",
    "\n",
    "```python\n",
    ">>> def f(ham: str, eggs: str = 'eggs') -> str:\n",
    "...     print(\"Annotations:\", f.__annotations__)\n",
    "...     print(\"Arguments:\", ham, eggs)\n",
    "...     return ham + ' and ' + eggs\n",
    "...\n",
    ">>> f('spam')\n",
    "Annotations: {'ham': <class 'str'>, 'return': <class 'str'>, 'eggs': <class 'str'>}\n",
    "Arguments: spam eggs\n",
    "'spam and eggs'\n",
    "```\n",
    "\n",
    "需要注意的是，函数注释在 Python 中主要用于提供类型提示（type hints），特别是与 `typing` 模块结合使用。这些提示可以被静态类型检查工具（如 mypy）用来检查代码中的类型错误，但 Python 解释器本身并不强制执行这些类型约束。\n",
    "\n",
    "## 中文补充建议\n",
    "\n",
    "1. **实际应用场景**：函数注解在大型项目和团队协作中特别有用。它们可以帮助你的团队成员理解你期望的输入和输出类型，减少沟通成本和运行时错误。\n",
    "\n",
    "2. **与 typing 模块结合**：学习 typing 模块可以大大增强函数注解的功能。例如：\n",
    "   ```python\n",
    "   from typing import List, Dict, Optional\n",
    "   \n",
    "   def process_data(items: List[int], config: Optional[Dict[str, str]] = None) -> List[str]:\n",
    "       # 函数实现\n",
    "   ```\n",
    "\n",
    "3. **理解注解的局限性**：记住，Python 是动态类型语言，注解仅为提示。即使添加了类型注解，Python 运行时仍然不会检查或强制执行这些类型。如果需要类型检查，需要使用外部工具如 mypy。\n",
    "\n",
    "4. **学习进阶**：在掌握基本函数注解后，建议学习更复杂的类型提示，如泛型（Generics）、联合类型（Union types）和类型变量（TypeVar）等概念，这些在复杂应用程序中非常有用。\n",
    "\n",
    "5. **文档与注解结合**：将函数注解与详细的文档字符串（docstring）结合使用，可以创建更加全面和有用的API文档。例如：\n",
    "   ```python\n",
    "   def calculate_area(radius: float) -> float:\n",
    "       \"\"\"计算圆的面积。\n",
    "       \n",
    "       Args:\n",
    "           radius: 圆的半径，必须为正数\n",
    "           \n",
    "       Returns:\n",
    "           圆的面积\n",
    "           \n",
    "       Raises:\n",
    "           ValueError: 当半径为负数时\n",
    "       \"\"\"\n",
    "       if radius < 0:\n",
    "           raise ValueError(\"半径不能为负数\")\n",
    "       return 3.14159 * radius * radius\n",
    "   ```\n",
    "\n",
    "函数注解是 Python 3 中的一个强大特性，掌握它可以提高代码质量和可维护性。"
   ]
  },
  {
   "cell_type": "markdown",
   "id": "ee72d474-e124-45a3-a1cb-f855f2a3ea84",
   "metadata": {},
   "source": [
    "#4.9.8. Function Annotations @2025-02-28 18:40"
   ]
  },
  {
   "cell_type": "code",
   "execution_count": 1,
   "id": "59bb2815-4ab2-4cd0-809c-697948aea3a9",
   "metadata": {},
   "outputs": [],
   "source": [
    "def f(ham: str, eggs: str = 'eggs') -> str:\n",
    "    print(\"Annotations:\", f.__annotations__)\n",
    "    print(\"Arguments:\", ham, eggs)\n",
    "    return ham + ' and ' + eggs"
   ]
  },
  {
   "cell_type": "code",
   "execution_count": 2,
   "id": "a6bf8f6b-e90c-4afe-9ebc-fd024e62004f",
   "metadata": {},
   "outputs": [
    {
     "name": "stdout",
     "output_type": "stream",
     "text": [
      "Annotations: {'ham': <class 'str'>, 'eggs': <class 'str'>, 'return': <class 'str'>}\n",
      "Arguments: spam eggs\n"
     ]
    },
    {
     "data": {
      "text/plain": [
       "'spam and eggs'"
      ]
     },
     "execution_count": 2,
     "metadata": {},
     "output_type": "execute_result"
    }
   ],
   "source": [
    "f('spam')"
   ]
  },
  {
   "cell_type": "code",
   "execution_count": 3,
   "id": "ede60b38-c280-40c9-b133-265390c75cd1",
   "metadata": {},
   "outputs": [
    {
     "name": "stdout",
     "output_type": "stream",
     "text": [
      "[1, 2, 3, 4]\n",
      "[1, 2, 3, 4]\n"
     ]
    }
   ],
   "source": [
    "# 使用 append 方法\n",
    "my_list = [1, 2, 3]\n",
    "my_list.append(4)\n",
    "print(my_list)  # 输出 [1, 2, 3, 4]\n",
    "\n",
    "# 使用切片赋值\n",
    "my_list = [1, 2, 3]\n",
    "my_list[len(my_list):] = [4]\n",
    "print(my_list)  # 同样输出 [1, 2, 3, 4]"
   ]
  },
  {
   "cell_type": "markdown",
   "id": "c501df15-0340-43a6-9b3b-ca06dd35f563",
   "metadata": {},
   "source": [
    "### 5.1 More on list"
   ]
  },
  {
   "cell_type": "code",
   "execution_count": 4,
   "id": "2be77739-bb79-45e9-be41-3f2d1e1ba339",
   "metadata": {},
   "outputs": [
    {
     "name": "stdout",
     "output_type": "stream",
     "text": [
      "['apple', 'banana', 'orange']\n"
     ]
    }
   ],
   "source": [
    "# list.append(x),在列表末尾添加一个元素, 相当于 a[len(a):] = [x]。\n",
    "fruits = ['apple','banana']\n",
    "fruits.append('orange')\n",
    "print(fruits) "
   ]
  },
  {
   "cell_type": "code",
   "execution_count": 5,
   "id": "f90e6284-3006-4119-a4fc-ff56f8c892fd",
   "metadata": {},
   "outputs": [
    {
     "name": "stdout",
     "output_type": "stream",
     "text": [
      "['apple', 'banana', 'orange', 'grape']\n"
     ]
    }
   ],
   "source": [
    "# list.extend(iterable), 通过添加可迭代对象中的所有元素来扩展列表\n",
    "fruits = ['apple','banana']\n",
    "fruits.extend(['orange','grape'])\n",
    "print(fruits)"
   ]
  },
  {
   "cell_type": "code",
   "execution_count": 6,
   "id": "653d5fb3-ca45-49f1-8ae9-def9d80274bf",
   "metadata": {},
   "outputs": [
    {
     "data": {
      "text/plain": [
       "['apple', 'orange', 'banana']"
      ]
     },
     "execution_count": 6,
     "metadata": {},
     "output_type": "execute_result"
    }
   ],
   "source": [
    "# list.insert(i,x), 在指定位置插入元素。第一个参数是要插入元素的索引\n",
    "fruits = ['apple','banana']\n",
    "fruits.insert(1,'orange')\n",
    "fruits"
   ]
  },
  {
   "cell_type": "code",
   "execution_count": 8,
   "id": "b58f5d40-2049-4e80-8e18-44196e9f5937",
   "metadata": {},
   "outputs": [
    {
     "data": {
      "text/plain": [
       "['banana', 'apple']"
      ]
     },
     "execution_count": 8,
     "metadata": {},
     "output_type": "execute_result"
    }
   ],
   "source": [
    "# list.remove(x),删除列表中第一个值等于ⅹ的元素\n",
    "fruits = ['apple','banana','apple']\n",
    "fruits.remove('apple')\n",
    "fruits"
   ]
  },
  {
   "cell_type": "code",
   "execution_count": 12,
   "id": "4af016a7-db2b-4b47-9120-6cc094ae3aaa",
   "metadata": {},
   "outputs": [
    {
     "name": "stdout",
     "output_type": "stream",
     "text": [
      "orange\n"
     ]
    },
    {
     "data": {
      "text/plain": [
       "['apple', 'banana']"
      ]
     },
     "execution_count": 12,
     "metadata": {},
     "output_type": "execute_result"
    }
   ],
   "source": [
    "# 5.list.pop([i]) 删除列表中指定位置的元素并返回它。如果没有指定索引，a.pop()删除并返回列表中的最后一个元素。\n",
    "fruits = ['apple','banana','orange']\n",
    "fruit = fruits.pop()\n",
    "print(fruit)\n",
    "fruits"
   ]
  },
  {
   "cell_type": "code",
   "execution_count": 13,
   "id": "96452fb8-7dae-460f-abe5-ef6dc33ef339",
   "metadata": {},
   "outputs": [
    {
     "data": {
      "text/plain": [
       "[]"
      ]
     },
     "execution_count": 13,
     "metadata": {},
     "output_type": "execute_result"
    }
   ],
   "source": [
    "# 6,list.clearO 删除列表中的所有元素，相当于del a[:]。\n",
    "fruits = ['apple','banana','orange']\n",
    "fruits.clear()\n",
    "fruits"
   ]
  },
  {
   "cell_type": "code",
   "execution_count": 16,
   "id": "c738f770-6d50-4b14-ba0b-743069df4b80",
   "metadata": {},
   "outputs": [
    {
     "name": "stdout",
     "output_type": "stream",
     "text": [
      "0\n",
      "3\n"
     ]
    }
   ],
   "source": [
    "# 7.list.index(x[,start[,end]]) 返回列表中第一个值等于ⅹ的元素的从零开始的索\n",
    "fruits = ['apple','banana','orange','apple']\n",
    "index = fruits.index('apple')\n",
    "print(index)\n",
    "\n",
    "index = fruits.index('apple',1)\n",
    "print(index)"
   ]
  },
  {
   "cell_type": "code",
   "execution_count": 17,
   "id": "b4a2945b-97c5-489a-a071-3c651822e1f6",
   "metadata": {},
   "outputs": [
    {
     "data": {
      "text/plain": [
       "2"
      ]
     },
     "execution_count": 17,
     "metadata": {},
     "output_type": "execute_result"
    }
   ],
   "source": [
    "# 8.list.count(x) 返回元素 x 在列表中出现的次数。\n",
    "fruits = ['apple', 'banana', 'apple', 'orange']\n",
    "count = fruits.count('apple')\n",
    "count"
   ]
  },
  {
   "cell_type": "code",
   "execution_count": 19,
   "id": "a19a8088-d126-4098-932d-763aac6abe68",
   "metadata": {},
   "outputs": [
    {
     "name": "stdout",
     "output_type": "stream",
     "text": [
      "[1, 1, 3, 4, 5, 9]\n"
     ]
    }
   ],
   "source": [
    "# list.sort(*, key=None, reverse=False), 对列表中的元素进行排序（参数可用于自定义排序，详见 sorted() 的解释）\n",
    "numbers = [3, 1, 4, 1, 5, 9]\n",
    "numbers.sort()\n",
    "print(numbers)"
   ]
  },
  {
   "cell_type": "code",
   "execution_count": 20,
   "id": "fe48d75d-edbd-40f4-89f6-2b1f5e8aa632",
   "metadata": {},
   "outputs": [
    {
     "name": "stdout",
     "output_type": "stream",
     "text": [
      "['orange', 'banana', 'apple']\n"
     ]
    }
   ],
   "source": [
    "# 10.list.reverse() 反转列表中的元素。\n",
    "fruits = ['apple', 'banana', 'orange']\n",
    "fruits.reverse()\n",
    "print(fruits)  # 输出: ['orange', 'banana', 'apple']"
   ]
  },
  {
   "cell_type": "code",
   "execution_count": 21,
   "id": "837071f7-40a3-447d-8f2a-d83dda37e1f1",
   "metadata": {},
   "outputs": [
    {
     "name": "stdout",
     "output_type": "stream",
     "text": [
      "['apple', 'banana', 'orange']\n",
      "['grape', 'banana', 'orange']\n"
     ]
    }
   ],
   "source": [
    "# 11.list.copy() 返回列表的浅复制，相当于a[:]\n",
    "fruits = ['apple', 'banana', 'orange']\n",
    "fruits_copy = fruits.copy()\n",
    "fruits_copy[0] = 'grape'\n",
    "print(fruits)      # 输出: ['apple', 'banana', 'orange']\n",
    "print(fruits_copy) # 输出: ['grape', 'banana', 'orange']"
   ]
  },
  {
   "cell_type": "code",
   "execution_count": 24,
   "id": "7c31962b-d9f0-48af-8602-37df1c61c4a7",
   "metadata": {},
   "outputs": [
    {
     "name": "stdout",
     "output_type": "stream",
     "text": [
      "Eric\n",
      "John\n",
      "deque(['Michael', 'Terry', 'Graham'])\n"
     ]
    }
   ],
   "source": [
    "# 5.1.2 Using lists as queues\n",
    "from collections import deque\n",
    "queue = deque([\"Eric\", \"John\", \"Michael\"])\n",
    "queue.append(\"Terry\") \n",
    "queue.append(\"Graham\")          # Graham arrives\n",
    "print(queue.popleft())\n",
    "print(queue.popleft())\n",
    "print(queue)"
   ]
  },
  {
   "cell_type": "code",
   "execution_count": 25,
   "id": "ede69bff-c849-4bdf-a618-68b7643ddf63",
   "metadata": {},
   "outputs": [
    {
     "name": "stdout",
     "output_type": "stream",
     "text": [
      "[0, 1, 4, 9, 16, 25, 36, 49, 64, 81]\n"
     ]
    }
   ],
   "source": [
    "# 5.1.3 List Comprehension\n",
    "squares = []\n",
    "for x in range(10):\n",
    "    squares.append(x**2)\n",
    "\n",
    "print(squares)"
   ]
  },
  {
   "cell_type": "code",
   "execution_count": 30,
   "id": "f45cd32c-f895-4c0b-9889-32c778ab9dc3",
   "metadata": {},
   "outputs": [
    {
     "data": {
      "text/plain": [
       "[(1, 5, 9), (2, 6, 10), (3, 7, 11), (4, 8, 12)]"
      ]
     },
     "execution_count": 30,
     "metadata": {},
     "output_type": "execute_result"
    }
   ],
   "source": [
    "matrix = [\n",
    "    [1, 2, 3, 4],\n",
    "    [5, 6, 7, 8],\n",
    "    [9, 10, 11, 12],\n",
    "]\n",
    "list(zip(*matrix))"
   ]
  },
  {
   "cell_type": "code",
   "execution_count": 27,
   "id": "1c02f35a-b1aa-40bf-974a-b4286ad8e146",
   "metadata": {},
   "outputs": [
    {
     "data": {
      "text/plain": [
       "[[1, 5, 9], [2, 6, 10], [3, 7, 11], [4, 8, 12]]"
      ]
     },
     "execution_count": 27,
     "metadata": {},
     "output_type": "execute_result"
    }
   ],
   "source": [
    "[[row[i] for row in matrix] for i in range(4)]"
   ]
  },
  {
   "cell_type": "code",
   "execution_count": 28,
   "id": "3af50f9f-827e-4766-a0c4-33cc086aa166",
   "metadata": {},
   "outputs": [],
   "source": [
    "transposed = []\n",
    "for i in range(4):\n",
    "    transposed.append([row[i] for row in matrix])"
   ]
  },
  {
   "cell_type": "code",
   "execution_count": 29,
   "id": "1fbcc4e9-ba0b-435e-b93e-00ef9e1e7bc6",
   "metadata": {},
   "outputs": [],
   "source": [
    "transposed = []\n",
    "for i in range(4):\n",
    "    # 下面3行实现了内层的列表推导式\n",
    "    transposed_row = []\n",
    "    for row in matrix:\n",
    "        transposed_row.append(row[i])\n",
    "    transposed.append(transposed_row)"
   ]
  },
  {
   "cell_type": "code",
   "execution_count": 31,
   "id": "b509a7f9-e15a-47ba-9b16-f54e94036d0a",
   "metadata": {},
   "outputs": [
    {
     "name": "stdout",
     "output_type": "stream",
     "text": [
      "[1, 66.25, 333, 333, 1234.5]\n",
      "[1, 66.25, 1234.5]\n",
      "[]\n"
     ]
    }
   ],
   "source": [
    "# 5.2 the del statement\n",
    "a = [-1, 1, 66.25, 333, 333, 1234.5]\n",
    "del a[0]  # 删除索引为0的元素\n",
    "print(a)  # 输出: [1, 66.25, 333, 333, 1234.5]\n",
    "\n",
    "del a[2:4]  # 删除索引2到3的元素\n",
    "print(a)  # 输出: [1, 66.25, 1234.5]\n",
    "\n",
    "del a[:]  # 清空整个列表\n",
    "print(a)  # 输出: []"
   ]
  },
  {
   "cell_type": "markdown",
   "id": "9f8f9760-1797-4924-94ce-94ebdf0d82e1",
   "metadata": {},
   "source": [
    "# 5.3 Tuples and Sequences"
   ]
  },
  {
   "cell_type": "code",
   "execution_count": 40,
   "id": "9a51ce29-497b-4592-b58e-024e46bab9cf",
   "metadata": {},
   "outputs": [
    {
     "name": "stdout",
     "output_type": "stream",
     "text": [
      "((12345, 54321, 'hello!'), (1, 2, 3, 4, 5))\n"
     ]
    },
    {
     "data": {
      "text/plain": [
       "('hello',)"
      ]
     },
     "execution_count": 40,
     "metadata": {},
     "output_type": "execute_result"
    }
   ],
   "source": [
    "# 5.3 Tuples and Sequences\n",
    "t = 12345, 54321, 'hello!'\n",
    "t[0]  # Returns 12345\n",
    "u = t, (1, 2, 3, 4, 5)  # Creates ((12345, 54321, 'hello!'), (1, 2, 3, 4, 5))\n",
    "print(u)\n",
    "# t[0] = 88888  This will raise a TypeError\n",
    "\n",
    "v = ([1, 2, 3], [3, 2, 1])\n",
    "singleton = 'hello',  # Note the trailing comma\n",
    "singleton\n",
    "\n",
    "# Empty Tuples\n",
    "empty = ()\n",
    "\n"
   ]
  },
  {
   "cell_type": "code",
   "execution_count": 47,
   "id": "2c064a96-738e-4270-90bd-347439524e0b",
   "metadata": {},
   "outputs": [
    {
     "name": "stdout",
     "output_type": "stream",
     "text": [
      "12345 54321 hello!\n"
     ]
    }
   ],
   "source": [
    "# Tuple Packing and Unpacking:\n",
    "# Packing\n",
    "t = 12345, 54321, 'hello!'\n",
    "\n",
    "# Unpacking\n",
    "x, y, z = t\n",
    "\n",
    "print(x,y,z)"
   ]
  },
  {
   "cell_type": "markdown",
   "id": "23a1a087-4d28-4e64-920b-ed888afb293d",
   "metadata": {},
   "source": [
    "# 5.4 Sets"
   ]
  },
  {
   "cell_type": "code",
   "execution_count": 48,
   "id": "8871b87c-9c55-4938-ae20-952035ba21cd",
   "metadata": {},
   "outputs": [
    {
     "name": "stdout",
     "output_type": "stream",
     "text": [
      "{'banana', 'apple', 'orange', 'pear'}\n"
     ]
    }
   ],
   "source": [
    "basket = {'apple', 'orange', 'apple', 'pear', 'orange', 'banana'}\n",
    "print(basket)  # 显示：{'orange', 'banana', 'pear', 'apple'}"
   ]
  },
  {
   "cell_type": "code",
   "execution_count": 50,
   "id": "95f1846a-1a7d-4c8e-afef-97860740a0ee",
   "metadata": {},
   "outputs": [
    {
     "data": {
      "text/plain": [
       "{'a': 1, 'b': 2}"
      ]
     },
     "execution_count": 50,
     "metadata": {},
     "output_type": "execute_result"
    }
   ],
   "source": [
    "my_dict = {'a': 1, 'b': 2}\n",
    "my_dict"
   ]
  },
  {
   "cell_type": "code",
   "execution_count": 54,
   "id": "afae9ad8-2099-4998-82c4-af45b403c807",
   "metadata": {},
   "outputs": [
    {
     "name": "stdout",
     "output_type": "stream",
     "text": [
      "{'r', 'b', 'd'}\n",
      "{'d', 'z', 'b', 'l', 'c', 'r', 'a', 'm'}\n",
      "{'a', 'c'}\n",
      "{'l', 'd', 'z', 'b', 'r', 'm'}\n",
      "{'r', 'd'}\n"
     ]
    }
   ],
   "source": [
    "# 集合操作\n",
    "\n",
    "a = set('abracadabra')\n",
    "b = set('alacazam')\n",
    "\n",
    "# 在a中但不在b中的字母\n",
    "print(a - b)  # {'r', 'd', 'b'}\n",
    "\n",
    "# 在a或b中的字母\n",
    "print(a | b)  # {'a', 'c', 'r', 'd', 'b', 'm', 'z', 'l'}\n",
    "\n",
    "# 同时在a和b中的字母\n",
    "print(a & b)  # {'a', 'c'}\n",
    "\n",
    "# 在a或b中但不同时在两者中的字母\n",
    "print(a ^ b)  # {'r', 'd', 'b', 'm', 'z', 'l'}\n",
    "\n",
    "# 集合推导\n",
    "a = {x for x in 'abracadabra' if x not in 'abc'}\n",
    "# 结果为：{'r', 'd'}\n",
    "print(a)"
   ]
  },
  {
   "cell_type": "code",
   "execution_count": 55,
   "id": "3a17936c-9726-4917-a399-83b0ee14633c",
   "metadata": {},
   "outputs": [
    {
     "data": {
      "text/plain": [
       "[1, 2, 3, 4, 5]"
      ]
     },
     "execution_count": 55,
     "metadata": {},
     "output_type": "execute_result"
    }
   ],
   "source": [
    "# 去除列表中的重复元素\n",
    "my_list = [1, 2, 2, 3, 4, 4, 5]\n",
    "unique_elements = list(set(my_list))\n",
    "unique_elements"
   ]
  },
  {
   "cell_type": "markdown",
   "id": "810d4276-4ed1-467f-82cb-533d9c699dbc",
   "metadata": {},
   "source": [
    "### 5.5 Dictionary\n",
    "\n",
    "- A dictionary is best thought of as a set of key:value pairs, with the requirement that the keys are unique within one dictionary.\n",
    "- You can create an empty dictionary with curly braces: {}\n",
    "-  if a tuple contains any mutable object either directly or indirectly, it cannot be used as a key.\n",
    "-  If you store using a key that is already in use, the old value associated with that key is forgotten.\n",
    "-  It is an error to extract a value using a non-existent key."
   ]
  },
  {
   "cell_type": "code",
   "execution_count": 57,
   "id": "7e7b05c9-1630-4402-b86e-d36a2b0f8921",
   "metadata": {},
   "outputs": [
    {
     "name": "stdout",
     "output_type": "stream",
     "text": [
      "{'jack': 4098, 'sape': 4139, 'guido': 4127}\n",
      "4098\n",
      "{'jack': 4098, 'guido': 4127, 'irv': 4127}\n"
     ]
    }
   ],
   "source": [
    "tel = {'jack': 4098, 'sape': 4139}\n",
    "tel['guido'] = 4127  # Add a new key-value pair\n",
    "print(tel)  # {'jack': 4098, 'sape': 4139, 'guido': 4127}\n",
    "print(tel['jack'])  # 4098\n",
    "\n",
    "del tel['sape']  # Delete a key-value pair\n",
    "tel['irv'] = 4127\n",
    "print(tel)  # {'jack': 4098, 'guido': 4127, 'irv': 4127}"
   ]
  },
  {
   "cell_type": "code",
   "execution_count": 58,
   "id": "0397275a-6204-4ecb-b232-62fd4d898e5b",
   "metadata": {},
   "outputs": [
    {
     "data": {
      "text/plain": [
       "False"
      ]
     },
     "execution_count": 58,
     "metadata": {},
     "output_type": "execute_result"
    }
   ],
   "source": [
    "list(tel)  # ['jack', 'guido', 'irv']\n",
    "sorted(tel)  # ['guido', 'irv', 'jack']\n",
    "'guido' in tel  # True\n",
    "'jack' not in tel  # False"
   ]
  },
  {
   "cell_type": "code",
   "execution_count": 59,
   "id": "1007bb53-9613-4391-9ace-ef02cb3ce34e",
   "metadata": {},
   "outputs": [
    {
     "data": {
      "text/plain": [
       "{'sape': 4139, 'guido': 4127, 'jack': 4098}"
      ]
     },
     "execution_count": 59,
     "metadata": {},
     "output_type": "execute_result"
    }
   ],
   "source": [
    "dict([('sape', 4139), ('guido', 4127), ('jack', 4098)])\n",
    "# {'sape': 4139, 'guido': 4127, 'jack': 4098}"
   ]
  },
  {
   "cell_type": "code",
   "execution_count": 60,
   "id": "4520a40f-06e7-4c6b-894a-fb40ce88a19f",
   "metadata": {},
   "outputs": [
    {
     "data": {
      "text/plain": [
       "{2: 4, 4: 16, 6: 36}"
      ]
     },
     "execution_count": 60,
     "metadata": {},
     "output_type": "execute_result"
    }
   ],
   "source": [
    "{x: x**2 for x in (2, 4, 6)}  # {2: 4, 4: 16, 6: 36}"
   ]
  },
  {
   "cell_type": "code",
   "execution_count": 61,
   "id": "72b20ce7-f9cd-4252-9978-cf0af0852374",
   "metadata": {},
   "outputs": [
    {
     "data": {
      "text/plain": [
       "{'sape': 4139, 'guido': 4127, 'jack': 4098}"
      ]
     },
     "execution_count": 61,
     "metadata": {},
     "output_type": "execute_result"
    }
   ],
   "source": [
    "dict(sape=4139, guido=4127, jack=4098)\n",
    "# {'sape': 4139, 'guido': 4127, 'jack': 4098}"
   ]
  },
  {
   "cell_type": "code",
   "execution_count": 62,
   "id": "b2a838f2-e83f-4e0f-b8cd-025303078a9c",
   "metadata": {},
   "outputs": [
    {
     "name": "stdout",
     "output_type": "stream",
     "text": [
      "{'这是一个示例文本': 1, '用于演示字典的实际应用': 1, '这个示例很简单': 1}\n"
     ]
    }
   ],
   "source": [
    "# 统计单词频率\n",
    "text = \"这是一个示例文本，用于演示字典的实际应用，这个示例很简单\"\n",
    "word_count = {}\n",
    "for word in text.split('，'):\n",
    "    if word in word_count:\n",
    "        word_count[word] += 1\n",
    "    else:\n",
    "        word_count[word] = 1\n",
    "print(word_count)\n",
    "\n",
    "# 使用defaultdict简化上述代码\n",
    "from collections import defaultdict\n",
    "word_count = defaultdict(int)\n",
    "for word in text.split('，'):\n",
    "    word_count[word] += 1"
   ]
  },
  {
   "cell_type": "code",
   "execution_count": 64,
   "id": "208dfb76-efb2-46e9-b96a-194399be1716",
   "metadata": {},
   "outputs": [
    {
     "data": {
      "text/plain": [
       "{'name': 'Alice', 'age': 25, 'city': 'Beijing'}"
      ]
     },
     "execution_count": 64,
     "metadata": {},
     "output_type": "execute_result"
    }
   ],
   "source": [
    "# person = dict(name=\"Alice\", age=25, city=\"Beijing\")\n",
    "\n",
    "person = dict(name=\"Alice\", age=25, city=\"Beijing\")\n",
    "person"
   ]
  },
  {
   "cell_type": "code",
   "execution_count": 66,
   "id": "6cc4ed75-3597-4f59-9ff7-7e35279508b3",
   "metadata": {},
   "outputs": [
    {
     "data": {
      "text/plain": [
       "{'user1': {'name': 'Alice', 'age': 25}, 'user2': {'name': 'Bob', 'age': 30}}"
      ]
     },
     "execution_count": 66,
     "metadata": {},
     "output_type": "execute_result"
    }
   ],
   "source": [
    "# 嵌套字典\n",
    "\n",
    "users = {\n",
    "    \"user1\": {\"name\": \"Alice\", \"age\": 25},\n",
    "    \"user2\": {\"name\": \"Bob\", \"age\": 30}\n",
    "}\n",
    "users"
   ]
  },
  {
   "cell_type": "code",
   "execution_count": 67,
   "id": "efb641e1-6fe5-4e9b-b00a-2aefd11d3bf6",
   "metadata": {},
   "outputs": [],
   "source": [
    "# 默认字典：collections.defaultdict 可以在访问不存在的键时返回一个默认值，而不是引发错误。\n",
    "\n",
    "from collections import defaultdict\n",
    "dd = defaultdict(int)\n",
    "dd[\"a\"] += 1  # 如果 \"a\" 不存在，会自动初始化为 0，然后加 1"
   ]
  },
  {
   "cell_type": "markdown",
   "id": "505a1609-1651-46c5-a1e1-043644659be9",
   "metadata": {},
   "source": [
    "### 5.6 Looping Techniques"
   ]
  },
  {
   "cell_type": "code",
   "execution_count": 68,
   "id": "66021ae9-fc8e-4dce-bcaa-c5eb1de0f732",
   "metadata": {},
   "outputs": [
    {
     "name": "stdout",
     "output_type": "stream",
     "text": [
      "gallahad the pure\n",
      "robin the brave\n"
     ]
    }
   ],
   "source": [
    "knights = {'gallahad': 'the pure', 'robin': 'the brave'}\n",
    "for k, v in knights.items():\n",
    "    print(k, v)"
   ]
  },
  {
   "cell_type": "code",
   "execution_count": 69,
   "id": "f695e277-70f2-4636-94b4-91017405bf2a",
   "metadata": {},
   "outputs": [
    {
     "name": "stdout",
     "output_type": "stream",
     "text": [
      "0 tic\n",
      "1 tac\n",
      "2 toe\n"
     ]
    }
   ],
   "source": [
    "# 当遍历一个序列时，可以使用enumerate()函数同时获取位置索引和对应的值：\n",
    "\n",
    "for i, v in enumerate(['tic', 'tac', 'toe']):\n",
    "    print(i, v)"
   ]
  },
  {
   "cell_type": "code",
   "execution_count": 77,
   "id": "ba612c94-68b3-4804-83cf-ea83aa56ba21",
   "metadata": {},
   "outputs": [
    {
     "name": "stdout",
     "output_type": "stream",
     "text": [
      "What is your name? It is lancelot.\n",
      "What is your quest? It is the holy grail.\n",
      "What is your favorite color? It is blue.\n"
     ]
    }
   ],
   "source": [
    "# 要同时遍历两个或多个序列，可以使用zip()函数将它们配对\n",
    "questions = ['name', 'quest', 'favorite color']\n",
    "answers = ['lancelot', 'the holy grail', 'blue']\n",
    "for q, a in zip(questions, answers):\n",
    "    print('What is your {0}? It is {1}.'.format(q, a))"
   ]
  },
  {
   "cell_type": "code",
   "execution_count": 81,
   "id": "9319856f-abbc-46f4-99ed-9f37344b2d32",
   "metadata": {},
   "outputs": [
    {
     "name": "stdout",
     "output_type": "stream",
     "text": [
      "9\n",
      "7\n",
      "5\n",
      "3\n",
      "1\n"
     ]
    }
   ],
   "source": [
    "# 反向遍历序列: 要按逆序遍历一个序列，先正向指定序列，然后调用reversed()函数\n",
    "\n",
    "for i in reversed(range(1, 10, 2)):\n",
    "    print(i)"
   ]
  },
  {
   "cell_type": "code",
   "execution_count": 84,
   "id": "f22f6d27-191a-4f7d-9030-42ca312317fc",
   "metadata": {},
   "outputs": [
    {
     "name": "stdout",
     "output_type": "stream",
     "text": [
      "apple\n",
      "apple\n",
      "banana\n",
      "orange\n",
      "orange\n",
      "pear\n"
     ]
    }
   ],
   "source": [
    "# 按顺序遍历序列\n",
    "# 要按排序后的顺序遍历一个序列，可以使用sorted()函数，它会返回一个新的已排序的列表，而不改变原序列\n",
    "\n",
    "basket = ['apple', 'orange', 'apple', 'pear', 'orange', 'banana']\n",
    "for i in sorted(basket):\n",
    "    print(i)"
   ]
  },
  {
   "cell_type": "code",
   "execution_count": 86,
   "id": "e60793b8-3f62-4e4e-b287-9aed6118cf98",
   "metadata": {},
   "outputs": [
    {
     "name": "stdout",
     "output_type": "stream",
     "text": [
      "apple\n",
      "banana\n",
      "orange\n",
      "pear\n"
     ]
    }
   ],
   "source": [
    "# 去除重复项并排序\n",
    "# 使用set()对序列去重，再结合sorted()对结果排序，是遍历序列中唯一元素并按排序顺序输出的常用方式\n",
    "\n",
    "basket = ['apple', 'orange', 'apple', 'pear', 'orange', 'banana']\n",
    "for f in sorted(set(basket)):\n",
    "    print(f)"
   ]
  },
  {
   "cell_type": "code",
   "execution_count": 87,
   "id": "78feab01-f10e-4efe-a577-eb8d6d49e80e",
   "metadata": {},
   "outputs": [],
   "source": [
    "import math\n",
    "raw_data = [56.2, float('NaN'), 51.7, 55.3, 52.5, float('NaN'), 47.8]\n",
    "filtered_data = []\n",
    "for value in raw_data:\n",
    "    if not math.isnan(value):\n",
    "        filtered_data.append(value)"
   ]
  },
  {
   "cell_type": "code",
   "execution_count": 89,
   "id": "44d2874f-ac0e-4561-b5f9-05008f3d6497",
   "metadata": {},
   "outputs": [
    {
     "data": {
      "text/plain": [
       "[56.2, 51.7, 55.3, 52.5, 47.8]"
      ]
     },
     "execution_count": 89,
     "metadata": {},
     "output_type": "execute_result"
    }
   ],
   "source": [
    "filtered_data = [56.2, 51.7, 55.3, 52.5, 47.8]\n",
    "filtered_data"
   ]
  },
  {
   "cell_type": "markdown",
   "id": "7c47f3ed-bafd-4b15-b5f1-749a0cdfc641",
   "metadata": {},
   "source": [
    "### 5.7 More on Conditions 解读\n",
    "\n",
    "- 布尔操作符：not 具有最高优先级，or 具有最低优先级\n",
    "- 短路逻辑: and 和 or 是\"短路\"操作符，从左到右求值，一旦结果确定就停止计算\n",
    "- 赋值操作符：在 Python 中，条件表达式内的赋值必须使用海象操作符 :="
   ]
  },
  {
   "cell_type": "code",
   "execution_count": 90,
   "id": "0bdcf848-cb6b-49aa-aac7-ea013beae13d",
   "metadata": {},
   "outputs": [
    {
     "name": "stdout",
     "output_type": "stream",
     "text": [
      "x 在列表中\n",
      "y 在1到10之间\n",
      "长度 5 大于 3\n"
     ]
    }
   ],
   "source": [
    "# 成员测试\n",
    "x = 10\n",
    "if x in [1, 2, 10]:\n",
    "    print(\"x 在列表中\")\n",
    "\n",
    "# 比较链接\n",
    "y = 5\n",
    "if 1 < y < 10:\n",
    "    print(\"y 在1到10之间\")\n",
    "\n",
    "# 短路逻辑\n",
    "result = \"\" or \"默认值\"  # result 将为 \"默认值\"\n",
    "\n",
    "# 海象操作符（Python 3.8+）\n",
    "if (n := len(\"hello\")) > 3:\n",
    "    print(f\"长度 {n} 大于 3\")"
   ]
  },
  {
   "cell_type": "code",
   "execution_count": 91,
   "id": "a103cc8f-2407-412e-bf4f-f38ca05e442a",
   "metadata": {},
   "outputs": [
    {
     "data": {
      "text/plain": [
       "'Trondheim'"
      ]
     },
     "execution_count": 91,
     "metadata": {},
     "output_type": "execute_result"
    }
   ],
   "source": [
    "string1, string2, string3 = '', 'Trondheim', 'Hammer Dance'\n",
    "non_null = string1 or string2 or string3\n",
    "non_null"
   ]
  },
  {
   "cell_type": "markdown",
   "id": "eacfbfa6-a8d7-45ed-bae6-9afcf041dada",
   "metadata": {},
   "source": [
    "### 5.8 \n",
    "\n",
    "- 首先比较序列的第一个元素\n",
    "- 如果第一个元素不同，比较结果就由这两个元素的比较结果决定\n",
    "- 如果第一个元素相同，则比较第二个元素，以此类推\n",
    "- 如果所有被比较的元素都相等，则认为这两个序列相等\n",
    "- 如果一个序列是另一个序列的开头子序列，则较短的序列被视为较小的序列"
   ]
  },
  {
   "cell_type": "code",
   "execution_count": 93,
   "id": "f68dd015-6245-44dd-b284-8f24543d49e5",
   "metadata": {},
   "outputs": [
    {
     "data": {
      "text/plain": [
       "True"
      ]
     },
     "execution_count": 93,
     "metadata": {},
     "output_type": "execute_result"
    }
   ],
   "source": [
    "(1, 2, 3) < (1, 2, 4)          # True，因为第三个元素 3 < 4\n",
    "[1, 2, 3] < [1, 2, 4]          # True，同上原理\n",
    "'ABC' < 'C' < 'Pascal' < 'Python'  # 全部为True，按字典序比较\n",
    "(1, 2, 3, 4) < (1, 2, 4)       # True，因为第三个元素 3 < 4\n",
    "(1, 2) < (1, 2, -1)            # True，较短的序列是子序列\n",
    "(1, 2, 3) == (1.0, 2.0, 3.0)   # True，数值按值比较而非类型\n",
    "(1, 2, ('aa', 'ab')) < (1, 2, ('abc', 'a'), 4)  # True，递归进行字典序比较"
   ]
  },
  {
   "cell_type": "markdown",
   "id": "ed931876-f7b0-4905-8c4d-effd0e154a0e",
   "metadata": {},
   "source": [
    "### 6. Modules"
   ]
  }
 ],
 "metadata": {
  "kernelspec": {
   "display_name": "Python 3 (ipykernel)",
   "language": "python",
   "name": "python3"
  },
  "language_info": {
   "codemirror_mode": {
    "name": "ipython",
    "version": 3
   },
   "file_extension": ".py",
   "mimetype": "text/x-python",
   "name": "python",
   "nbconvert_exporter": "python",
   "pygments_lexer": "ipython3",
   "version": "3.12.8"
  }
 },
 "nbformat": 4,
 "nbformat_minor": 5
}
