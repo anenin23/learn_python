{
 "cells": [
  {
   "cell_type": "markdown",
   "id": "579ebf3c-b6af-45b1-a6e1-0bced38af99e",
   "metadata": {},
   "source": [
    "### 关于枚举\n",
    "当你需要表示一组有限的、预定义的相关常量值（如状态、选项、类别）并希望获得类型安全、代码可读性和防止无效值错误时，应该使用枚举类。\n",
    "\n",
    "- 好处: 更清晰\\更有组织\n",
    "- 可以通过枚举来引用, 而不是直接使用字符串\n",
    "\n",
    "经典用法:"
   ]
  },
  {
   "cell_type": "code",
   "execution_count": 2,
   "id": "ec23c0b0-2769-4096-ab32-f9ced769ec36",
   "metadata": {},
   "outputs": [
    {
     "name": "stdout",
     "output_type": "stream",
     "text": [
      "任务初始状态: PENDING\n",
      "状态描述: 等待中\n",
      "任务 '数据备份' 开始运行\n",
      "任务 '数据备份' 已完成\n",
      "无法启动任务：当前状态为 COMPLETED\n",
      "任务 '系统更新' 开始运行\n",
      "任务 '系统更新' 已取消\n"
     ]
    }
   ],
   "source": [
    "from enum import Enum, auto\n",
    "\n",
    "# 定义一个表示任务状态的枚举类\n",
    "class TaskStatus(Enum):\n",
    "    # auto() 函数会自动分配递增的整数值（1, 2, 3...）\n",
    "    PENDING = auto()    # 待处理状态\n",
    "    RUNNING = auto()    # 运行中状态\n",
    "    COMPLETED = auto()  # 已完成状态\n",
    "    FAILED = auto()     # 失败状态\n",
    "    CANCELLED = auto()  # 已取消状态\n",
    "\n",
    "# 任务类，使用枚举来表示任务状态\n",
    "class Task:\n",
    "    def __init__(self, name):\n",
    "        self.name = name                 # 任务名称\n",
    "        self.status = TaskStatus.PENDING # 初始状态设为待处理\n",
    "    \n",
    "    def start(self):\n",
    "        # 只有待处理的任务才能启动\n",
    "        if self.status == TaskStatus.PENDING:\n",
    "            print(f\"任务 '{self.name}' 开始运行\")\n",
    "            self.status = TaskStatus.RUNNING  # 更新状态为运行中\n",
    "        else:\n",
    "            print(f\"无法启动任务：当前状态为 {self.status.name}\")\n",
    "    \n",
    "    def complete(self):\n",
    "        # 只有运行中的任务才能完成\n",
    "        if self.status == TaskStatus.RUNNING:\n",
    "            print(f\"任务 '{self.name}' 已完成\")\n",
    "            self.status = TaskStatus.COMPLETED  # 更新状态为已完成\n",
    "        else:\n",
    "            print(f\"无法完成任务：当前状态为 {self.status.name}\")\n",
    "    \n",
    "    def fail(self):\n",
    "        # 只有运行中的任务才能失败\n",
    "        if self.status == TaskStatus.RUNNING:\n",
    "            print(f\"任务 '{self.name}' 失败\")\n",
    "            self.status = TaskStatus.FAILED  # 更新状态为失败\n",
    "        else:\n",
    "            print(f\"无法将任务标记为失败：当前状态为 {self.status.name}\")\n",
    "    \n",
    "    def cancel(self):\n",
    "        # 只有待处理或运行中的任务才能取消\n",
    "        if self.status in [TaskStatus.PENDING, TaskStatus.RUNNING]:\n",
    "            print(f\"任务 '{self.name}' 已取消\")\n",
    "            self.status = TaskStatus.CANCELLED  # 更新状态为已取消\n",
    "        else:\n",
    "            print(f\"无法取消任务：当前状态为 {self.status.name}\")\n",
    "    \n",
    "    def get_status_description(self):\n",
    "        # 使用字典将枚举值映射到人类可读的描述\n",
    "        descriptions = {\n",
    "            TaskStatus.PENDING: \"等待中\",\n",
    "            TaskStatus.RUNNING: \"执行中\",\n",
    "            TaskStatus.COMPLETED: \"已完成\",\n",
    "            TaskStatus.FAILED: \"执行失败\",\n",
    "            TaskStatus.CANCELLED: \"已取消\"\n",
    "        }\n",
    "        return descriptions[self.status]\n",
    "\n",
    "# 使用示例\n",
    "if __name__ == \"__main__\":\n",
    "    # 创建一个新任务\n",
    "    task = Task(\"数据备份\")\n",
    "    \n",
    "    print(f\"任务初始状态: {task.status.name}\")  # 输出：PENDING\n",
    "    print(f\"状态描述: {task.get_status_description()}\")  # 输出：等待中\n",
    "    \n",
    "    # 执行任务状态转换\n",
    "    task.start()      # 任务开始运行\n",
    "    task.complete()   # 任务完成\n",
    "    \n",
    "    # 尝试再次启动已完成的任务\n",
    "    task.start()      # 会提示错误，因为任务已完成\n",
    "    \n",
    "    # 创建另一个任务并演示取消操作\n",
    "    another_task = Task(\"系统更新\")\n",
    "    another_task.start()\n",
    "    another_task.cancel()  # 取消正在运行的任务"
   ]
  },
  {
   "cell_type": "code",
   "execution_count": 3,
   "id": "0ce22d29-b959-44b3-91b9-5e0be5e402d0",
   "metadata": {},
   "outputs": [
    {
     "name": "stdout",
     "output_type": "stream",
     "text": [
      "5\n"
     ]
    }
   ],
   "source": [
    "i = 5\n",
    "\n",
    "def f(arg=i):\n",
    "    print(arg)\n",
    "\n",
    "i = 6\n",
    "f()"
   ]
  },
  {
   "cell_type": "markdown",
   "id": "05605523-f21a-4c76-8bce-54df3a429a9b",
   "metadata": {},
   "source": [
    "当默认参数是列表、字典这样的可变对象时，\n",
    "\n",
    "一定要用None作为默认值，然后在函数内部创建新的对象。"
   ]
  },
  {
   "cell_type": "code",
   "execution_count": 6,
   "id": "484bce5f-4867-4e6e-8271-8518f4e7b155",
   "metadata": {},
   "outputs": [],
   "source": [
    "def parrot(voltage, state='a stiff', action='voom', type='Norwegian Blue'):\n",
    "    print(\"-- This parrot wouldn't\", action, end=' ')\n",
    "    print(\"if you put\", voltage, \"volts through it.\")\n",
    "    print(\"-- Lovely plumage, the\", type)\n",
    "    print(\"-- It's\", state, \"!\")"
   ]
  },
  {
   "cell_type": "code",
   "execution_count": 7,
   "id": "a1bf3206-19d9-447a-8554-f6d066581494",
   "metadata": {},
   "outputs": [
    {
     "name": "stdout",
     "output_type": "stream",
     "text": [
      "-- This parrot wouldn't voom if you put 1000 volts through it.\n",
      "-- Lovely plumage, the Norwegian Blue\n",
      "-- It's a stiff !\n",
      "-- This parrot wouldn't voom if you put 1000 volts through it.\n",
      "-- Lovely plumage, the Norwegian Blue\n",
      "-- It's a stiff !\n",
      "-- This parrot wouldn't VOOOOOM if you put 1000000 volts through it.\n",
      "-- Lovely plumage, the Norwegian Blue\n",
      "-- It's a stiff !\n",
      "-- This parrot wouldn't VOOOOOM if you put 1000000 volts through it.\n",
      "-- Lovely plumage, the Norwegian Blue\n",
      "-- It's a stiff !\n",
      "-- This parrot wouldn't jump if you put a million volts through it.\n",
      "-- Lovely plumage, the Norwegian Blue\n",
      "-- It's bereft of life !\n",
      "-- This parrot wouldn't voom if you put a thousand volts through it.\n",
      "-- Lovely plumage, the Norwegian Blue\n",
      "-- It's pushing up the daisies !\n"
     ]
    }
   ],
   "source": [
    "parrot(1000)                                          # 1 positional argument\n",
    "parrot(voltage=1000)                                  # 1 keyword argument\n",
    "parrot(voltage=1000000, action='VOOOOOM')             # 2 keyword arguments\n",
    "parrot(action='VOOOOOM', voltage=1000000)             # 2 keyword arguments\n",
    "parrot('a million', 'bereft of life', 'jump')         # 3 positional arguments\n",
    "parrot('a thousand', state='pushing up the daisies')  # 1 positional, 1 keyword"
   ]
  },
  {
   "cell_type": "code",
   "execution_count": 8,
   "id": "d1ad3bdb-7a30-4aea-a87e-82b24caf2969",
   "metadata": {},
   "outputs": [
    {
     "ename": "SyntaxError",
     "evalue": "positional argument follows keyword argument (3425694748.py, line 2)",
     "output_type": "error",
     "traceback": [
      "\u001b[0;36m  Cell \u001b[0;32mIn[8], line 2\u001b[0;36m\u001b[0m\n\u001b[0;31m    parrot(voltage=5.0, 'dead')  # non-keyword argument after a keyword argument\u001b[0m\n\u001b[0m                              ^\u001b[0m\n\u001b[0;31mSyntaxError\u001b[0m\u001b[0;31m:\u001b[0m positional argument follows keyword argument\n"
     ]
    }
   ],
   "source": [
    "parrot()                     # required argument missing\n",
    "parrot(voltage=5.0, 'dead')  # non-keyword argument after a keyword argument\n",
    "parrot(110, voltage=220)     # duplicate value for the same argument\n",
    "parrot(actor='John Cleese')  # unknown keyword argument"
   ]
  },
  {
   "cell_type": "code",
   "execution_count": 9,
   "id": "19b306ba-943d-45aa-a313-959945196b2d",
   "metadata": {},
   "outputs": [
    {
     "ename": "TypeError",
     "evalue": "function() got multiple values for argument 'a'",
     "output_type": "error",
     "traceback": [
      "\u001b[0;31m---------------------------------------------------------------------------\u001b[0m",
      "\u001b[0;31mTypeError\u001b[0m                                 Traceback (most recent call last)",
      "Cell \u001b[0;32mIn[9], line 4\u001b[0m\n\u001b[1;32m      1\u001b[0m \u001b[38;5;28;01mdef\u001b[39;00m \u001b[38;5;21mfunction\u001b[39m(a):\n\u001b[1;32m      2\u001b[0m     \u001b[38;5;28;01mpass\u001b[39;00m\n\u001b[0;32m----> 4\u001b[0m function(\u001b[38;5;241m0\u001b[39m, a\u001b[38;5;241m=\u001b[39m\u001b[38;5;241m0\u001b[39m)\n",
      "\u001b[0;31mTypeError\u001b[0m: function() got multiple values for argument 'a'"
     ]
    }
   ],
   "source": [
    "def function(a):\n",
    "    pass\n",
    "\n",
    "function(0, a=0)"
   ]
  },
  {
   "cell_type": "markdown",
   "id": "0b09dbd5-77ed-42ed-a99d-7c32eededb11",
   "metadata": {},
   "source": [
    "当你直接对字典进行循环（for kw in keywords）时，Python 默认只会遍历字典的键（keys）。\n",
    "\n",
    "- 在 / 之前 的参数 只能用位置传递，不能使用关键字。\n",
    "- / 后面，* 之前 的参数 可以用位置或关键字传递。\n",
    "- \\* 后面 的参数 必须使用关键字传递。\n",
    "    def f(a, *, b):\n",
    "    print(a, b)\n",
    "\n",
    "•\t位置参数（positional-only）\n",
    "\n",
    "•\t避免用户依赖参数名称，保证调用时严格按顺序。\n",
    "\n",
    "•\t适用于 API 设计，未来即使修改参数名，也不会影响用户代码。\n",
    "\n",
    "•\t关键字参数（keyword-only）\n",
    "\n",
    "•\t让代码更加 可读，调用时参数名明确，避免混淆。\n",
    "\n",
    "•\t防止用户在不同 Python 版本或 API 变更后受到影响。\n",
    "\n",
    "💡 重要点：*args 必须放在普通参数之后，否则 Python 会无法解析参数。\n",
    "\n",
    "def concat(*args, sep=\"/\"):\n",
    "    return sep.join(args)\n",
    "\n",
    "concat(\"earth\", \"mars\", \"venus\", sep=\".\") \n",
    "\\# 指定分隔符 sep=\".\"\n",
    "\\# 结果: 'earth.mars.venus'\n",
    "\n",
    "•\tsep=\"/\" 是 关键字参数（keyword-only argument），必须使用 sep=... 这种形式传入，不能作为位置参数传递。\n",
    "\n",
    "•\t由于 *args 吞掉了所有的位置参数，因此 sep 必须 作为关键字传入，否则 Python 会不知道 sep 应该对应哪个参数。\n"
   ]
  },
  {
   "cell_type": "code",
   "execution_count": 10,
   "id": "17657ed2-8e40-4d31-b1e8-bdd0f5aab39f",
   "metadata": {},
   "outputs": [
    {
     "data": {
      "text/plain": [
       "[3, 4, 5]"
      ]
     },
     "execution_count": 10,
     "metadata": {},
     "output_type": "execute_result"
    }
   ],
   "source": [
    "args = [3, 6]\n",
    "list(range(*args))   # call with arguments unpacked from a list"
   ]
  },
  {
   "cell_type": "code",
   "execution_count": 11,
   "id": "4bd6fe90-07d2-4dac-92bd-c07d4263dc73",
   "metadata": {},
   "outputs": [
    {
     "name": "stdout",
     "output_type": "stream",
     "text": [
      "-- This parrot wouldn't VOOM if you put four million volts through it. E's bleedin' demised !\n"
     ]
    }
   ],
   "source": [
    "def parrot(voltage, state='a stiff', action='voom'):\n",
    "    print(\"-- This parrot wouldn't\", action, end=' ')\n",
    "    print(\"if you put\", voltage, \"volts through it.\", end=' ')\n",
    "    print(\"E's\", state, \"!\")\n",
    "\n",
    "d = {\"voltage\": \"four million\", \"state\": \"bleedin' demised\", \"action\": \"VOOM\"}\n",
    "parrot(**d)"
   ]
  },
  {
   "cell_type": "markdown",
   "id": "e0672f8f-5265-4135-9151-c897ce68b698",
   "metadata": {},
   "source": [
    "这很像我们上一个例子中的*解包操作符，但**是专门用于字典的，它会把字典的键作为参数名，把字典的值作为参数值。"
   ]
  },
  {
   "cell_type": "markdown",
   "id": "745fdebd-0b23-4f1c-9f5f-56c16de07c6a",
   "metadata": {},
   "source": [
    "Lambda 表达式: 简单的计算规则, 没有正式的名字\n",
    "ambda a, b: a+b # 接受2个函数, 返回 a+ b的值\n",
    "\n",
    "lambda 参数1, 参数2, ...: 表达式\n",
    "\n",
    "Lambda 适合什么场景？\n",
    "\t\n",
    "    1.\t需要一个小函数，但不想写 def\n",
    "\t2.\t用于 key 进行排序\n",
    "\t3.\t用于 map()、filter()、reduce()\n",
    "\n",
    "map(function, iterable)\n",
    "- map() 是 Python 内置函数，它会对 iterable（可迭代对象）里的每个元素应用 function，然后返回一个 map 对象（需要 list() 转换成列表）。"
   ]
  },
  {
   "cell_type": "markdown",
   "id": "c557eb9a-caa3-4f55-9327-3fd14b4d99a9",
   "metadata": {},
   "source": [
    "### list.pop 和 list.remove 的比较\n",
    "\n",
    "#### 1. 删除方式不同\n",
    "- `list.pop(i)`: 通过**位置(索引)**删除元素\n",
    "- `list.remove(x)`: 通过**值**删除元素\n",
    "\n",
    "#### 2. 参数不同\n",
    "- `list.pop(i)`: 参数是索引位置（如果不提供参数，默认删除最后一个元素）\n",
    "- `list.remove(x)`: 参数是要删除的元素值\n",
    "\n",
    "#### 3. 返回值不同\n",
    "- `list.pop(i)`: 返回被删除的元素\n",
    "- `list.remove(x)`: 不返回任何值（返回None）\n",
    "\n",
    "#### 4. 当元素重复时的行为\n",
    "- `list.pop(i)`: 只删除指定位置的那一个元素\n",
    "- `list.remove(x)`: 只删除第一个匹配的元素\n",
    "\n",
    "### 举例说明\n",
    "\n",
    "```python\n",
    "水果 = ['苹果', '香蕉', '橙子', '香蕉']\n",
    "\n",
    "# 使用pop删除第1个位置的元素（即'香蕉'）\n",
    "被删除的水果 = 水果.pop(1)\n",
    "print(被删除的水果)  # 输出: 香蕉\n",
    "print(水果)  # 输出: ['苹果', '橙子', '香蕉']\n",
    "\n",
    "# 重新创建列表\n",
    "水果 = ['苹果', '香蕉', '橙子', '香蕉']\n",
    "\n",
    "# 使用remove删除值为'香蕉'的元素\n",
    "水果.remove('香蕉')\n",
    "print(水果)  # 输出: ['苹果', '橙子', '香蕉'] - 只删除了第一个'香蕉'\n",
    "```\n",
    "\n",
    "### 用生活中的例子比喻：\n",
    "\n",
    "想象一下你有一排玩具：\n",
    "- `list.pop`就像你说：\"我要拿走第3个位置的玩具\"（不管那个位置是什么玩具）\n",
    "- `list.remove`就像你说：\"我要拿走小熊玩具\"（不管它在哪个位置，只拿走看到的第一个）"
   ]
  },
  {
   "cell_type": "markdown",
   "id": "2b73cc8c-4c87-40ec-924e-fe28fd333c17",
   "metadata": {},
   "source": [
    "### collections.deque（双端队列）。它可以快速地在两端进行添加和删除操作\n",
    "\n",
    "- 用deque比用普通列表更好，因为它就像一个特别设计的队伍，人们可以从前面或后面快速进出，不会让其他人移动位置。"
   ]
  },
  {
   "cell_type": "code",
   "execution_count": 12,
   "id": "5369a1cb-fa81-49c4-b88f-e0227628f830",
   "metadata": {},
   "outputs": [
    {
     "data": {
      "text/plain": [
       "deque(['Michael', 'Terry', 'Graham'])"
      ]
     },
     "execution_count": 12,
     "metadata": {},
     "output_type": "execute_result"
    }
   ],
   "source": [
    "from collections import deque\n",
    "queue = deque([\"Eric\", \"John\", \"Michael\"])  # 创建一个队列，里面已经有三个人\n",
    "queue.append(\"Terry\")                       # Terry加入队伍末尾\n",
    "queue.append(\"Graham\")                      # Graham也加入队伍末尾\n",
    "queue.popleft()                             # 第一个到达的人（Eric）现在离开\n",
    "queue.popleft()                             # 第二个到达的人（John）现在离开\n",
    "queue                                       # 剩下的队列按到达顺序排列"
   ]
  },
  {
   "cell_type": "code",
   "execution_count": 14,
   "id": "0e8f5298-0b02-4201-8536-586e94f3d620",
   "metadata": {},
   "outputs": [
    {
     "name": "stdout",
     "output_type": "stream",
     "text": [
      "冰淇淋店开门了！目前没有人排队。\n",
      "当前队伍: []\n",
      "\n",
      "小明来了，站在队伍末尾\n",
      "当前队伍: ['小明']\n",
      "\n",
      "小红来了，站在队伍末尾\n",
      "当前队伍: ['小明', '小红']\n",
      "\n",
      "小张来了，站在队伍末尾\n",
      "当前队伍: ['小明', '小红', '小张']\n",
      "\n",
      "小明买完冰淇淋离开了\n",
      "小明离开了队伍\n",
      "当前队伍: ['小红', '小张']\n",
      "\n",
      "小李来了，他是店员的朋友，直接站在队伍最前面\n",
      "当前队伍: ['小李', '小红', '小张']\n",
      "\n",
      "小王来了，站在队伍末尾\n",
      "当前队伍: ['小李', '小红', '小张', '小王']\n",
      "\n",
      "小李买完冰淇淋离开了\n",
      "小李离开了队伍\n",
      "当前队伍: ['小红', '小张', '小王']\n",
      "\n",
      "现在队伍中的人（按顺序）:\n",
      "第1位: 小红\n",
      "第2位: 小张\n",
      "第3位: 小王\n"
     ]
    }
   ],
   "source": [
    "# 首先导入deque\n",
    "from collections import deque\n",
    "\n",
    "# 创建一个空队列表示冰淇淋店前的队伍\n",
    "ice_cream_line = deque()\n",
    "print(\"冰淇淋店开门了！目前没有人排队。\")\n",
    "print(f\"当前队伍: {list(ice_cream_line)}\")\n",
    "\n",
    "# 有人开始排队\n",
    "print(\"\\n小明来了，站在队伍末尾\")\n",
    "ice_cream_line.append(\"小明\")\n",
    "print(f\"当前队伍: {list(ice_cream_line)}\")\n",
    "\n",
    "print(\"\\n小红来了，站在队伍末尾\")\n",
    "ice_cream_line.append(\"小红\")\n",
    "print(f\"当前队伍: {list(ice_cream_line)}\")\n",
    "\n",
    "print(\"\\n小张来了，站在队伍末尾\")\n",
    "ice_cream_line.append(\"小张\")\n",
    "print(f\"当前队伍: {list(ice_cream_line)}\")\n",
    "\n",
    "# 队伍前面的人买完冰淇淋离开\n",
    "print(\"\\n小明买完冰淇淋离开了\")\n",
    "first_person = ice_cream_line.popleft()\n",
    "print(f\"{first_person}离开了队伍\")\n",
    "print(f\"当前队伍: {list(ice_cream_line)}\")\n",
    "\n",
    "# 有人插队到最前面（通常这是不礼貌的，但在代码中我们可以这样做）\n",
    "print(\"\\n小李来了，他是店员的朋友，直接站在队伍最前面\")\n",
    "ice_cream_line.appendleft(\"小李\")\n",
    "print(f\"当前队伍: {list(ice_cream_line)}\")\n",
    "\n",
    "# 再有人从末尾加入\n",
    "print(\"\\n小王来了，站在队伍末尾\")\n",
    "ice_cream_line.append(\"小王\")\n",
    "print(f\"当前队伍: {list(ice_cream_line)}\")\n",
    "\n",
    "# 继续服务队伍前面的人\n",
    "print(\"\\n小李买完冰淇淋离开了\")\n",
    "next_person = ice_cream_line.popleft()\n",
    "print(f\"{next_person}离开了队伍\")\n",
    "print(f\"当前队伍: {list(ice_cream_line)}\")\n",
    "\n",
    "# 打印最终的队伍情况\n",
    "print(\"\\n现在队伍中的人（按顺序）:\")\n",
    "for position, person in enumerate(ice_cream_line, 1):\n",
    "    print(f\"第{position}位: {person}\")"
   ]
  },
  {
   "cell_type": "markdown",
   "id": "87293233-6e5f-43c7-a33a-5d9f7bd26cfa",
   "metadata": {},
   "source": [
    "# 列表解析式（List Comprehension）\n",
    "\n",
    "列表解析式是创建列表的一种简洁方法。它们通常用于：\n",
    "1. 对另一个序列中的每个元素进行某种操作，创建新列表\n",
    "2. 创建满足特定条件的元素子序列\n",
    "\n",
    "## 用两种方式创建平方数列表\n",
    "\n",
    "### 方法一：使用循环和append\n",
    "\n",
    "```python\n",
    "squares = []\n",
    "for x in range(10):\n",
    "    squares.append(x**2)\n",
    "print(squares)\n",
    "# 输出: [0, 1, 4, 9, 16, 25, 36, 49, 64, 81]\n",
    "```\n",
    "\n",
    "这种方法使用循环创建了一个x变量，循环结束后x变量仍然存在。\n",
    "\n",
    "### 方法二：使用列表解析式\n",
    "\n",
    "```python\n",
    "squares = [x**2 for x in range(10)]\n",
    "print(squares)\n",
    "# 输出: [0, 1, 4, 9, 16, 25, 36, 49, 64, 81]\n",
    "```\n",
    "\n",
    "列表解析式更简洁易读，是Python中常用的写法。\n",
    "\n",
    "### 另一种等效方法：使用map和lambda函数\n",
    "\n",
    "```python\n",
    "squares = list(map(lambda x: x**2, range(10)))\n",
    "```\n",
    "\n",
    "这种方法功能相同，但不如列表解析式直观。\n",
    "\n",
    "## 用中文解释一下列表解析式\n",
    "\n",
    "列表解析式就像一个制作列表的小工厂。想象你有10个数字（0到9），你想把每个数字变成它的平方。\n",
    "\n",
    "传统方法就像手工操作：\n",
    "1. 准备一个空盒子(空列表)\n",
    "2. 拿起每个数字，计算它的平方\n",
    "3. 把结果放入盒子\n",
    "\n",
    "列表解析式就像一台自动机器：\n",
    "- 你告诉机器：\"把这些数字(range(10))都变成平方(x**2)，然后放进新盒子里\"\n",
    "- 机器一次性完成所有工作\n",
    "\n",
    "`[x**2 for x in range(10)]`的意思是：\n",
    "\"对于range(10)中的每个x，计算x的平方，然后把所有结果放在一个新列表中\""
   ]
  },
  {
   "cell_type": "code",
   "execution_count": 16,
   "id": "17247dce-34e2-4e52-b6c4-b8b5abd256af",
   "metadata": {},
   "outputs": [
    {
     "name": "stdout",
     "output_type": "stream",
     "text": [
      "[0, 1, 4, 9, 16, 25, 36, 49, 64, 81]\n"
     ]
    }
   ],
   "source": [
    "squares = [x**2 for x in range(10)]\n",
    "print(squares)\n",
    "# 输出: [0, 1, 4, 9, 16, 25, 36, 49, 64, 81]"
   ]
  },
  {
   "cell_type": "code",
   "execution_count": 17,
   "id": "837fc794-ffb8-4365-be11-5cdae2d78d87",
   "metadata": {},
   "outputs": [],
   "source": [
    "squares = list(map(lambda x: x**2, range(10)))"
   ]
  },
  {
   "cell_type": "code",
   "execution_count": 19,
   "id": "040b7e48-8e8e-48cc-8569-83c386b43a10",
   "metadata": {},
   "outputs": [
    {
     "name": "stdout",
     "output_type": "stream",
     "text": [
      "[0, 1, 4, 9, 16, 25, 36, 49, 64, 81]\n"
     ]
    }
   ],
   "source": [
    "print(squares)"
   ]
  },
  {
   "cell_type": "markdown",
   "id": "025413b8-753a-41ed-b0b2-cc2d47b48033",
   "metadata": {},
   "source": [
    "# Python列表推导式解释\n",
    "\n",
    "列表推导式是Python中创建列表的一种简洁方法。它就像是一个快速制作列表的公式。\n",
    "\n",
    "## 基本结构\n",
    "\n",
    "列表推导式的基本结构是：\n",
    "```python\n",
    "[表达式 for 变量 in 可迭代对象 if 条件]\n",
    "```\n",
    "\n",
    "想象一下，这就像是一个制作饼干的过程：\n",
    "- 表达式：饼干的形状\n",
    "- for循环：重复制作多个饼干\n",
    "- if条件：只保留符合要求的饼干\n",
    "\n",
    "## 例子解释\n",
    "\n",
    "让我们看看你提供的第一个例子：\n",
    "```python\n",
    "[(x, y) for x in [1,2,3] for y in [3,1,4] if x != y]\n",
    "```\n",
    "\n",
    "这相当于：\n",
    "```python\n",
    "combs = []\n",
    "for x in [1,2,3]:\n",
    "    for y in [3,1,4]:\n",
    "        if x != y:\n",
    "            combs.append((x, y))\n",
    "```\n",
    "\n",
    "这段代码：\n",
    "1. 遍历x的三个可能值：1, 2, 3\n",
    "2. 对于每个x值，遍历y的三个可能值：3, 1, 4\n",
    "3. 只保留x和y不相等的组合\n",
    "4. 结果是所有满足条件的(x,y)组合\n",
    "\n",
    "## 其他例子\n",
    "\n",
    "1. 将列表中的值翻倍：\n",
    "```python\n",
    "[x*2 for x in vec]  # 将vec列表中的每个数字乘以2\n",
    "```\n",
    "\n",
    "2. 过滤掉负数：\n",
    "```python\n",
    "[x for x in vec if x >= 0]  # 只保留大于等于0的数\n",
    "```\n",
    "\n",
    "3. 对每个元素应用函数：\n",
    "```python\n",
    "[abs(x) for x in vec]  # 对每个数字取绝对值\n",
    "```\n",
    "\n",
    "4. 处理字符串：\n",
    "```python\n",
    "[weapon.strip() for weapon in freshfruit]  # 去除每个水果名称的空格\n",
    "```\n",
    "\n",
    "5. 创建数字和平方的对组：\n",
    "```python\n",
    "[(x, x**2) for x in range(6)]  # 创建0到5的数字及其平方值的组合\n",
    "```\n",
    "\n",
    "## 注意事项\n",
    "\n",
    "1. 如果表达式是元组(比如(x, y))，必须加括号，否则会出错\n",
    "2. 可以嵌套多个for循环\n",
    "3. 可以使用复杂表达式和嵌套函数"
   ]
  },
  {
   "cell_type": "markdown",
   "id": "32661a4b-ceb9-457c-a760-bf7d57831e8f",
   "metadata": {},
   "source": [
    "# Python中的`del`语句\n",
    "\n",
    "## `del`语句的作用\n",
    "\n",
    "`del`语句可以通过索引(位置)来删除列表中的项目，这和`pop()`方法不同，因为`pop()`会返回删除的值。`del`语句还可以用来：\n",
    "- 删除列表中的一部分（切片）\n",
    "- 清空整个列表\n",
    "- 删除整个变量\n",
    "\n",
    "## 例子解释\n",
    "\n",
    "例子中展示了几种使用方式：\n",
    "\n",
    "1. 删除列表中的单个元素：\n",
    "```python\n",
    "a = [-1, 1, 66.25, 333, 333, 1234.5]\n",
    "del a[0]  # 删除第一个元素\n",
    "# 结果: [1, 66.25, 333, 333, 1234.5]\n",
    "```\n",
    "\n",
    "2. 删除列表中的一个范围（切片）：\n",
    "```python\n",
    "del a[2:4]  # 删除索引2到3的元素\n",
    "# 结果: [1, 66.25, 1234.5]\n",
    "```\n",
    "\n",
    "3. 清空整个列表：\n",
    "```python\n",
    "del a[:]  # 删除所有元素\n",
    "# 结果: []\n",
    "```\n",
    "\n",
    "4. 删除整个变量：\n",
    "```python\n",
    "del a  # 删除变量a\n",
    "# 此后使用a会导致错误，除非你重新给a赋值\n",
    "```\n",
    "\n",
    "## 用食物盒子来解释\n",
    "\n",
    "想象一下，列表就像一个有编号格子的食物盒子：\n",
    "- `del a[0]`就像把第1号格子的食物拿走\n",
    "- `del a[2:4]`就像把第3号和第4号格子的食物都拿走\n",
    "- `del a[:]`就像把所有格子的食物都拿走，但盒子还在\n",
    "- `del a`就像把整个食物盒子都扔掉了"
   ]
  },
  {
   "cell_type": "markdown",
   "id": "8549a046-af4d-4ec8-98e8-12ec367073be",
   "metadata": {},
   "source": [
    "# Python中的元组（Tuple）\n",
    "\n",
    "元组就像是一个装着不同物品的盒子，一旦封好盒子就不能改变里面的东西了。\n",
    "\n",
    "## 基本概念\n",
    "- 元组是Python中的一种数据类型，可以存储多个值\n",
    "- 元组用小括号`()`来表示，里面的值用逗号分隔\n",
    "- 元组创建后不能修改（不可变immutable）\n",
    "\n",
    "## 元组的例子\n",
    "```python\n",
    "t = 12345, 54321, 'hello!'  # 创建一个元组\n",
    "print(t[0])  # 输出12345（第一个元素）\n",
    "print(t)     # 输出整个元组 (12345, 54321, 'hello!')\n",
    "```\n",
    "\n",
    "## 元组的特点\n",
    "\n",
    "1. **元组可以嵌套**：一个元组里可以包含另一个元组\n",
    "   ```python\n",
    "   u = t, (1, 2, 3, 4, 5)  # 嵌套元组\n",
    "   ```\n",
    "\n",
    "2. **元组不可修改**：创建后不能改变元素值\n",
    "   ```python\n",
    "   t[0] = 88888  # 错误！会出现TypeError\n",
    "   ```\n",
    "\n",
    "3. **元组可以包含可修改的对象**：比如列表\n",
    "   ```python\n",
    "   v = ([1, 2, 3], [3, 2, 1])  # 元组包含两个列表\n",
    "   ```\n",
    "\n",
    "## 元组vs列表的区别\n",
    "- 元组（tuple）是**不可变的**：就像密封的盒子，封好后不能改变里面的东西\n",
    "- 列表（list）是**可变的**：就像开放的盒子，随时可以取出或放入东西\n",
    "\n",
    "## 特殊的元组语法\n",
    "1. **空元组**：使用空的小括号 `()`\n",
    "   ```python\n",
    "   empty = ()\n",
    "   ```\n",
    "\n",
    "2. **单元素元组**：需要在值后面加逗号\n",
    "   ```python\n",
    "   singleton = 'hello',  # 注意后面的逗号很重要！\n",
    "   ```\n",
    "\n",
    "## 元组的打包和解包\n",
    "- **打包**：把多个值放入一个元组\n",
    "  ```python\n",
    "  t = 12345, 54321, 'hello!'  # 打包三个值到元组t\n",
    "  ```\n",
    "\n",
    "- **解包**：把元组中的值分别赋给多个变量\n",
    "  ```python\n",
    "  x, y, z = t  # x=12345, y=54321, z='hello!'\n",
    "  ```\n",
    "\n",
    "就像有一个装着苹果、橙子和香蕉的袋子（打包），然后你把每种水果分别拿出来放在不同的盘子里（解包）。\n",
    "\n",
    "元组解包时，左边的变量数量必须和元组中的元素数量相同。"
   ]
  },
  {
   "cell_type": "code",
   "execution_count": 20,
   "id": "099d16ca-dbbf-498d-9103-a13f6dbced76",
   "metadata": {},
   "outputs": [
    {
     "data": {
      "text/plain": [
       "(12345, 54321, 'hello!')"
      ]
     },
     "execution_count": 20,
     "metadata": {},
     "output_type": "execute_result"
    }
   ],
   "source": [
    "t = 12345, 54321, 'hello!' \n",
    "t"
   ]
  },
  {
   "cell_type": "code",
   "execution_count": 22,
   "id": "2a5932d3-4b7d-4b9c-9205-d7b0c0d3ffb4",
   "metadata": {},
   "outputs": [
    {
     "name": "stdout",
     "output_type": "stream",
     "text": [
      "1234\n",
      "(1234,)\n"
     ]
    }
   ],
   "source": [
    "t = 1234\n",
    "print(t)\n",
    "t1 = 1234,\n",
    "print(t1)"
   ]
  },
  {
   "cell_type": "markdown",
   "id": "67b581dc-9690-463a-b5d0-83d09716b66e",
   "metadata": {},
   "source": [
    "# Python 集合（Sets）\n",
    "\n",
    "集合是一种很特别的 Python 数据类型，就像一个装东西的篮子，但是有两个特点：\n",
    "1. 里面的东西没有顺序\n",
    "2. 不能放重复的东西\n",
    "\n",
    "想象有一个玩具盒。在这个玩具盒里，每种玩具只能放一个，不能重复。而且，你放进去的顺序并不重要，因为当你再次打开盒子时，玩具可能已经混在一起了。这就像 Python 的集合。\n",
    "\n",
    "## 如何创建集合\n",
    "\n",
    "```python\n",
    "# 方法一：使用花括号 {} 创建集合\n",
    "水果篮子 = {'苹果', '橙子', '香蕉', '苹果'}  # 注意：第二个'苹果'会被自动删除\n",
    "print(水果篮子)  # 输出: {'苹果', '橙子', '香蕉'}\n",
    "\n",
    "# 方法二：使用 set() 函数创建集合\n",
    "动物 = set(['猫', '狗', '兔子'])\n",
    "print(动物)  # 输出: {'猫', '狗', '兔子'}\n",
    "\n",
    "# 创建空集合\n",
    "空集合 = set()  # 注意：不能用 {} 创建空集合，那会创建空字典\n",
    "```\n",
    "\n",
    "## 集合的基本操作\n",
    "\n",
    "### 1. 检查元素是否在集合中\n",
    "\n",
    "```python\n",
    "水果篮子 = {'苹果', '橙子', '香蕉'}\n",
    "print('苹果' in 水果篮子)  # 输出: True\n",
    "print('梨' in 水果篮子)    # 输出: False\n",
    "```\n",
    "\n",
    "### 2. 集合的数学运算\n",
    "\n",
    "想象你和朋友各有一盒贴纸：\n",
    "\n",
    "```python\n",
    "我的贴纸 = {'星星', '月亮', '太阳', '彩虹'}\n",
    "朋友的贴纸 = {'星星', '月亮', '云', '雨'}\n",
    "```\n",
    "\n",
    "- **并集 (|)**: 把两盒贴纸都倒出来，去掉重复的\n",
    "  ```python\n",
    "  所有贴纸 = 我的贴纸 | 朋友的贴纸\n",
    "  print(所有贴纸)  # 输出: {'星星', '月亮', '太阳', '彩虹', '云', '雨'}\n",
    "  ```\n",
    "\n",
    "- **交集 (&)**: 只保留两人都有的贴纸\n",
    "  ```python\n",
    "  共同的贴纸 = 我的贴纸 & 朋友的贴纸\n",
    "  print(共同的贴纸)  # 输出: {'星星', '月亮'}\n",
    "  ```\n",
    "\n",
    "- **差集 (-)**: 我有但朋友没有的贴纸\n",
    "  ```python\n",
    "  我独有的贴纸 = 我的贴纸 - 朋友的贴纸\n",
    "  print(我独有的贴纸)  # 输出: {'太阳', '彩虹'}\n",
    "  ```\n",
    "\n",
    "- **对称差集 (^)**: 两人中只有一人有的贴纸\n",
    "  ```python\n",
    "  不重复的贴纸 = 我的贴纸 ^ 朋友的贴纸\n",
    "  print(不重复的贴纸)  # 输出: {'太阳', '彩虹', '云', '雨'}\n",
    "  ```\n",
    "\n",
    "## 集合推导式\n",
    "\n",
    "就像列表推导式一样，集合也可以用简短的方式创建：\n",
    "\n",
    "```python\n",
    "# 从字符串中提取不在'abc'中的字母\n",
    "字母集合 = {字母 for 字母 in '你好世界' if 字母 not in 'abc'}\n",
    "print(字母集合)  # 输出: {'你', '好', '世', '界'}\n",
    "```\n",
    "\n",
    "集合很有用，尤其是当你需要：\n",
    "1. 快速检查某个东西是否存在\n",
    "2. 去除重复项\n",
    "3. 进行数学集合运算"
   ]
  },
  {
   "cell_type": "markdown",
   "id": "f6786ce3-196c-4788-9056-ea332ae23358",
   "metadata": {},
   "source": [
    "### 创建"
   ]
  },
  {
   "cell_type": "code",
   "execution_count": 23,
   "id": "fa906bbd-ce16-49b4-b6cf-4e7bd85446a8",
   "metadata": {},
   "outputs": [
    {
     "name": "stdout",
     "output_type": "stream",
     "text": [
      "{'香蕉', '橙子', '苹果'}\n"
     ]
    }
   ],
   "source": [
    "水果篮子 = {'苹果', '橙子', '香蕉', '苹果'} \n",
    "print(水果篮子)"
   ]
  },
  {
   "cell_type": "code",
   "execution_count": 24,
   "id": "7d8502c7-34b9-4ffc-8a94-2336a8269796",
   "metadata": {},
   "outputs": [
    {
     "name": "stdout",
     "output_type": "stream",
     "text": [
      "{'兔子', '狗', '猫'}\n"
     ]
    }
   ],
   "source": [
    "# 方法二：使用 set() 函数创建集合\n",
    "动物 = set(['猫', '狗', '兔子'])\n",
    "print(动物) "
   ]
  },
  {
   "cell_type": "markdown",
   "id": "8818127b-b745-4241-8dc5-efbf65f42123",
   "metadata": {},
   "source": [
    "### 运算"
   ]
  },
  {
   "cell_type": "code",
   "execution_count": 27,
   "id": "03a83910-e2cb-4c55-b49c-79116ed7ce80",
   "metadata": {},
   "outputs": [
    {
     "name": "stdout",
     "output_type": "stream",
     "text": [
      "True\n"
     ]
    }
   ],
   "source": [
    "# 检查元素是否在集合中\n",
    "print('苹果' in 水果篮子) "
   ]
  },
  {
   "cell_type": "code",
   "execution_count": 29,
   "id": "eb249e58-82c1-4c4a-aebc-832ddfaa7d9c",
   "metadata": {},
   "outputs": [
    {
     "name": "stdout",
     "output_type": "stream",
     "text": [
      "{'雨', '月亮', '彩虹', '星星', '太阳', '云'}\n"
     ]
    }
   ],
   "source": [
    "# 并集 (|): 把两盒贴纸都倒出来，去掉重复的\n",
    "\n",
    "我的贴纸 = {'星星', '月亮', '太阳', '彩虹'}\n",
    "朋友的贴纸 = {'星星', '月亮', '云', '雨'}\n",
    "\n",
    "所有贴纸 = 我的贴纸 | 朋友的贴纸\n",
    "\n",
    "print(所有贴纸)"
   ]
  },
  {
   "cell_type": "code",
   "execution_count": 30,
   "id": "7cb8ea29-0dd7-4ce8-812d-7c1d6d4733c2",
   "metadata": {},
   "outputs": [
    {
     "name": "stdout",
     "output_type": "stream",
     "text": [
      "{'月亮', '星星'}\n"
     ]
    }
   ],
   "source": [
    "# 交集 (&): 只保留两人都有的贴纸\n",
    "\n",
    "共同的贴纸 = 我的贴纸 & 朋友的贴纸\n",
    "print(共同的贴纸) "
   ]
  },
  {
   "cell_type": "code",
   "execution_count": 31,
   "id": "6fa9443e-b1d4-4222-a6fe-08e189c3ebaa",
   "metadata": {},
   "outputs": [
    {
     "name": "stdout",
     "output_type": "stream",
     "text": [
      "{'彩虹', '太阳'}\n"
     ]
    }
   ],
   "source": [
    "# 差集 (-): 我有但朋友没有的贴纸\n",
    "\n",
    "我独有的贴纸 = 我的贴纸 - 朋友的贴纸\n",
    "print(我独有的贴纸)"
   ]
  },
  {
   "cell_type": "code",
   "execution_count": 32,
   "id": "f69b8706-21a6-4e71-8ebb-12a9c479e4ed",
   "metadata": {},
   "outputs": [
    {
     "name": "stdout",
     "output_type": "stream",
     "text": [
      "{'雨', '彩虹', '太阳', '云'}\n"
     ]
    }
   ],
   "source": [
    "# 对称差集 (^): 两人中只有一人有的贴纸\n",
    "\n",
    "不重复的贴纸 = 我的贴纸 ^ 朋友的贴纸\n",
    "print(不重复的贴纸)"
   ]
  },
  {
   "cell_type": "code",
   "execution_count": 33,
   "id": "a0c62fd9-4e04-47e9-adea-4331e9f209d9",
   "metadata": {},
   "outputs": [
    {
     "name": "stdout",
     "output_type": "stream",
     "text": [
      "{'你', '世', '界', '好'}\n"
     ]
    }
   ],
   "source": [
    "# 集合推导式 \n",
    "\n",
    "# 从字符串中提取不在'abc'中的字母\n",
    "字母集合 = {字母 for 字母 in '你好世界' if 字母 not in 'abc'}\n",
    "print(字母集合) "
   ]
  },
  {
   "cell_type": "markdown",
   "id": "6570f4db-1e8d-4854-b187-8afa522df4ed",
   "metadata": {},
   "source": [
    "### 什么时候想到用集合\n",
    "\n",
    "- 快速检查某个东西是否存在\n",
    "- 去掉重复项\n",
    "- 进行数学集合运算"
   ]
  },
  {
   "cell_type": "markdown",
   "id": "5005dd6c-b5f6-4d9d-8122-58a152d4ad9f",
   "metadata": {},
   "source": [
    "## 字典\n",
    "字典（dict） 是一种 键值对（key-value） 结构\n",
    "\n",
    "当以下几种情况下会想到用字典:\n",
    "\n",
    "- 需要存储和快速查找数据, 查找快, 键(名字)更直观\n",
    "\t- 解释 : 相比用列表 [['Alice', 90], ['Bob', 85]] 这样存数据，字典的键更好理解\n",
    "- 需要使用\"唯一键\"来标识数据, 键应该是严格意义上不可变的, 具有\"唯一性\"\n",
    "- 需要对数据进行分组\n",
    "\t-方便管理分类:不同类别的数据可以存储在不同的键里，方便查询和修改。\n",
    "- 需要使用默认值\n",
    "    - 键不存在也不会报错，而是返回默认值，可以用字典的 get() 方法\n",
    "\n",
    "  ```python\n",
    "    ages = {\"Alice\": 25, \"Bob\": 30}\n",
    "    print(ages.get(\"Charlie\", \"未知\"))  # Charlie 不存在，返回 \"未知\"\n",
    "  ```\n",
    "- 需要统计数据\n",
    "- 需要用灵活的数据结构"
   ]
  },
  {
   "cell_type": "code",
   "execution_count": 38,
   "id": "2558c245-2f4b-4d78-add5-4ae65fee2b97",
   "metadata": {},
   "outputs": [
    {
     "name": "stdout",
     "output_type": "stream",
     "text": [
      "{'h': 1, 'e': 1, 'l': 2, 'o': 1}\n"
     ]
    }
   ],
   "source": [
    "text = \"hello\"\n",
    "count = {}\n",
    "\n",
    "for char in text:\n",
    "    count[char] = count.get(char, 0) + 1\n",
    "\n",
    "print(count)  # {'h': 1, 'e': 1, 'l': 2, 'o': 1}"
   ]
  },
  {
   "cell_type": "markdown",
   "id": "a045e8b9-7ea2-4efe-b310-6c482a86c97a",
   "metadata": {},
   "source": [
    "#### 对上述代码的解释\n",
    "\n",
    "  当循环处理第一个\"l\"时：\n",
    "\n",
    "  char 的值是 'l'\n",
    "  count.get(char, 0) 尝试从字典 count 中获取键 'l' 的值\n",
    "  因为这是我们第一次遇到 'l'，字典中还没有这个键\n",
    "  .get() 方法返回默认值 0\n",
    "  0 + 1 等于 1\n",
    "  最后，count['l'] = 1 将键值对 'l': 1 添加到字典中\n",
    "\n",
    "  此时字典的内容是：{'h': 1, 'e': 1, 'l': 1}\n",
    "第二次遇到\"l\"（第四个字符）:\n",
    "当循环处理第二个\"l\"时：\n",
    "\n",
    "char 的值仍然是 'l'\n",
    "但这次 count.get(char, 0) 会找到已经存在的键 'l'\n",
    "它返回当前的值 1\n",
    "1 + 1 等于 2\n",
    "count['l'] = 2 将键 'l' 的值从 1 更新为 2\n",
    "\n",
    "此时字典的内容变成：{'h': 1, 'e': 1, 'l': 2}\n",
    "这就是为什么在最终结果中 'l': 2，表示字符'l'在字符串\"hello\"中出现了两次。\n"
   ]
  },
  {
   "cell_type": "markdown",
   "id": "48596ad1-99c5-4752-a277-92eeddc6e1a3",
   "metadata": {},
   "source": [
    "#### 灵活的数据结构实例"
   ]
  },
  {
   "cell_type": "code",
   "execution_count": 40,
   "id": "4fbb29cd-d4a0-4761-af66-063910f7e3de",
   "metadata": {},
   "outputs": [
    {
     "name": "stdout",
     "output_type": "stream",
     "text": [
      "New York\n"
     ]
    }
   ],
   "source": [
    "user = {\n",
    "    \"name\": \"Alice\",\n",
    "    \"age\": 25,\n",
    "    \"hobbies\": [\"reading\", \"traveling\"],\n",
    "    \"address\": {\"city\": \"New York\", \"zip\": \"10001\"}\n",
    "}\n",
    "print(user[\"address\"][\"city\"])  "
   ]
  },
  {
   "cell_type": "code",
   "execution_count": null,
   "id": "40bfdb8b-5a80-4ab2-b41c-6928efc41504",
   "metadata": {},
   "outputs": [],
   "source": []
  }
 ],
 "metadata": {
  "kernelspec": {
   "display_name": "Python 3 (ipykernel)",
   "language": "python",
   "name": "python3"
  },
  "language_info": {
   "codemirror_mode": {
    "name": "ipython",
    "version": 3
   },
   "file_extension": ".py",
   "mimetype": "text/x-python",
   "name": "python",
   "nbconvert_exporter": "python",
   "pygments_lexer": "ipython3",
   "version": "3.12.8"
  }
 },
 "nbformat": 4,
 "nbformat_minor": 5
}
