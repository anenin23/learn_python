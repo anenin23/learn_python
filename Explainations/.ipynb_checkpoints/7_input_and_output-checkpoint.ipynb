{
 "cells": [
  {
   "cell_type": "markdown",
   "id": "5ea51bd2-45b8-44af-985c-5b1799664c22",
   "metadata": {},
   "source": [
    "## 7.1 Python输出格式化\n",
    "\n",
    "根据Python教程的7.1节内容，我来为你详细解释Python中的输出格式化方法。\n",
    "\n",
    "#### 输出格式化概述\n",
    "\n",
    "在Python中，有多种方式来格式化输出：\n",
    "\n",
    "1. **f-字符串**（格式化字符串字面量）\n",
    "2. **str.format()方法**\n",
    "3. **手动字符串格式化**\n",
    "4. **旧式字符串格式化**（%运算符）\n",
    "\n",
    "#### 1. f-字符串\n",
    "\n",
    "f-字符串是Python 3.6引入的一种简洁方式，使用前缀`f`或`F`：\n",
    "\n",
    "```python\n",
    "year = 2016\n",
    "event = 'Referendum'\n",
    "print(f'Results of the {year} {event}')  # 输出: Results of the 2016 Referendum\n",
    "```\n",
    "\n",
    "f-字符串可以包含格式说明符，控制值的显示方式：\n",
    "\n",
    "```python\n",
    "import math\n",
    "print(f'The value of pi is approximately {math.pi:.3f}.')  # 保留3位小数\n",
    "```\n",
    "\n",
    "你还可以指定字段宽度，使列对齐：\n",
    "\n",
    "```python\n",
    "table = {'Sjoerd': 4127, 'Jack': 4098, 'Dcab': 7678}\n",
    "for name, phone in table.items():\n",
    "    print(f'{name:10} ==> {phone:10d}')\n",
    "```\n",
    "\n",
    "f-字符串还支持`=`说明符，它可以显示表达式文本和结果：\n",
    "\n",
    "```python\n",
    "bugs = 'roaches'\n",
    "count = 13\n",
    "print(f'Debugging {bugs=} {count=}')  # 输出: Debugging bugs='roaches' count=13\n",
    "```\n",
    "\n",
    "#### 2. str.format()方法\n",
    "\n",
    "`str.format()`是另一种格式化字符串的方法：\n",
    "\n",
    "```python\n",
    "print('We are the {} who say \"{}!\"'.format('knights', 'Ni'))\n",
    "# 输出: We are the knights who say \"Ni!\"\n",
    "```\n",
    "\n",
    "格式字段中的数字可以指定参数位置：\n",
    "\n",
    "```python\n",
    "print('{0} and {1}'.format('spam', 'eggs'))  # 输出: spam and eggs\n",
    "print('{1} and {0}'.format('spam', 'eggs'))  # 输出: eggs and spam\n",
    "```\n",
    "\n",
    "也可以使用关键字参数：\n",
    "\n",
    "```python\n",
    "print('This {food} is {adjective}.'.format(food='spam', adjective='horrible'))\n",
    "# 输出: This spam is horrible.\n",
    "```\n",
    "\n",
    "如果你有一个很长的格式字符串，可以通过名称而不是位置引用变量：\n",
    "\n",
    "```python\n",
    "table = {'Sjoerd': 4127, 'Jack': 4098, 'Dcab': 8637678}\n",
    "print('Jack: {0[Jack]:d}; Sjoerd: {0[Sjoerd]:d}'.format(table))\n",
    "# 输出: Jack: 4098; Sjoerd: 4127\n",
    "```\n",
    "\n",
    "或者使用`**`语法传递表格字典：\n",
    "\n",
    "```python\n",
    "print('Jack: {Jack:d}; Sjoerd: {Sjoerd:d}'.format(**table))\n",
    "# 输出: Jack: 4098; Sjoerd: 4127\n",
    "```\n",
    "\n",
    "#### 3. 手动字符串格式化\n",
    "\n",
    "你也可以手动格式化字符串，例如使用`str.rjust()`方法右对齐字符串：\n",
    "\n",
    "```python\n",
    "for x in range(1, 11):\n",
    "    print(repr(x).rjust(2), repr(x*x).rjust(3), end=' ')\n",
    "    print(repr(x*x*x).rjust(4))\n",
    "```\n",
    "\n",
    "其他常用的字符串方法包括：\n",
    "- `str.ljust()` - 左对齐\n",
    "- `str.center()` - 居中对齐\n",
    "- `str.zfill()` - 用零填充数字字符串\n",
    "\n",
    "#### 4. 旧式字符串格式化\n",
    "\n",
    "`%`运算符也可用于字符串格式化（类似于C语言的`printf`）：\n",
    "\n",
    "```python\n",
    "import math\n",
    "print('The value of pi is approximately %5.3f.' % math.pi)\n",
    "# 输出: The value of pi is approximately 3.142.\n",
    "```\n",
    "\n",
    "#### 学习建议\n",
    "\n",
    "1. **多练习f-字符串**：f-字符串是最现代、最易读的格式化方法，将其作为首选。\n",
    "\n",
    "2. **理解格式规范**：学习各种格式化标记（如`:.2f`表示保留2位小数），这在处理数值数据时特别有用。\n",
    "\n",
    "3. **尝试对齐输出**：当你需要创建表格样式的输出时，练习使用字段宽度说明符（如`{name:10}`）。\n",
    "\n",
    "4. **案例分析**：创建一个小型数据分析程序，格式化输出不同类型的数据（文本、数字、百分比等），这将帮助你熟悉不同的格式化需求。\n",
    "\n",
    "5. **比较不同方法**：尝试用不同的格式化方法实现同一个输出，理解它们的优缺点。\n",
    "\n",
    "6. **处理复杂数据**：练习格式化嵌套的数据结构（如字典列表），了解如何访问和显示深层次的数据。\n",
    "\n",
    "7. **注意精度问题**：在处理浮点数时，理解格式化可以控制显示精度，但不会改变底层的精度问题。\n",
    "\n",
    "格式化输出是编程中的基础技能，掌握好它将使你的程序输出更加专业、易读。当你继续学习时，你会发现这些技巧在数据处理、报告生成和用户交互等多个方面都非常有用。\n",
    "- str() 适合用户友好的输出，repr() 适合开发和调试。\n",
    "- 在 f-string 或 format() 里，!s 代表 str()，!r 代表 repr()，!a 代表 ascii()。\n",
    "- 如果只实现了 __repr__()，那么 str() 也会使用 __repr__()。\n",
    "\n",
    "- str() = 让人看懂\n",
    "- repr() = 让 Python 代码看懂（或者开发者调试）"
   ]
  },
  {
   "cell_type": "code",
   "execution_count": 1,
   "id": "3901f02a-6342-45a0-8e17-353c9ed3e393",
   "metadata": {},
   "outputs": [
    {
     "data": {
      "text/plain": [
       "'Results of the 2016 Referendum'"
      ]
     },
     "execution_count": 1,
     "metadata": {},
     "output_type": "execute_result"
    }
   ],
   "source": [
    "year = 2016\n",
    "event = 'Referendum'\n",
    "f'Results of the {year} {event}'"
   ]
  },
  {
   "cell_type": "code",
   "execution_count": 2,
   "id": "398426c7-9ddf-4eef-aeec-e472bbe99c73",
   "metadata": {},
   "outputs": [
    {
     "data": {
      "text/plain": [
       "' 42572654 YES votes  49.67%'"
      ]
     },
     "execution_count": 2,
     "metadata": {},
     "output_type": "execute_result"
    }
   ],
   "source": [
    "yes_votes = 42_572_654\n",
    "total_votes = 85_705_149\n",
    "percentage = yes_votes / total_votes\n",
    "'{:-9} YES votes  {:2.2%}'.format(yes_votes, percentage)"
   ]
  },
  {
   "cell_type": "code",
   "execution_count": 3,
   "id": "94a75336-dff3-46c0-a7fc-37c3cb82cf1f",
   "metadata": {},
   "outputs": [
    {
     "data": {
      "text/plain": [
       "'Hello, world.'"
      ]
     },
     "execution_count": 3,
     "metadata": {},
     "output_type": "execute_result"
    }
   ],
   "source": [
    "s = 'Hello, world.'\n",
    "str(s)"
   ]
  },
  {
   "cell_type": "code",
   "execution_count": 4,
   "id": "f5797557-a454-4213-a44f-2c36c47d5d82",
   "metadata": {},
   "outputs": [
    {
     "data": {
      "text/plain": [
       "\"'Hello, world.'\""
      ]
     },
     "execution_count": 4,
     "metadata": {},
     "output_type": "execute_result"
    }
   ],
   "source": [
    "repr(s)"
   ]
  },
  {
   "cell_type": "code",
   "execution_count": 5,
   "id": "565cdcde-c738-4151-8b75-aa23b98f9c9e",
   "metadata": {},
   "outputs": [
    {
     "data": {
      "text/plain": [
       "'0.14285714285714285'"
      ]
     },
     "execution_count": 5,
     "metadata": {},
     "output_type": "execute_result"
    }
   ],
   "source": [
    "str(1/7)"
   ]
  },
  {
   "cell_type": "code",
   "execution_count": 8,
   "id": "c7919fc3-d300-49c9-afee-89c3890745f7",
   "metadata": {},
   "outputs": [
    {
     "name": "stdout",
     "output_type": "stream",
     "text": [
      "The value of x is 32.5, and y is 40000...\n"
     ]
    }
   ],
   "source": [
    "x = 10 * 3.25\n",
    "y = 200 * 200\n",
    "s = 'The value of x is ' + repr(x) + ', and y is ' + repr(y) + '...'\n",
    "print(s)"
   ]
  },
  {
   "cell_type": "code",
   "execution_count": 9,
   "id": "e02cf037-57e1-4475-aa63-910700192a08",
   "metadata": {},
   "outputs": [
    {
     "name": "stdout",
     "output_type": "stream",
     "text": [
      "'hello, world\\n'\n"
     ]
    }
   ],
   "source": [
    "hello = 'hello, world\\n'\n",
    "hellos = repr(hello)\n",
    "print(hellos)"
   ]
  },
  {
   "cell_type": "code",
   "execution_count": 10,
   "id": "8d92eb8e-8127-4e5b-895f-5bfcd170e2eb",
   "metadata": {},
   "outputs": [
    {
     "data": {
      "text/plain": [
       "\"(32.5, 40000, ('spam', 'eggs'))\""
      ]
     },
     "execution_count": 10,
     "metadata": {},
     "output_type": "execute_result"
    }
   ],
   "source": [
    "repr((x, y, ('spam', 'eggs')))"
   ]
  },
  {
   "cell_type": "code",
   "execution_count": 11,
   "id": "3e4f0145-b484-480c-93be-a5331530be9b",
   "metadata": {},
   "outputs": [
    {
     "name": "stdout",
     "output_type": "stream",
     "text": [
      "The value of pi is approximately 3.142.\n"
     ]
    }
   ],
   "source": [
    "import math\n",
    "print(f'The value of pi is approximately {math.pi:.3f}.')"
   ]
  },
  {
   "cell_type": "code",
   "execution_count": 12,
   "id": "7ec5036e-62f1-4637-83a7-c56c311474f9",
   "metadata": {},
   "outputs": [
    {
     "name": "stdout",
     "output_type": "stream",
     "text": [
      "Sjoerd     ==>       4127\n",
      "Jack       ==>       4098\n",
      "Dcab       ==>       7678\n"
     ]
    }
   ],
   "source": [
    "table = {'Sjoerd': 4127, 'Jack': 4098, 'Dcab': 7678}\n",
    "for name, phone in table.items():\n",
    "    print(f'{name:10} ==> {phone:10d}')"
   ]
  },
  {
   "cell_type": "code",
   "execution_count": 16,
   "id": "86672984-3310-4769-9af9-7e5a7908f4a8",
   "metadata": {},
   "outputs": [
    {
     "name": "stdout",
     "output_type": "stream",
     "text": [
      "My hovercraft is full of eels.\n",
      "My hovercraft is full of 'eels'.\n"
     ]
    }
   ],
   "source": [
    "animals = 'eels'\n",
    "print(f'My hovercraft is full of {animals}.')\n",
    "print(f'My hovercraft is full of {animals!r}.')"
   ]
  },
  {
   "cell_type": "code",
   "execution_count": 17,
   "id": "644e127b-50e9-41cb-a5bb-75f7fb0b857e",
   "metadata": {},
   "outputs": [
    {
     "name": "stdout",
     "output_type": "stream",
     "text": [
      "Debugging bugs='roaches' count=13 area='living room'\n"
     ]
    }
   ],
   "source": [
    "bugs = 'roaches'\n",
    "count = 13\n",
    "area = 'living room'\n",
    "print(f'Debugging {bugs=} {count=} {area=}')"
   ]
  },
  {
   "cell_type": "code",
   "execution_count": 18,
   "id": "ac31d36d-beae-4cd5-b8b1-03f03bb46076",
   "metadata": {},
   "outputs": [
    {
     "name": "stdout",
     "output_type": "stream",
     "text": [
      "Info: name='Alice' age=25 height=1.68\n"
     ]
    }
   ],
   "source": [
    "name = \"Alice\"\n",
    "age = 25\n",
    "height = 1.68\n",
    "print(f'Info: {name=} {age=} {height=}')"
   ]
  },
  {
   "cell_type": "code",
   "execution_count": 19,
   "id": "e37177b7-43da-4d9f-bee0-33191e32906d",
   "metadata": {},
   "outputs": [
    {
     "name": "stdout",
     "output_type": "stream",
     "text": [
      " 1   1    1\n",
      " 2   4    8\n",
      " 3   9   27\n",
      " 4  16   64\n",
      " 5  25  125\n",
      " 6  36  216\n",
      " 7  49  343\n",
      " 8  64  512\n",
      " 9  81  729\n",
      "10 100 1000\n"
     ]
    }
   ],
   "source": [
    "for x in range(1, 11):\n",
    "    print(repr(x).rjust(2), repr(x*x).rjust(3), end=' ')\n",
    "    # Note use of 'end' on previous line\n",
    "    print(repr(x*x*x).rjust(4))"
   ]
  },
  {
   "cell_type": "code",
   "execution_count": 20,
   "id": "8994e855-4327-473f-89d4-375ea71f4631",
   "metadata": {},
   "outputs": [
    {
     "name": "stdout",
     "output_type": "stream",
     "text": [
      "The value of pi is approximately 3.142.\n"
     ]
    }
   ],
   "source": [
    "import math\n",
    "print('The value of pi is approximately %5.3f.' % math.pi)"
   ]
  },
  {
   "cell_type": "markdown",
   "id": "bfd329d6-9533-4581-ad16-3f2fdca059ae",
   "metadata": {},
   "source": [
    "## 7.2"
   ]
  }
 ],
 "metadata": {
  "kernelspec": {
   "display_name": "Python 3 (ipykernel)",
   "language": "python",
   "name": "python3"
  },
  "language_info": {
   "codemirror_mode": {
    "name": "ipython",
    "version": 3
   },
   "file_extension": ".py",
   "mimetype": "text/x-python",
   "name": "python",
   "nbconvert_exporter": "python",
   "pygments_lexer": "ipython3",
   "version": "3.12.8"
  }
 },
 "nbformat": 4,
 "nbformat_minor": 5
}
