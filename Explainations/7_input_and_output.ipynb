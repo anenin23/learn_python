{
 "cells": [
  {
   "cell_type": "markdown",
   "id": "5ea51bd2-45b8-44af-985c-5b1799664c22",
   "metadata": {},
   "source": [
    "## 7.1 Python输出格式化\n",
    "\n",
    "根据Python教程的7.1节内容，我来为你详细解释Python中的输出格式化方法。\n",
    "\n",
    "#### 输出格式化概述\n",
    "\n",
    "在Python中，有多种方式来格式化输出：\n",
    "\n",
    "1. **f-字符串**（格式化字符串字面量）\n",
    "2. **str.format()方法**\n",
    "3. **手动字符串格式化**\n",
    "4. **旧式字符串格式化**（%运算符）\n",
    "\n",
    "#### 1. f-字符串\n",
    "\n",
    "f-字符串是Python 3.6引入的一种简洁方式，使用前缀`f`或`F`：\n",
    "\n",
    "```python\n",
    "year = 2016\n",
    "event = 'Referendum'\n",
    "print(f'Results of the {year} {event}')  # 输出: Results of the 2016 Referendum\n",
    "```\n",
    "\n",
    "f-字符串可以包含格式说明符，控制值的显示方式：\n",
    "\n",
    "```python\n",
    "import math\n",
    "print(f'The value of pi is approximately {math.pi:.3f}.')  # 保留3位小数\n",
    "```\n",
    "\n",
    "你还可以指定字段宽度，使列对齐：\n",
    "\n",
    "```python\n",
    "table = {'Sjoerd': 4127, 'Jack': 4098, 'Dcab': 7678}\n",
    "for name, phone in table.items():\n",
    "    print(f'{name:10} ==> {phone:10d}')\n",
    "```\n",
    "\n",
    "f-字符串还支持`=`说明符，它可以显示表达式文本和结果：\n",
    "\n",
    "```python\n",
    "bugs = 'roaches'\n",
    "count = 13\n",
    "print(f'Debugging {bugs=} {count=}')  # 输出: Debugging bugs='roaches' count=13\n",
    "```\n",
    "\n",
    "#### 2. str.format()方法\n",
    "\n",
    "`str.format()`是另一种格式化字符串的方法：\n",
    "\n",
    "```python\n",
    "print('We are the {} who say \"{}!\"'.format('knights', 'Ni'))\n",
    "# 输出: We are the knights who say \"Ni!\"\n",
    "```\n",
    "\n",
    "格式字段中的数字可以指定参数位置：\n",
    "\n",
    "```python\n",
    "print('{0} and {1}'.format('spam', 'eggs'))  # 输出: spam and eggs\n",
    "print('{1} and {0}'.format('spam', 'eggs'))  # 输出: eggs and spam\n",
    "```\n",
    "\n",
    "也可以使用关键字参数：\n",
    "\n",
    "```python\n",
    "print('This {food} is {adjective}.'.format(food='spam', adjective='horrible'))\n",
    "# 输出: This spam is horrible.\n",
    "```\n",
    "\n",
    "如果你有一个很长的格式字符串，可以通过名称而不是位置引用变量：\n",
    "\n",
    "```python\n",
    "table = {'Sjoerd': 4127, 'Jack': 4098, 'Dcab': 8637678}\n",
    "print('Jack: {0[Jack]:d}; Sjoerd: {0[Sjoerd]:d}'.format(table))\n",
    "# 输出: Jack: 4098; Sjoerd: 4127\n",
    "```\n",
    "\n",
    "或者使用`**`语法传递表格字典：\n",
    "\n",
    "```python\n",
    "print('Jack: {Jack:d}; Sjoerd: {Sjoerd:d}'.format(**table))\n",
    "# 输出: Jack: 4098; Sjoerd: 4127\n",
    "```\n",
    "\n",
    "#### 3. 手动字符串格式化\n",
    "\n",
    "你也可以手动格式化字符串，例如使用`str.rjust()`方法右对齐字符串：\n",
    "\n",
    "```python\n",
    "for x in range(1, 11):\n",
    "    print(repr(x).rjust(2), repr(x*x).rjust(3), end=' ')\n",
    "    print(repr(x*x*x).rjust(4))\n",
    "```\n",
    "\n",
    "其他常用的字符串方法包括：\n",
    "- `str.ljust()` - 左对齐\n",
    "- `str.center()` - 居中对齐\n",
    "- `str.zfill()` - 用零填充数字字符串\n",
    "\n",
    "#### 4. 旧式字符串格式化\n",
    "\n",
    "`%`运算符也可用于字符串格式化（类似于C语言的`printf`）：\n",
    "\n",
    "```python\n",
    "import math\n",
    "print('The value of pi is approximately %5.3f.' % math.pi)\n",
    "# 输出: The value of pi is approximately 3.142.\n",
    "```\n",
    "\n",
    "#### 学习建议\n",
    "\n",
    "1. **多练习f-字符串**：f-字符串是最现代、最易读的格式化方法，将其作为首选。\n",
    "\n",
    "2. **理解格式规范**：学习各种格式化标记（如`:.2f`表示保留2位小数），这在处理数值数据时特别有用。\n",
    "\n",
    "3. **尝试对齐输出**：当你需要创建表格样式的输出时，练习使用字段宽度说明符（如`{name:10}`）。\n",
    "\n",
    "4. **案例分析**：创建一个小型数据分析程序，格式化输出不同类型的数据（文本、数字、百分比等），这将帮助你熟悉不同的格式化需求。\n",
    "\n",
    "5. **比较不同方法**：尝试用不同的格式化方法实现同一个输出，理解它们的优缺点。\n",
    "\n",
    "6. **处理复杂数据**：练习格式化嵌套的数据结构（如字典列表），了解如何访问和显示深层次的数据。\n",
    "\n",
    "7. **注意精度问题**：在处理浮点数时，理解格式化可以控制显示精度，但不会改变底层的精度问题。\n",
    "\n",
    "格式化输出是编程中的基础技能，掌握好它将使你的程序输出更加专业、易读。当你继续学习时，你会发现这些技巧在数据处理、报告生成和用户交互等多个方面都非常有用。\n",
    "- str() 适合用户友好的输出，repr() 适合开发和调试。\n",
    "- 在 f-string 或 format() 里，!s 代表 str()，!r 代表 repr()，!a 代表 ascii()。\n",
    "- 如果只实现了 __repr__()，那么 str() 也会使用 __repr__()。\n",
    "\n",
    "- str() = 让人看懂\n",
    "- repr() = 让 Python 代码看懂（或者开发者调试）"
   ]
  },
  {
   "cell_type": "code",
   "execution_count": 1,
   "id": "3901f02a-6342-45a0-8e17-353c9ed3e393",
   "metadata": {},
   "outputs": [
    {
     "data": {
      "text/plain": [
       "'Results of the 2016 Referendum'"
      ]
     },
     "execution_count": 1,
     "metadata": {},
     "output_type": "execute_result"
    }
   ],
   "source": [
    "year = 2016\n",
    "event = 'Referendum'\n",
    "f'Results of the {year} {event}'"
   ]
  },
  {
   "cell_type": "code",
   "execution_count": 2,
   "id": "398426c7-9ddf-4eef-aeec-e472bbe99c73",
   "metadata": {},
   "outputs": [
    {
     "data": {
      "text/plain": [
       "' 42572654 YES votes  49.67%'"
      ]
     },
     "execution_count": 2,
     "metadata": {},
     "output_type": "execute_result"
    }
   ],
   "source": [
    "yes_votes = 42_572_654\n",
    "total_votes = 85_705_149\n",
    "percentage = yes_votes / total_votes\n",
    "'{:-9} YES votes  {:2.2%}'.format(yes_votes, percentage)"
   ]
  },
  {
   "cell_type": "code",
   "execution_count": 3,
   "id": "94a75336-dff3-46c0-a7fc-37c3cb82cf1f",
   "metadata": {},
   "outputs": [
    {
     "data": {
      "text/plain": [
       "'Hello, world.'"
      ]
     },
     "execution_count": 3,
     "metadata": {},
     "output_type": "execute_result"
    }
   ],
   "source": [
    "s = 'Hello, world.'\n",
    "str(s)"
   ]
  },
  {
   "cell_type": "code",
   "execution_count": 4,
   "id": "f5797557-a454-4213-a44f-2c36c47d5d82",
   "metadata": {},
   "outputs": [
    {
     "data": {
      "text/plain": [
       "\"'Hello, world.'\""
      ]
     },
     "execution_count": 4,
     "metadata": {},
     "output_type": "execute_result"
    }
   ],
   "source": [
    "repr(s)"
   ]
  },
  {
   "cell_type": "code",
   "execution_count": 5,
   "id": "565cdcde-c738-4151-8b75-aa23b98f9c9e",
   "metadata": {},
   "outputs": [
    {
     "data": {
      "text/plain": [
       "'0.14285714285714285'"
      ]
     },
     "execution_count": 5,
     "metadata": {},
     "output_type": "execute_result"
    }
   ],
   "source": [
    "str(1/7)"
   ]
  },
  {
   "cell_type": "code",
   "execution_count": 8,
   "id": "c7919fc3-d300-49c9-afee-89c3890745f7",
   "metadata": {},
   "outputs": [
    {
     "name": "stdout",
     "output_type": "stream",
     "text": [
      "The value of x is 32.5, and y is 40000...\n"
     ]
    }
   ],
   "source": [
    "x = 10 * 3.25\n",
    "y = 200 * 200\n",
    "s = 'The value of x is ' + repr(x) + ', and y is ' + repr(y) + '...'\n",
    "print(s)"
   ]
  },
  {
   "cell_type": "code",
   "execution_count": 9,
   "id": "e02cf037-57e1-4475-aa63-910700192a08",
   "metadata": {},
   "outputs": [
    {
     "name": "stdout",
     "output_type": "stream",
     "text": [
      "'hello, world\\n'\n"
     ]
    }
   ],
   "source": [
    "hello = 'hello, world\\n'\n",
    "hellos = repr(hello)\n",
    "print(hellos)"
   ]
  },
  {
   "cell_type": "code",
   "execution_count": 10,
   "id": "8d92eb8e-8127-4e5b-895f-5bfcd170e2eb",
   "metadata": {},
   "outputs": [
    {
     "data": {
      "text/plain": [
       "\"(32.5, 40000, ('spam', 'eggs'))\""
      ]
     },
     "execution_count": 10,
     "metadata": {},
     "output_type": "execute_result"
    }
   ],
   "source": [
    "repr((x, y, ('spam', 'eggs')))"
   ]
  },
  {
   "cell_type": "code",
   "execution_count": 11,
   "id": "3e4f0145-b484-480c-93be-a5331530be9b",
   "metadata": {},
   "outputs": [
    {
     "name": "stdout",
     "output_type": "stream",
     "text": [
      "The value of pi is approximately 3.142.\n"
     ]
    }
   ],
   "source": [
    "import math\n",
    "print(f'The value of pi is approximately {math.pi:.3f}.')"
   ]
  },
  {
   "cell_type": "code",
   "execution_count": 12,
   "id": "7ec5036e-62f1-4637-83a7-c56c311474f9",
   "metadata": {},
   "outputs": [
    {
     "name": "stdout",
     "output_type": "stream",
     "text": [
      "Sjoerd     ==>       4127\n",
      "Jack       ==>       4098\n",
      "Dcab       ==>       7678\n"
     ]
    }
   ],
   "source": [
    "table = {'Sjoerd': 4127, 'Jack': 4098, 'Dcab': 7678}\n",
    "for name, phone in table.items():\n",
    "    print(f'{name:10} ==> {phone:10d}')"
   ]
  },
  {
   "cell_type": "code",
   "execution_count": 16,
   "id": "86672984-3310-4769-9af9-7e5a7908f4a8",
   "metadata": {},
   "outputs": [
    {
     "name": "stdout",
     "output_type": "stream",
     "text": [
      "My hovercraft is full of eels.\n",
      "My hovercraft is full of 'eels'.\n"
     ]
    }
   ],
   "source": [
    "animals = 'eels'\n",
    "print(f'My hovercraft is full of {animals}.')\n",
    "print(f'My hovercraft is full of {animals!r}.')"
   ]
  },
  {
   "cell_type": "code",
   "execution_count": 17,
   "id": "644e127b-50e9-41cb-a5bb-75f7fb0b857e",
   "metadata": {},
   "outputs": [
    {
     "name": "stdout",
     "output_type": "stream",
     "text": [
      "Debugging bugs='roaches' count=13 area='living room'\n"
     ]
    }
   ],
   "source": [
    "bugs = 'roaches'\n",
    "count = 13\n",
    "area = 'living room'\n",
    "print(f'Debugging {bugs=} {count=} {area=}')"
   ]
  },
  {
   "cell_type": "code",
   "execution_count": 18,
   "id": "ac31d36d-beae-4cd5-b8b1-03f03bb46076",
   "metadata": {},
   "outputs": [
    {
     "name": "stdout",
     "output_type": "stream",
     "text": [
      "Info: name='Alice' age=25 height=1.68\n"
     ]
    }
   ],
   "source": [
    "name = \"Alice\"\n",
    "age = 25\n",
    "height = 1.68\n",
    "print(f'Info: {name=} {age=} {height=}')"
   ]
  },
  {
   "cell_type": "code",
   "execution_count": 19,
   "id": "e37177b7-43da-4d9f-bee0-33191e32906d",
   "metadata": {},
   "outputs": [
    {
     "name": "stdout",
     "output_type": "stream",
     "text": [
      " 1   1    1\n",
      " 2   4    8\n",
      " 3   9   27\n",
      " 4  16   64\n",
      " 5  25  125\n",
      " 6  36  216\n",
      " 7  49  343\n",
      " 8  64  512\n",
      " 9  81  729\n",
      "10 100 1000\n"
     ]
    }
   ],
   "source": [
    "for x in range(1, 11):\n",
    "    print(repr(x).rjust(2), repr(x*x).rjust(3), end=' ')\n",
    "    # Note use of 'end' on previous line\n",
    "    print(repr(x*x*x).rjust(4))"
   ]
  },
  {
   "cell_type": "code",
   "execution_count": 20,
   "id": "8994e855-4327-473f-89d4-375ea71f4631",
   "metadata": {},
   "outputs": [
    {
     "name": "stdout",
     "output_type": "stream",
     "text": [
      "The value of pi is approximately 3.142.\n"
     ]
    }
   ],
   "source": [
    "import math\n",
    "print('The value of pi is approximately %5.3f.' % math.pi)"
   ]
  },
  {
   "cell_type": "markdown",
   "id": "bfd329d6-9533-4581-ad16-3f2fdca059ae",
   "metadata": {},
   "source": [
    "## 7.2 Reading and Writing Files\n",
    "\n",
    "- open(filename,mode,encoding=None), 例如"
   ]
  },
  {
   "cell_type": "code",
   "execution_count": 1,
   "id": "a72bd6f2-0745-4590-afe3-6a7e5a44d76e",
   "metadata": {},
   "outputs": [],
   "source": [
    "f = open('workfile', 'w', encoding=\"utf-8\")"
   ]
  },
  {
   "cell_type": "markdown",
   "id": "6effbe34-a377-4466-a3d9-35c8b066a61e",
   "metadata": {},
   "source": [
    "- 'r', 只读模式;\n",
    "-  'w', 写入模式, （如果已存在同名文件会被覆盖）\n",
    "-  'a', 追加模式, 写入的数据会自动添加到文件末尾\n",
    "-  'r+', 读写模式\n",
    "- UTF-8 是现代事实标准, 为默认模式\n",
    "- 默认情况,文件是以文本模式打开,这意味着读写的为字符串.\n",
    "- 如果在模式后添加'b',例如 'rb' 或者 'wb',那么以二进制, 读写的为'字节对象'.\n",
    "\n",
    "**使用 With 语句**"
   ]
  },
  {
   "cell_type": "code",
   "execution_count": 2,
   "id": "37cc0d00-dfe1-45bc-b414-effc56c96322",
   "metadata": {},
   "outputs": [],
   "source": [
    "with open('workfile', encoding=\"utf-8\") as f:\n",
    "    read_data = f.read()"
   ]
  },
  {
   "cell_type": "markdown",
   "id": "97b116b4-408f-43cf-af2a-f222025ee9ac",
   "metadata": {},
   "source": [
    "这样做的好处是，即使发生异常，文件也会在代码块执行完毕后自动关闭。这比编写等效的try-finally块更简洁。\n",
    "如果不使用with关键字，应该调用f.close()来关闭文件并立即释放系统资源。\n",
    "警告：如果不使用with关键字或不调用f.close()，可能导致f.write()的参数未完全写入磁盘，即使程序成功退出。\n",
    "文件对象关闭后（通过with语句或调用f.close()），尝试使用该文件对象将自动失败："
   ]
  },
  {
   "cell_type": "code",
   "execution_count": 3,
   "id": "1f083caa-b0e5-4e11-a527-00b7f465caad",
   "metadata": {},
   "outputs": [
    {
     "ename": "ValueError",
     "evalue": "I/O operation on closed file.",
     "output_type": "error",
     "traceback": [
      "\u001b[0;31m---------------------------------------------------------------------------\u001b[0m",
      "\u001b[0;31mValueError\u001b[0m                                Traceback (most recent call last)",
      "Cell \u001b[0;32mIn[3], line 2\u001b[0m\n\u001b[1;32m      1\u001b[0m f\u001b[38;5;241m.\u001b[39mclose()\n\u001b[0;32m----> 2\u001b[0m f\u001b[38;5;241m.\u001b[39mread()\n",
      "\u001b[0;31mValueError\u001b[0m: I/O operation on closed file."
     ]
    }
   ],
   "source": [
    "f.close()\n",
    "f.read()"
   ]
  },
  {
   "cell_type": "markdown",
   "id": "b5951a5d-7bad-40c3-8779-1a3252102eaf",
   "metadata": {},
   "source": [
    "文件对象的方法\n",
    "\n",
    "假设我们已经创建了一个名为f的文件对象：\n",
    "\n",
    "读取内容："
   ]
  },
  {
   "cell_type": "code",
   "execution_count": 4,
   "id": "2e59317b-9c06-439b-b0fb-0d140a0c1b22",
   "metadata": {},
   "outputs": [
    {
     "ename": "NameError",
     "evalue": "name 'size' is not defined",
     "output_type": "error",
     "traceback": [
      "\u001b[0;31m---------------------------------------------------------------------------\u001b[0m",
      "\u001b[0;31mNameError\u001b[0m                                 Traceback (most recent call last)",
      "Cell \u001b[0;32mIn[4], line 1\u001b[0m\n\u001b[0;32m----> 1\u001b[0m f\u001b[38;5;241m.\u001b[39mread(size)\n",
      "\u001b[0;31mNameError\u001b[0m: name 'size' is not defined"
     ]
    }
   ],
   "source": [
    "f.read(size)  # 读取指定大小的数据，如果不指定size或size为负，读取全部内容"
   ]
  },
  {
   "cell_type": "markdown",
   "id": "cad1a13e-9236-4197-8e82-32febbacac3e",
   "metadata": {},
   "source": [
    "逐行读取："
   ]
  },
  {
   "cell_type": "code",
   "execution_count": 5,
   "id": "14dc819c-4553-4fc3-a7af-d233b99e170f",
   "metadata": {},
   "outputs": [
    {
     "ename": "ValueError",
     "evalue": "I/O operation on closed file.",
     "output_type": "error",
     "traceback": [
      "\u001b[0;31m---------------------------------------------------------------------------\u001b[0m",
      "\u001b[0;31mValueError\u001b[0m                                Traceback (most recent call last)",
      "Cell \u001b[0;32mIn[5], line 1\u001b[0m\n\u001b[0;32m----> 1\u001b[0m f\u001b[38;5;241m.\u001b[39mreadline()\n",
      "\u001b[0;31mValueError\u001b[0m: I/O operation on closed file."
     ]
    }
   ],
   "source": [
    "f.readline()  # 读取一行，保留行尾的换行符"
   ]
  },
  {
   "cell_type": "markdown",
   "id": "d2e6068d-c22d-45d4-b71c-252659269c17",
   "metadata": {},
   "source": [
    "循环读取："
   ]
  },
  {
   "cell_type": "code",
   "execution_count": 7,
   "id": "525e3b24-957d-4674-91b2-0f1b11fbc8cd",
   "metadata": {},
   "outputs": [
    {
     "ename": "ValueError",
     "evalue": "I/O operation on closed file.",
     "output_type": "error",
     "traceback": [
      "\u001b[0;31m---------------------------------------------------------------------------\u001b[0m",
      "\u001b[0;31mValueError\u001b[0m                                Traceback (most recent call last)",
      "Cell \u001b[0;32mIn[7], line 1\u001b[0m\n\u001b[0;32m----> 1\u001b[0m \u001b[38;5;28;01mfor\u001b[39;00m line \u001b[38;5;129;01min\u001b[39;00m f:\n\u001b[1;32m      2\u001b[0m     \u001b[38;5;28mprint\u001b[39m(line, end\u001b[38;5;241m=\u001b[39m\u001b[38;5;124m'\u001b[39m\u001b[38;5;124m'\u001b[39m)\n",
      "\u001b[0;31mValueError\u001b[0m: I/O operation on closed file."
     ]
    }
   ],
   "source": [
    "for line in f:\n",
    "    print(line, end='')"
   ]
  },
  {
   "cell_type": "markdown",
   "id": "ecd73129-5bea-49d9-88d1-5953357e16c9",
   "metadata": {},
   "source": [
    "这是内存高效、快速且简便的代码。\n",
    "\n",
    "写入内容："
   ]
  },
  {
   "cell_type": "code",
   "execution_count": 8,
   "id": "a558a46d-09dc-4688-99e7-7bbeb5d42199",
   "metadata": {},
   "outputs": [
    {
     "ename": "NameError",
     "evalue": "name 'string' is not defined",
     "output_type": "error",
     "traceback": [
      "\u001b[0;31m---------------------------------------------------------------------------\u001b[0m",
      "\u001b[0;31mNameError\u001b[0m                                 Traceback (most recent call last)",
      "Cell \u001b[0;32mIn[8], line 1\u001b[0m\n\u001b[0;32m----> 1\u001b[0m f\u001b[38;5;241m.\u001b[39mwrite(string)\n",
      "\u001b[0;31mNameError\u001b[0m: name 'string' is not defined"
     ]
    }
   ],
   "source": [
    "f.write(string)  # 将字符串内容写入文件，返回写入的字符数"
   ]
  },
  {
   "cell_type": "markdown",
   "id": "64b8eba4-ca29-4f77-b0ee-47263e0265d5",
   "metadata": {},
   "source": [
    "这是内存高效、快速且简便的代码。\n",
    "\n",
    "写入内容："
   ]
  },
  {
   "cell_type": "code",
   "execution_count": 9,
   "id": "e1430f69-f15c-41ff-bb94-7a68ff8130cf",
   "metadata": {},
   "outputs": [
    {
     "ename": "NameError",
     "evalue": "name 'string' is not defined",
     "output_type": "error",
     "traceback": [
      "\u001b[0;31m---------------------------------------------------------------------------\u001b[0m",
      "\u001b[0;31mNameError\u001b[0m                                 Traceback (most recent call last)",
      "Cell \u001b[0;32mIn[9], line 1\u001b[0m\n\u001b[0;32m----> 1\u001b[0m f\u001b[38;5;241m.\u001b[39mwrite(string)\n",
      "\u001b[0;31mNameError\u001b[0m: name 'string' is not defined"
     ]
    }
   ],
   "source": [
    "f.write(string)  # 将字符串内容写入文件，返回写入的字符数"
   ]
  },
  {
   "cell_type": "markdown",
   "id": "c554cc46-10a6-4199-a4ae-0e8b2d4cedbe",
   "metadata": {},
   "source": [
    "位置操作："
   ]
  },
  {
   "cell_type": "code",
   "execution_count": null,
   "id": "f4440709-e970-4bca-904f-ffa88611f868",
   "metadata": {},
   "outputs": [],
   "source": [
    "f.tell()  # 返回文件对象当前位置\n",
    "f.seek(offset, whence)  # 改变文件对象位置"
   ]
  },
  {
   "cell_type": "markdown",
   "id": "a3e9a83d-9f82-4fdb-a706-02e9ff4a5c43",
   "metadata": {},
   "source": [
    "其中whence参数：\n",
    "\n",
    "- 0表示从文件开头算起（默认）\n",
    "- 1表示从当前位置算起\n",
    "- 2表示从文件末尾算起\n",
    "\n",
    "使用json保存结构化数据\n",
    "\n",
    "Python的json模块可以很方便地将复杂数据类型（如嵌套列表和字典）序列化为字符串表示，这个过程称为序列化。从字符串表示重建数据称为反序列化。"
   ]
  },
  {
   "cell_type": "code",
   "execution_count": 11,
   "id": "5e558a50-f6d7-4739-a625-72343b2e424f",
   "metadata": {},
   "outputs": [
    {
     "data": {
      "text/plain": [
       "'[1, \"simple\", \"list\"]'"
      ]
     },
     "execution_count": 11,
     "metadata": {},
     "output_type": "execute_result"
    }
   ],
   "source": [
    "import json\n",
    "x = [1, 'simple', 'list']\n",
    "json.dumps(x)  # 返回 '[1, \"simple\", \"list\"]'"
   ]
  },
  {
   "cell_type": "markdown",
   "id": "54430ebf-0559-4451-82e9-8a851cd2b9d2",
   "metadata": {},
   "source": [
    "dump()函数可以将对象序列化到文本文件中："
   ]
  },
  {
   "cell_type": "code",
   "execution_count": 12,
   "id": "1b4f7187-b3a5-4ca6-9d8c-aebae0e54b77",
   "metadata": {},
   "outputs": [
    {
     "ename": "ValueError",
     "evalue": "I/O operation on closed file.",
     "output_type": "error",
     "traceback": [
      "\u001b[0;31m---------------------------------------------------------------------------\u001b[0m",
      "\u001b[0;31mValueError\u001b[0m                                Traceback (most recent call last)",
      "Cell \u001b[0;32mIn[12], line 1\u001b[0m\n\u001b[0;32m----> 1\u001b[0m json\u001b[38;5;241m.\u001b[39mdump(x, f)\n",
      "File \u001b[0;32m/opt/homebrew/Caskroom/miniconda/base/lib/python3.12/json/__init__.py:180\u001b[0m, in \u001b[0;36mdump\u001b[0;34m(obj, fp, skipkeys, ensure_ascii, check_circular, allow_nan, cls, indent, separators, default, sort_keys, **kw)\u001b[0m\n\u001b[1;32m    177\u001b[0m \u001b[38;5;66;03m# could accelerate with writelines in some versions of Python, at\u001b[39;00m\n\u001b[1;32m    178\u001b[0m \u001b[38;5;66;03m# a debuggability cost\u001b[39;00m\n\u001b[1;32m    179\u001b[0m \u001b[38;5;28;01mfor\u001b[39;00m chunk \u001b[38;5;129;01min\u001b[39;00m iterable:\n\u001b[0;32m--> 180\u001b[0m     fp\u001b[38;5;241m.\u001b[39mwrite(chunk)\n",
      "\u001b[0;31mValueError\u001b[0m: I/O operation on closed file."
     ]
    }
   ],
   "source": [
    "json.dump(x, f)  # 其中f是已打开用于写入的文本文件对象"
   ]
  },
  {
   "cell_type": "markdown",
   "id": "5a01e1b9-c1d4-4319-8175-d66af313c36a",
   "metadata": {},
   "source": [
    "要解码对象，如果f是已打开用于读取的文件对象："
   ]
  },
  {
   "cell_type": "code",
   "execution_count": 13,
   "id": "e753f827-8b43-44f0-95e2-37c6d8202f67",
   "metadata": {},
   "outputs": [
    {
     "ename": "ValueError",
     "evalue": "I/O operation on closed file.",
     "output_type": "error",
     "traceback": [
      "\u001b[0;31m---------------------------------------------------------------------------\u001b[0m",
      "\u001b[0;31mValueError\u001b[0m                                Traceback (most recent call last)",
      "Cell \u001b[0;32mIn[13], line 1\u001b[0m\n\u001b[0;32m----> 1\u001b[0m x \u001b[38;5;241m=\u001b[39m json\u001b[38;5;241m.\u001b[39mload(f)\n",
      "File \u001b[0;32m/opt/homebrew/Caskroom/miniconda/base/lib/python3.12/json/__init__.py:293\u001b[0m, in \u001b[0;36mload\u001b[0;34m(fp, cls, object_hook, parse_float, parse_int, parse_constant, object_pairs_hook, **kw)\u001b[0m\n\u001b[1;32m    274\u001b[0m \u001b[38;5;28;01mdef\u001b[39;00m \u001b[38;5;21mload\u001b[39m(fp, \u001b[38;5;241m*\u001b[39m, \u001b[38;5;28mcls\u001b[39m\u001b[38;5;241m=\u001b[39m\u001b[38;5;28;01mNone\u001b[39;00m, object_hook\u001b[38;5;241m=\u001b[39m\u001b[38;5;28;01mNone\u001b[39;00m, parse_float\u001b[38;5;241m=\u001b[39m\u001b[38;5;28;01mNone\u001b[39;00m,\n\u001b[1;32m    275\u001b[0m         parse_int\u001b[38;5;241m=\u001b[39m\u001b[38;5;28;01mNone\u001b[39;00m, parse_constant\u001b[38;5;241m=\u001b[39m\u001b[38;5;28;01mNone\u001b[39;00m, object_pairs_hook\u001b[38;5;241m=\u001b[39m\u001b[38;5;28;01mNone\u001b[39;00m, \u001b[38;5;241m*\u001b[39m\u001b[38;5;241m*\u001b[39mkw):\n\u001b[1;32m    276\u001b[0m \u001b[38;5;250m    \u001b[39m\u001b[38;5;124;03m\"\"\"Deserialize ``fp`` (a ``.read()``-supporting file-like object containing\u001b[39;00m\n\u001b[1;32m    277\u001b[0m \u001b[38;5;124;03m    a JSON document) to a Python object.\u001b[39;00m\n\u001b[1;32m    278\u001b[0m \n\u001b[0;32m   (...)\u001b[0m\n\u001b[1;32m    291\u001b[0m \u001b[38;5;124;03m    kwarg; otherwise ``JSONDecoder`` is used.\u001b[39;00m\n\u001b[1;32m    292\u001b[0m \u001b[38;5;124;03m    \"\"\"\u001b[39;00m\n\u001b[0;32m--> 293\u001b[0m     \u001b[38;5;28;01mreturn\u001b[39;00m loads(fp\u001b[38;5;241m.\u001b[39mread(),\n\u001b[1;32m    294\u001b[0m         \u001b[38;5;28mcls\u001b[39m\u001b[38;5;241m=\u001b[39m\u001b[38;5;28mcls\u001b[39m, object_hook\u001b[38;5;241m=\u001b[39mobject_hook,\n\u001b[1;32m    295\u001b[0m         parse_float\u001b[38;5;241m=\u001b[39mparse_float, parse_int\u001b[38;5;241m=\u001b[39mparse_int,\n\u001b[1;32m    296\u001b[0m         parse_constant\u001b[38;5;241m=\u001b[39mparse_constant, object_pairs_hook\u001b[38;5;241m=\u001b[39mobject_pairs_hook, \u001b[38;5;241m*\u001b[39m\u001b[38;5;241m*\u001b[39mkw)\n",
      "\u001b[0;31mValueError\u001b[0m: I/O operation on closed file."
     ]
    }
   ],
   "source": [
    "x = json.load(f)"
   ]
  },
  {
   "cell_type": "code",
   "execution_count": 14,
   "id": "39349377-d66d-421b-80be-7907b2d7c95e",
   "metadata": {},
   "outputs": [
    {
     "data": {
      "text/plain": [
       "'00012'"
      ]
     },
     "execution_count": 14,
     "metadata": {},
     "output_type": "execute_result"
    }
   ],
   "source": [
    "'12'.zfill(5)"
   ]
  },
  {
   "cell_type": "code",
   "execution_count": 16,
   "id": "ce9689c3-efdc-4afb-a369-f864cf1c7aa4",
   "metadata": {},
   "outputs": [
    {
     "data": {
      "text/plain": [
       "'-003.14'"
      ]
     },
     "execution_count": 16,
     "metadata": {},
     "output_type": "execute_result"
    }
   ],
   "source": [
    "'-3.14'.zfill(7)"
   ]
  },
  {
   "cell_type": "code",
   "execution_count": 17,
   "id": "2ab2e0e9-4481-47a8-855e-3bb1ec0a4d40",
   "metadata": {},
   "outputs": [
    {
     "data": {
      "text/plain": [
       "'3.14159265359'"
      ]
     },
     "execution_count": 17,
     "metadata": {},
     "output_type": "execute_result"
    }
   ],
   "source": [
    "'3.14159265359'.zfill(5)"
   ]
  },
  {
   "cell_type": "code",
   "execution_count": null,
   "id": "56ca81ab-1023-4f1b-ac3a-49194a759e36",
   "metadata": {},
   "outputs": [],
   "source": []
  }
 ],
 "metadata": {
  "kernelspec": {
   "display_name": "Python 3 (ipykernel)",
   "language": "python",
   "name": "python3"
  },
  "language_info": {
   "codemirror_mode": {
    "name": "ipython",
    "version": 3
   },
   "file_extension": ".py",
   "mimetype": "text/x-python",
   "name": "python",
   "nbconvert_exporter": "python",
   "pygments_lexer": "ipython3",
   "version": "3.12.8"
  }
 },
 "nbformat": 4,
 "nbformat_minor": 5
}
