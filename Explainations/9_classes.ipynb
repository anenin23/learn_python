{
 "cells": [
  {
   "cell_type": "markdown",
   "id": "044e2c50-4b2b-421b-af9d-87c91d340a4c",
   "metadata": {},
   "source": [
    "## 9. 类\n",
    "\n",
    "\n",
    "\n",
    "类是 python 面向对象编程的核心。类能够将数据和功能捆绑在一起。基于类，可以创建该类型的新实例，实例的 method 可以通过类来修改， 也可以在实例中修改后覆盖类中的方法。\n",
    "\n",
    "\n",
    "\n",
    "- ___init__注解\n",
    "\n",
    "| 特性           | 作用                                        |\n",
    "| -------------- | ------------------------------------------- |\n",
    "| __init__       | 是**实例初始化方法**，在 `__new__` 之后调用 |\n",
    "| 什么时候调用？ | 创建实例时自动调用                          |\n",
    "| 作用           | 赋值实例变量，确保每个对象有独立的数据      |\n",
    "| 不能做什么？   | **不能返回值**，否则会报错                  |\n",
    "| 是否必须？     | 不是必须的，但**强烈推荐**使用              |\n",
    "\n",
    "\n",
    "\n",
    "### 继承\n",
    "\n",
    "一个类可以继承另一个类的属性和方法"
   ]
  },
  {
   "cell_type": "markdown",
   "id": "498032f6-a016-44f9-8f50-fd736540d927",
   "metadata": {},
   "source": [
    "### 第一个类的实例"
   ]
  },
  {
   "cell_type": "markdown",
   "id": "771bef0c-7e2d-4746-8bb3-24ad081943dd",
   "metadata": {},
   "source": [
    "class Dog:\n",
    "    '''一个简单的🐶的类示例'''\n",
    "    kind = 'dog' # 类变量\n",
    "    \n",
    "    def __init__(self,name): # __init__初始化\n",
    "      self.name = name # 实例变量,对每个实例都是唯一\n",
    "      \n",
    "    def bark(self):\n",
    "      print(f\"{self.name} 汪汪叫!\")  # self表示调用的实例对象本身,self.name 引用的就是实例的 name 属性\n",
    "            \n",
    "#调用用法\n",
    "my_dog = Dog('旺财')\n",
    "your_dog = Dog('小黑')\n",
    "\n",
    "# 访问实例的属性\n",
    "print(my_dog.name)\n",
    "\n",
    "print(your_dog.kind)\n",
    "            \n",
    "my_dog.bark() # 调用方法\n",
    "    "
   ]
  },
  {
   "cell_type": "markdown",
   "id": "6a3d1a8c-cbef-442d-9a4b-402f489e3f63",
   "metadata": {},
   "source": [
    "### 学生成绩管理"
   ]
  },
  {
   "cell_type": "code",
   "execution_count": 1,
   "id": "ec090182-81a7-4764-ad42-6b05cefb8bd9",
   "metadata": {},
   "outputs": [
    {
     "name": "stdout",
     "output_type": "stream",
     "text": [
      "学生：张三，学号：2023001，平均分：91.0\n",
      "学生：李四，学号：2023002，平均分：85.0\n",
      "最高平均分的学生是：张三\n"
     ]
    }
   ],
   "source": [
    "class Student:\n",
    "    \"\"\"学生类，用于管理学生信息和成绩\"\"\"\n",
    "    school = \"第一中学\"  # 所有学生都在同一所学校\n",
    "    \n",
    "    def __init__(self, name, student_id):\n",
    "        self.name = name\n",
    "        self.student_id = student_id\n",
    "        self.scores = {}  # 用于存储各科成绩\n",
    "    \n",
    "    def add_score(self, subject, score):\n",
    "        \"\"\"添加某科目的成绩\"\"\"\n",
    "        self.scores[subject] = score\n",
    "    \n",
    "    def get_average(self):\n",
    "        \"\"\"计算平均分\"\"\"\n",
    "        if not self.scores:\n",
    "            return 0\n",
    "        return sum(self.scores.values()) / len(self.scores)\n",
    "    \n",
    "    def get_summary(self):\n",
    "        \"\"\"获取学生信息概要\"\"\"\n",
    "        return f\"学生：{self.name}，学号：{self.student_id}，平均分：{self.get_average():.1f}\"\n",
    "\n",
    "# 使用Student类管理学生信息\n",
    "student1 = Student(\"张三\", \"2023001\")\n",
    "student1.add_score(\"数学\", 95)\n",
    "student1.add_score(\"语文\", 88)\n",
    "student1.add_score(\"英语\", 90)\n",
    "\n",
    "student2 = Student(\"李四\", \"2023002\")\n",
    "student2.add_score(\"数学\", 78)\n",
    "student2.add_score(\"语文\", 92)\n",
    "student2.add_score(\"英语\", 85)\n",
    "\n",
    "# 打印学生信息\n",
    "print(student1.get_summary())  # 输出: 学生：张三，学号：2023001，平均分：91.0\n",
    "print(student2.get_summary())  # 输出: 学生：李四，学号：2023002，平均分：85.0\n",
    "\n",
    "# 创建学生列表并找出平均分最高的学生\n",
    "students = [student1, student2]\n",
    "best_student = max(students, key=lambda student: student.get_average())\n",
    "print(f\"最高平均分的学生是：{best_student.name}\")  # 输出: 最高平均分的学生是：张三"
   ]
  },
  {
   "cell_type": "markdown",
   "id": "7cb43d8b-8e8f-47fd-bb88-90ba5db63a7a",
   "metadata": {},
   "source": [
    "## 继承"
   ]
  },
  {
   "cell_type": "code",
   "execution_count": null,
   "id": "632f4925-d21b-4e14-a35a-7f5452901042",
   "metadata": {},
   "outputs": [],
   "source": [
    "class Animal:\n",
    "    def __init__(self, name):\n",
    "        self.name = name\n",
    "    \n",
    "    def speak(self):\n",
    "        raise NotImplementedError(\"子类必须实现这个方法\")\n",
    "\n",
    "class Dog(Animal):  # Dog继承自Animal\n",
    "    def speak(self):\n",
    "        return f\"{self.name}说：汪汪！\"\n",
    "\n",
    "class Cat(Animal):  # Cat也继承自Animal\n",
    "    def speak(self):\n",
    "        return f\"{self.name}说：喵喵！\"\n",
    "\n",
    "# 使用这些类\n",
    "dog = Dog(\"旺财\")\n",
    "cat = Cat(\"咪咪\")\n",
    "\n",
    "print(dog.speak())  # 输出: 旺财说：汪汪！\n",
    "print(cat.speak())  # 输出: 咪咪说：喵喵！\n",
    "\n",
    "# 检查继承关系\n",
    "print(isinstance(dog, Dog))     # True\n",
    "print(isinstance(dog, Animal))  # True，因为Dog继承自Animal\n",
    "print(isinstance(cat, Dog))     # False"
   ]
  },
  {
   "cell_type": "markdown",
   "id": "b004da55-ad38-4459-a2ae-90d4ea3e77b6",
   "metadata": {},
   "source": [
    "#### 理解 enumerate()\n",
    "for i, (name, score) in enumerate(scores):\n",
    "    \n",
    "    - 在 for 循环中，我们使用了解包（unpacking）技术：\n",
    "    - i 接收当前迭代的索引值（0, 1, 2, ...）\n",
    "    - (name, score) 是一个元组解包，它接收当前元素（本身是一个元组）并将其分解成两个变量"
   ]
  },
  {
   "cell_type": "code",
   "execution_count": 5,
   "id": "f8a0f187-515b-4928-a977-beb56df8bbc9",
   "metadata": {},
   "outputs": [],
   "source": [
    "student_scores = [(\"张三\", 85), (\"李四\", 92), (\"王五\", 78)]"
   ]
  },
  {
   "cell_type": "code",
   "execution_count": 7,
   "id": "6cc1c5fc-79a1-426c-acfa-0da1b0b161e9",
   "metadata": {},
   "outputs": [
    {
     "name": "stdout",
     "output_type": "stream",
     "text": [
      "[(0, ('张三', 85)), (1, ('李四', 92)), (2, ('王五', 78))]\n"
     ]
    }
   ],
   "source": [
    "print(list(enumerate(student_scores)))"
   ]
  },
  {
   "cell_type": "markdown",
   "id": "9e3532f1-fb4e-41d6-8768-dd78a7a3e05b",
   "metadata": {},
   "source": [
    "### 私有变量\n",
    "\n",
    "- Python中并没有真正意义上的\"私有\"变量, 没有完全无法从外部访问的变量\n",
    "- Python使用名称修饰（name mangling）机制来实现一种类似私有变量的功能\n",
    "\t- 以双下划线__开头的属性会被\"修饰\"或\"改名\"\n",
    "    - __name会被转换为_classname__name，其中classname是当前类名"
   ]
  },
  {
   "cell_type": "code",
   "execution_count": null,
   "id": "9ff9a4e2-e43b-424b-88bb-82d42d81ecf7",
   "metadata": {},
   "outputs": [],
   "source": [
    "class BankAccount:\n",
    "    def __init__(self, owner, balance=0):\n",
    "        self.owner = owner      # 公开属性\n",
    "        self._balance = balance  # 约定俗成的\"保护\"属性（单下划线）\n",
    "        self.__security_code = \"1234\"  # 私有属性（双下划线）\n",
    "    \n",
    "    def deposit(self, amount):\n",
    "        self._balance += amount\n",
    "        return self._balance\n",
    "    \n",
    "    def withdraw(self, amount):\n",
    "        if amount <= self._balance:\n",
    "            self._balance -= amount\n",
    "            return self._balance\n",
    "        else:\n",
    "            return \"余额不足\"\n",
    "    \n",
    "    def check_security_code(self, code):\n",
    "        return code == self.__security_code"
   ]
  },
  {
   "cell_type": "code",
   "execution_count": null,
   "id": "20543315-aab3-4728-b8ad-699bdb959eba",
   "metadata": {},
   "outputs": [],
   "source": [
    "account = BankAccount(\"张三\", 1000)\n",
    "\n",
    "# 可以正常访问公开属性\n",
    "print(account.owner)  # 输出：张三\n",
    "\n",
    "# 可以访问保护属性（尽管按约定不应该）\n",
    "print(account._balance)  # 输出：1000\n",
    "\n",
    "# 不能直接访问私有属性\n",
    "try:\n",
    "    print(account.__security_code)  # 会引发AttributeError\n",
    "except AttributeError as e:\n",
    "    print(f\"错误: {e}\")  # 输出错误信息\n",
    "\n",
    "# 但可以通过修饰后的名称访问\n",
    "print(account._BankAccount__security_code)  # 输出：1234"
   ]
  },
  {
   "cell_type": "markdown",
   "id": "f5ac8c24-a8a7-4be7-9683-2697fae21721",
   "metadata": {},
   "source": [
    "### 另一个例子\n",
    "\n",
    "- 主要说明 私有变量机制主要是为了避免意外冲突，并不是为了提供完全的安全性："
   ]
  },
  {
   "cell_type": "code",
   "execution_count": null,
   "id": "eba6a03e-4a56-4e3a-9c22-188af09a2140",
   "metadata": {},
   "outputs": [],
   "source": [
    "class Mapping:\n",
    "    def __init__(self, iterable):\n",
    "        self.items_list = []\n",
    "        self.__update(iterable)  # 注意这是私有方法\n",
    "    \n",
    "    def update(self, iterable):\n",
    "        for item in iterable:\n",
    "            self.items_list.append(item)\n",
    "    \n",
    "    # 创建私有方法的副本\n",
    "    __update = update  \n",
    "\n",
    "class MappingSubclass(Mapping):\n",
    "    # 子类重写了update方法\n",
    "    def update(self, keys, values):\n",
    "        for item in zip(keys, values):\n",
    "            self.items_list.append(item)"
   ]
  },
  {
   "cell_type": "markdown",
   "id": "3c1046a7-4fb5-4b00-869e-6dd873f4f7cd",
   "metadata": {},
   "source": [
    "### 9.7. Odds and Ends\n",
    "\n",
    "这段代码定义了一个`Employee`类，它有三个属性：`name`、`dept`和`salary`。通过使用`@dataclass`装饰器，Python自动为我们生成了`__init__`、`__repr__`、`__eq__`等特殊方法，使得创建和使用这个类变得非常简单。"
   ]
  },
  {
   "cell_type": "code",
   "execution_count": 1,
   "id": "133dd0e7-c836-4b04-b110-59d9174cc294",
   "metadata": {},
   "outputs": [
    {
     "name": "stdout",
     "output_type": "stream",
     "text": [
      "计算机实验室\n",
      "10000\n"
     ]
    }
   ],
   "source": [
    "from dataclasses import dataclass\n",
    "\n",
    "@dataclass\n",
    "class Employee:\n",
    "    name: str\n",
    "    dept: str\n",
    "    salary: int\n",
    "    \n",
    "# 使用示例\n",
    "john = Employee('john', '计算机实验室', 10000)\n",
    "print(john.dept)  # 输出: 计算机实验室\n",
    "print(john.salary)  # 输出: 10000"
   ]
  },
  {
   "cell_type": "code",
   "execution_count": 2,
   "id": "b8a05b9b-0312-400e-9b0a-de9ad16f6322",
   "metadata": {},
   "outputs": [],
   "source": [
    "# 实际应用场景 配置类：存储应用程序的配置信息\n",
    "@dataclass\n",
    "class AppConfig:\n",
    "    database_url: str\n",
    "    api_key: str\n",
    "    debug_mode: bool = False\n",
    "    max_connections: int = 100\n",
    "    \n",
    "config = AppConfig(\"mysql://localhost:3306/mydb\", \"your_api_key\")"
   ]
  },
  {
   "cell_type": "code",
   "execution_count": null,
   "id": "5dc9d696-b7ae-46cf-80f9-35ed5529435d",
   "metadata": {},
   "outputs": [],
   "source": [
    "# 实际应用场景 数据传输对象(DTO)：在系统不同部分之间传递数据\\\n",
    "\n",
    "@dataclass\n",
    "class UserRegistrationData:\n",
    "    username: str\n",
    "    email: str\n",
    "    password: str\n",
    "    birth_date: str = None\n",
    "    \n",
    "new_user = UserRegistrationData(\"zhang_san\", \"zhangsan@example.com\", \"安全密码123\")"
   ]
  },
  {
   "cell_type": "code",
   "execution_count": 3,
   "id": "5b3c845a-8915-47bc-a5d8-c79a3b831368",
   "metadata": {},
   "outputs": [
    {
     "name": "stdout",
     "output_type": "stream",
     "text": [
      "5.0\n"
     ]
    }
   ],
   "source": [
    "# 实际应用场景-值对象：在领域驱动设计中表示没有身份的对象\n",
    "\n",
    "@dataclass(frozen=True)  # frozen=True使对象不可变\n",
    "class Point:\n",
    "    x: float\n",
    "    y: float\n",
    "    \n",
    "    def distance_to(self, other_point):\n",
    "        return ((self.x - other_point.x) ** 2 + (self.y - other_point.y) ** 2) ** 0.5\n",
    "        \n",
    "p1 = Point(3.0, 4.0)\n",
    "p2 = Point(0.0, 0.0)\n",
    "print(p1.distance_to(p2))  # 输出: 5.0"
   ]
  },
  {
   "cell_type": "markdown",
   "id": "14c68411-5f71-45d9-afd7-c6ab8d98a31f",
   "metadata": {},
   "source": [
    "### 9.8. Iterators"
   ]
  },
  {
   "cell_type": "code",
   "execution_count": 11,
   "id": "8ea72f00-bf40-479a-bcb1-3271b597f172",
   "metadata": {},
   "outputs": [
    {
     "name": "stdout",
     "output_type": "stream",
     "text": [
      "1/2/3/1\n",
      "2\n",
      "3\n",
      "one\n",
      "two\n",
      "1\n",
      "2\n",
      "3\n"
     ]
    }
   ],
   "source": [
    "# 遍历列表\n",
    "for element in [1, 2, 3]:\n",
    "    print(element, end= \"/\")\n",
    "\n",
    "# 遍历元组\n",
    "for element in (1, 2, 3):\n",
    "    print(element)\n",
    "\n",
    "# 遍历字典\n",
    "for key in {'one': 1, 'two': 2}:\n",
    "    print(key)\n",
    "\n",
    "# 遍历字符串\n",
    "for char in \"123\":\n",
    "    print(char)\n",
    "\n",
    "# 遍历文件\n",
    "#for line in open(\"myfile.txt\"):\n",
    "#    print(line, end='')"
   ]
  },
  {
   "cell_type": "code",
   "execution_count": 12,
   "id": "663b085e-3426-44f9-93cc-6d2651543935",
   "metadata": {},
   "outputs": [
    {
     "name": "stdout",
     "output_type": "stream",
     "text": [
      "a\n",
      "b\n",
      "c\n",
      "没有更多元素了！\n"
     ]
    }
   ],
   "source": [
    "# 手动使用迭代器\n",
    "\n",
    "# 创建一个字符串的迭代器\n",
    "s = 'abc'\n",
    "it = iter(s)  # 调用内置的iter()函数获取迭代器对象\n",
    "\n",
    "# 手动调用__next__()方法获取下一个元素\n",
    "print(next(it))  # 输出: 'a'\n",
    "print(next(it))  # 输出: 'b'\n",
    "print(next(it))  # 输出: 'c'\n",
    "\n",
    "# 当没有更多元素时，会引发StopIteration异常\n",
    "try:\n",
    "    print(next(it))\n",
    "except StopIteration:\n",
    "    print(\"没有更多元素了！\")"
   ]
  },
  {
   "cell_type": "code",
   "execution_count": 13,
   "id": "6afb7768-5653-4277-8e4f-274a34cbe3a4",
   "metadata": {},
   "outputs": [],
   "source": [
    "# 自定义迭代器 逆序遍历序列的迭代器\n",
    "\n",
    "class Reverse:\n",
    "    \"\"\"逆序遍历序列的迭代器\"\"\"\n",
    "    def __init__(self, data):\n",
    "        self.data = data  # 保存要遍历的数据\n",
    "        self.index = len(data)  # 初始索引设为数据长度\n",
    "    \n",
    "    def __iter__(self):\n",
    "        return self  # 返回迭代器对象本身\n",
    "    \n",
    "    def __next__(self):\n",
    "        if self.index == 0:  # 如果索引为0，表示已经遍历完所有元素\n",
    "            raise StopIteration  # 引发StopIteration异常\n",
    "        self.index = self.index - 1  # 索引减1\n",
    "        return self.data[self.index]  # 返回当前索引对应的元素"
   ]
  },
  {
   "cell_type": "code",
   "execution_count": 15,
   "id": "4a5acc1a-0735-45a1-ad52-ca0322b04e34",
   "metadata": {},
   "outputs": [
    {
     "name": "stdout",
     "output_type": "stream",
     "text": [
      "m\n",
      "a\n",
      "p\n",
      "s\n"
     ]
    }
   ],
   "source": [
    "# 使用该迭代起\n",
    "\n",
    "# 创建Reverse迭代器对象\n",
    "rev = Reverse('spam')\n",
    "\n",
    "# 使用for循环遍历\n",
    "for char in rev:\n",
    "    print(char)  # 将输出: m, a, p, s"
   ]
  },
  {
   "cell_type": "code",
   "execution_count": 17,
   "id": "ec213a80-f25d-41f3-8632-0ee7959a9d29",
   "metadata": {},
   "outputs": [
    {
     "name": "stdout",
     "output_type": "stream",
     "text": [
      "0 1 1 2 3 5 8 13 21 34 "
     ]
    }
   ],
   "source": [
    "# 生成斐波那契数列的迭代器\n",
    "class Fibonacci:\n",
    "    \"\"\"生成斐波那契数列的迭代器\"\"\"\n",
    "    def __init__(self, max_count):\n",
    "        self.max_count = max_count  # 最多生成的数量\n",
    "        self.count = 0  # 当前已生成的数量\n",
    "        self.a, self.b = 0, 1  # 初始值\n",
    "    \n",
    "    def __iter__(self):\n",
    "        return self\n",
    "    \n",
    "    def __next__(self):\n",
    "        if self.count >= self.max_count:\n",
    "            raise StopIteration\n",
    "        \n",
    "        self.count += 1\n",
    "        value = self.a\n",
    "        self.a, self.b = self.b, self.a + self.b\n",
    "        return value\n",
    "\n",
    "# 使用这个迭代器生成10个斐波那契数\n",
    "for num in Fibonacci(10):\n",
    "    print(num, end=' ')  # 输出: 0 1 1 2 3 5 8 13 21 34"
   ]
  },
  {
   "cell_type": "code",
   "execution_count": null,
   "id": "96a907a1-eea2-4b25-8e7b-faba5740c118",
   "metadata": {},
   "outputs": [],
   "source": [
    "# 自定义文件读取迭代器（按块读取）\n",
    "\n",
    "class ChunkReader:\n",
    "    \"\"\"按块读取文件的迭代器\"\"\"\n",
    "    def __init__(self, filename, chunk_size=1024):\n",
    "        self.file = open(filename, 'rb')\n",
    "        self.chunk_size = chunk_size\n",
    "    \n",
    "    def __iter__(self):\n",
    "        return self\n",
    "    \n",
    "    def __next__(self):\n",
    "        data = self.file.read(self.chunk_size)\n",
    "        if not data:  # 如果没有更多数据\n",
    "            self.file.close()\n",
    "            raise StopIteration\n",
    "        return data\n",
    "\n",
    "# 使用这个迭代器读取文件\n",
    "for chunk in ChunkReader('large_file.bin'):\n",
    "    # 处理每个数据块\n",
    "    process_data(chunk)"
   ]
  },
  {
   "cell_type": "code",
   "execution_count": 19,
   "id": "1d955b63-66b6-4ccb-bb14-e2f85f2c707f",
   "metadata": {},
   "outputs": [
    {
     "name": "stdout",
     "output_type": "stream",
     "text": [
      "2025-03-01\n",
      "2025-03-02\n",
      "2025-03-03\n",
      "2025-03-04\n",
      "2025-03-05\n",
      "2025-03-06\n",
      "2025-03-07\n",
      "2025-03-08\n",
      "2025-03-09\n",
      "2025-03-10\n"
     ]
    }
   ],
   "source": [
    "# 日期范围迭代器\n",
    "\n",
    "import datetime\n",
    "\n",
    "class DateRange:\n",
    "    \"\"\"日期范围迭代器\"\"\"\n",
    "    def __init__(self, start_date, end_date):\n",
    "        self.current_date = start_date\n",
    "        self.end_date = end_date\n",
    "    \n",
    "    def __iter__(self):\n",
    "        return self\n",
    "    \n",
    "    def __next__(self):\n",
    "        if self.current_date > self.end_date:\n",
    "            raise StopIteration\n",
    "        \n",
    "        date_to_return = self.current_date\n",
    "        self.current_date = self.current_date + datetime.timedelta(days=1)\n",
    "        return date_to_return\n",
    "\n",
    "# 使用这个迭代器遍历日期范围\n",
    "start = datetime.date(2025, 3, 1)\n",
    "end = datetime.date(2025, 3, 10)\n",
    "\n",
    "for date in DateRange(start, end):\n",
    "    print(date)  # 将输出从2023-01-01到2023-01-10的日期"
   ]
  },
  {
   "cell_type": "code",
   "execution_count": null,
   "id": "196f0707-e8f4-4673-a2a4-a70be3b4f9f0",
   "metadata": {},
   "outputs": [],
   "source": []
  }
 ],
 "metadata": {
  "kernelspec": {
   "display_name": "Python 3 (ipykernel)",
   "language": "python",
   "name": "python3"
  },
  "language_info": {
   "codemirror_mode": {
    "name": "ipython",
    "version": 3
   },
   "file_extension": ".py",
   "mimetype": "text/x-python",
   "name": "python",
   "nbconvert_exporter": "python",
   "pygments_lexer": "ipython3",
   "version": "3.12.8"
  }
 },
 "nbformat": 4,
 "nbformat_minor": 5
}
