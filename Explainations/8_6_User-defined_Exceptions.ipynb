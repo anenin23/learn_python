{
 "cells": [
  {
   "cell_type": "code",
   "execution_count": 1,
   "id": "a4ed604d-c946-4a80-a15e-c1d2965093da",
   "metadata": {},
   "outputs": [
    {
     "name": "stdout",
     "output_type": "stream",
     "text": [
      "当前余额: 1000 元\n",
      "余额不足: 当前余额 1000 元, 尝试提取 1500 元, 缺少 500 元\n",
      "您需要再存入至少 500 元才能完成取款\n",
      "账户 12345 已被冻结，无法进行操作\n",
      "请联系客服解冻您的账户\n"
     ]
    }
   ],
   "source": [
    "# 定义自定义异常类\n",
    "class 余额不足Error(Exception):\n",
    "    \"\"\"当尝试从账户中提取超过可用余额的金额时引发\"\"\"\n",
    "    def __init__(self, 余额, 提取金额):\n",
    "        self.余额 = 余额\n",
    "        self.提取金额 = 提取金额\n",
    "        self.差额 = 提取金额 - 余额\n",
    "        # 自定义错误信息\n",
    "        message = f\"余额不足: 当前余额 {余额} 元, 尝试提取 {提取金额} 元, 缺少 {self.差额} 元\"\n",
    "        super().__init__(message)\n",
    "\n",
    "class 账户冻结Error(Exception):\n",
    "    \"\"\"当尝试操作一个被冻结的账户时引发\"\"\"\n",
    "    def __init__(self, 账户编号):\n",
    "        self.账户编号 = 账户编号\n",
    "        message = f\"账户 {账户编号} 已被冻结，无法进行操作\"\n",
    "        super().__init__(message)\n",
    "\n",
    "# 银行账户类\n",
    "class 银行账户:\n",
    "    def __init__(self, 账户编号, 余额=0):\n",
    "        self.账户编号 = 账户编号\n",
    "        self.余额 = 余额\n",
    "        self.已冻结 = False\n",
    "    \n",
    "    def 存款(self, 金额):\n",
    "        if self.已冻结:\n",
    "            raise 账户冻结Error(self.账户编号)\n",
    "        if 金额 <= 0:\n",
    "            raise ValueError(\"存款金额必须为正数\")\n",
    "        self.余额 += 金额\n",
    "        return self.余额\n",
    "    \n",
    "    def 取款(self, 金额):\n",
    "        if self.已冻结:\n",
    "            raise 账户冻结Error(self.账户编号)\n",
    "        if 金额 <= 0:\n",
    "            raise ValueError(\"取款金额必须为正数\")\n",
    "        if 金额 > self.余额:\n",
    "            raise 余额不足Error(self.余额, 金额)\n",
    "        self.余额 -= 金额\n",
    "        return self.余额\n",
    "    \n",
    "    def 冻结账户(self):\n",
    "        self.已冻结 = True\n",
    "    \n",
    "    def 解冻账户(self):\n",
    "        self.已冻结 = False\n",
    "\n",
    "# 使用示例\n",
    "try:\n",
    "    # 创建账户并初始存入1000元\n",
    "    我的账户 = 银行账户(\"12345\", 1000)\n",
    "    print(f\"当前余额: {我的账户.余额} 元\")\n",
    "    \n",
    "    # 尝试取款1500元（超过余额）\n",
    "    我的账户.取款(1500)\n",
    "except 余额不足Error as e:\n",
    "    print(e)\n",
    "    print(f\"您需要再存入至少 {e.差额} 元才能完成取款\")\n",
    "\n",
    "try:\n",
    "    # 冻结账户\n",
    "    我的账户.冻结账户()\n",
    "    \n",
    "    # 尝试在冻结账户上存款\n",
    "    我的账户.存款(500)\n",
    "except 账户冻结Error as e:\n",
    "    print(e)\n",
    "    print(\"请联系客服解冻您的账户\")"
   ]
  },
  {
   "cell_type": "markdown",
   "id": "47c4b4bc-5bbe-4dab-ae37-7ef4536a1985",
   "metadata": {},
   "source": [
    "# with语句的工作方式如下：\n",
    "\n",
    "- 执行with后面的表达式，它应该返回一个上下文管理器对象（实现了__enter__和__exit__方法的对象）\n",
    "- 执行上下文管理器的__enter__方法，并将返回值赋给as后面的变量\n",
    "- 执行with代码块内的代码\n",
    "- 无论代码块是否正常结束（有无异常），都会调用__exit__方法进行清理"
   ]
  },
  {
   "cell_type": "code",
   "execution_count": null,
   "id": "cb317670-79b6-438b-8646-86b65573c066",
   "metadata": {},
   "outputs": [],
   "source": [
    "# 自定义上下文管理器\n",
    "# 你也可以创建自己的上下文管理器:\n",
    "\n",
    "class Timer:\n",
    "    def __init__(self, name):\n",
    "        self.name = name\n",
    "        \n",
    "    def __enter__(self):\n",
    "        import time\n",
    "        self.start_time = time.time()\n",
    "        return self\n",
    "        \n",
    "    def __exit__(self, exc_type, exc_val, exc_tb):\n",
    "        import time\n",
    "        end_time = time.time()\n",
    "        print(f\"{self.name} 操作耗时: {end_time - self.start_time:.2f} 秒\")\n",
    "        # 返回False表示不处理异常，返回True表示处理了异常\n",
    "        return False  # 让可能的异常继续传播\n",
    "\n",
    "# 使用示例\n",
    "with Timer(\"文件处理\") as timer:\n",
    "    # 模拟耗时操作\n",
    "    import time\n",
    "    time.sleep(1.5)\n",
    "    print(\"操作完成\")"
   ]
  },
  {
   "cell_type": "code",
   "execution_count": null,
   "id": "44dd994a-1d47-4113-b9fe-3453fc81c9c3",
   "metadata": {},
   "outputs": [],
   "source": [
    "# 多个不相关异常的抛出与处理\n",
    "\n",
    "# ExceptionGroup 类\n",
    "def f():\n",
    "    #创建一组异常\n",
    "    excs = [OSError('错误 1'),SystemError('错误 2')]\n",
    "    #将这些异常作为一个组一起抛出\n",
    "    raise ExceptionGroup('出现了问题',excs)\n",
    "\n",
    "try:\n",
    "    f()\n",
    "except Exception as e:\n",
    "    print(f'捕获到{type(e)}:{e}')"
   ]
  },
  {
   "cell_type": "code",
   "execution_count": null,
   "id": "314b96a1-789f-42d1-8f16-94ae5af60c3a",
   "metadata": {},
   "outputs": [],
   "source": [
    "# 使用 except* 进行选择性处理\n",
    "# except* 可以从异常组中提取特定类型的异常,同时让其他类型的异常继续传播\n"
   ]
  }
 ],
 "metadata": {
  "kernelspec": {
   "display_name": "Python 3 (ipykernel)",
   "language": "python",
   "name": "python3"
  },
  "language_info": {
   "codemirror_mode": {
    "name": "ipython",
    "version": 3
   },
   "file_extension": ".py",
   "mimetype": "text/x-python",
   "name": "python",
   "nbconvert_exporter": "python",
   "pygments_lexer": "ipython3",
   "version": "3.12.8"
  }
 },
 "nbformat": 4,
 "nbformat_minor": 5
}
