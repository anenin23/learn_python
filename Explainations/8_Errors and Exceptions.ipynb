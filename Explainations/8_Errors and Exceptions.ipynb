{
 "cells": [
  {
   "cell_type": "markdown",
   "id": "d0307794-01cc-40de-a3ad-57a463770e01",
   "metadata": {},
   "source": [
    "## 8.1.Syntax Errors\n",
    "- 学习Python初期，语法错误非常常见，不要灰心！\n",
    "- 始终仔细阅读错误信息，它通常会准确指出问题所在。\n",
    "- 使用文本编辑器或IDE(如PyCharm, VS Code)能帮助你自动检测和防止许多语法错误。\n",
    "- 养成良好的代码缩进习惯，Python使用缩进来定义代码块。\n",
    "- 如果错误信息不够清晰，可以尝试逐行检查代码或者将代码分成小部分测试。\n",
    "- 通过不断的练习和调试，你会逐渐减少语法错误，提高编程效率。"
   ]
  },
  {
   "cell_type": "code",
   "execution_count": 2,
   "id": "29f8c33f-bc23-4a0a-a7b4-ba3f3781dcb1",
   "metadata": {},
   "outputs": [],
   "source": [
    "# 正确的代码:\n",
    "\n",
    "# while True:\n",
    "    \n",
    "#    print('Hello world')"
   ]
  },
  {
   "cell_type": "code",
   "execution_count": 4,
   "id": "75123fff-08a0-4097-91ba-d200a6b55e4a",
   "metadata": {},
   "outputs": [
    {
     "ename": "SyntaxError",
     "evalue": "expected ':' (1858447100.py, line 2)",
     "output_type": "error",
     "traceback": [
      "\u001b[0;36m  Cell \u001b[0;32mIn[4], line 2\u001b[0;36m\u001b[0m\n\u001b[0;31m    if x > 5\u001b[0m\n\u001b[0m            ^\u001b[0m\n\u001b[0;31mSyntaxError\u001b[0m\u001b[0;31m:\u001b[0m expected ':'\n"
     ]
    }
   ],
   "source": [
    "# 错误\n",
    "if x > 5\n",
    "    print(\"x大于5\")\n",
    "\n",
    "# 正确\n",
    "if x > 5:\n",
    "    print(\"x大于5\")"
   ]
  },
  {
   "cell_type": "code",
   "execution_count": 5,
   "id": "2b875ff0-aaf6-4478-ae7e-f34f5f800b8f",
   "metadata": {},
   "outputs": [
    {
     "ename": "SyntaxError",
     "evalue": "'(' was never closed (3540826930.py, line 2)",
     "output_type": "error",
     "traceback": [
      "\u001b[0;36m  Cell \u001b[0;32mIn[5], line 2\u001b[0;36m\u001b[0m\n\u001b[0;31m    print(\"Hello world\"\u001b[0m\n\u001b[0m         ^\u001b[0m\n\u001b[0;31mSyntaxError\u001b[0m\u001b[0;31m:\u001b[0m '(' was never closed\n"
     ]
    }
   ],
   "source": [
    "# 错误\n",
    "print(\"Hello world\"\n",
    "\n",
    "# 正确\n",
    "print(\"Hello world\")"
   ]
  },
  {
   "cell_type": "code",
   "execution_count": 6,
   "id": "48a9f9d3-8013-48cb-91ff-3ec17dcb8fa9",
   "metadata": {},
   "outputs": [
    {
     "ename": "IndentationError",
     "evalue": "expected an indented block after 'if' statement on line 2 (2506745652.py, line 3)",
     "output_type": "error",
     "traceback": [
      "\u001b[0;36m  Cell \u001b[0;32mIn[6], line 3\u001b[0;36m\u001b[0m\n\u001b[0;31m    print(\"x大于5\")  # 缺少缩进\u001b[0m\n\u001b[0m    ^\u001b[0m\n\u001b[0;31mIndentationError\u001b[0m\u001b[0;31m:\u001b[0m expected an indented block after 'if' statement on line 2\n"
     ]
    }
   ],
   "source": [
    "# 错误\n",
    "if x > 5:\n",
    "print(\"x大于5\")  # 缺少缩进\n",
    "\n",
    "# 正确\n",
    "if x > 5:\n",
    "    print(\"x大于5\")"
   ]
  },
  {
   "cell_type": "code",
   "execution_count": 7,
   "id": "cef8f47a-9cc4-45c7-91ca-d943616e5999",
   "metadata": {},
   "outputs": [
    {
     "ename": "SyntaxError",
     "evalue": "unterminated string literal (detected at line 2) (3289599999.py, line 2)",
     "output_type": "error",
     "traceback": [
      "\u001b[0;36m  Cell \u001b[0;32mIn[7], line 2\u001b[0;36m\u001b[0m\n\u001b[0;31m    message = \"Hello world'\u001b[0m\n\u001b[0m              ^\u001b[0m\n\u001b[0;31mSyntaxError\u001b[0m\u001b[0;31m:\u001b[0m unterminated string literal (detected at line 2)\n"
     ]
    }
   ],
   "source": [
    "# 错误\n",
    "message = \"Hello world'\n",
    "\n",
    "# 正确\n",
    "message = \"Hello world\""
   ]
  },
  {
   "cell_type": "code",
   "execution_count": 8,
   "id": "714961a5-42f1-4fa2-b422-9468c7c6d8b5",
   "metadata": {},
   "outputs": [
    {
     "ename": "NameError",
     "evalue": "name 'rang' is not defined",
     "output_type": "error",
     "traceback": [
      "\u001b[0;31m---------------------------------------------------------------------------\u001b[0m",
      "\u001b[0;31mNameError\u001b[0m                                 Traceback (most recent call last)",
      "Cell \u001b[0;32mIn[8], line 2\u001b[0m\n\u001b[1;32m      1\u001b[0m \u001b[38;5;66;03m# 错误\u001b[39;00m\n\u001b[0;32m----> 2\u001b[0m \u001b[38;5;28;01mfor\u001b[39;00m i \u001b[38;5;129;01min\u001b[39;00m rang(\u001b[38;5;241m5\u001b[39m):  \u001b[38;5;66;03m# 应该是range而不是rang\u001b[39;00m\n\u001b[1;32m      3\u001b[0m     \u001b[38;5;28mprint\u001b[39m(i)\n\u001b[1;32m      5\u001b[0m \u001b[38;5;66;03m# 正确\u001b[39;00m\n",
      "\u001b[0;31mNameError\u001b[0m: name 'rang' is not defined"
     ]
    }
   ],
   "source": [
    "# 错误\n",
    "for i in rang(5):  # 应该是range而不是rang\n",
    "    print(i)\n",
    "\n",
    "# 正确\n",
    "for i in range(5):\n",
    "    print(i)"
   ]
  },
  {
   "cell_type": "code",
   "execution_count": null,
   "id": "e82fb9d1-4e9e-4abd-9e59-fd4036269bf1",
   "metadata": {},
   "outputs": [
    {
     "name": "stdout",
     "output_type": "stream",
     "text": [
      "The history saving thread hit an unexpected error (OperationalError('attempt to write a readonly database')).History will not be written to the database.\n"
     ]
    }
   ],
   "source": [
    "def calculator():\n",
    "    # 获取用户输入\n",
    "    num1 = float(input(\"请输入第一个数字: \"))\n",
    "    num2 = float(input(\"请输入第二个数字: \"))\n",
    "    operation = input(\"请选择操作(+, -, *, /): \")\n",
    "    \n",
    "    # 执行计算\n",
    "    if operation == \"+\":\n",
    "        result = num1 + num2\n",
    "    elif operation == \"-\":\n",
    "        result = num1 - num2\n",
    "    elif operation == \"*\":\n",
    "        result = num1 * num2\n",
    "    elif operation == \"/\":\n",
    "        result = num1 / num2\n",
    "    else:\n",
    "        print(\"不支持的操作\")\n",
    "        return\n",
    "    \n",
    "    # 显示结果\n",
    "    print(f\"计算结果是: {result}\")\n",
    "\n",
    "calculator()"
   ]
  },
  {
   "cell_type": "markdown",
   "id": "df31bbf2-ce11-4392-a9d7-edb05e6349ce",
   "metadata": {},
   "source": [
    "## 8.2.Exceptions"
   ]
  },
  {
   "cell_type": "code",
   "execution_count": null,
   "id": "71fe9ca5-f113-450d-8d83-1fe16c6838dc",
   "metadata": {},
   "outputs": [],
   "source": [
    "# ZeroDivisionError,当尝试除以零时发生:\n",
    "\n",
    "# 尝试除以零\n",
    "try:\n",
    "    result = 10 / 0\n",
    "    print(result)\n",
    "except ZeroDivisionError:\n",
    "    print(\"错误：不能除以零！\")"
   ]
  },
  {
   "cell_type": "code",
   "execution_count": 1,
   "id": "a4bd0b26-b0d0-47d0-9ae8-69de0243cc5c",
   "metadata": {},
   "outputs": [
    {
     "name": "stdout",
     "output_type": "stream",
     "text": [
      "错误：不能将字符串直接与数字相加！\n",
      "正确的做法是： 22\n"
     ]
    }
   ],
   "source": [
    "# 尝试对不兼容的类型进行操作\n",
    "try:\n",
    "    text = \"2\"\n",
    "    number = 2\n",
    "    result = text + number  # 字符串不能直接与数字相加\n",
    "except TypeError:\n",
    "    print(\"错误：不能将字符串直接与数字相加！\")\n",
    "    print(\"正确的做法是：\", text + str(number))  # 转换为相同类型"
   ]
  },
  {
   "cell_type": "code",
   "execution_count": 2,
   "id": "d644db9e-fc46-4a6e-8bc7-b91d047cc09f",
   "metadata": {},
   "outputs": [
    {
     "name": "stdout",
     "output_type": "stream",
     "text": [
      "文件不存在，创建新文件...\n",
      "新文件已创建完成！\n"
     ]
    }
   ],
   "source": [
    "try:\n",
    "    with open('不存在的文件.txt', 'r') as file:\n",
    "        content = file.read()\n",
    "except FileNotFoundError:\n",
    "    print(\"文件不存在，创建新文件...\")\n",
    "    with open('不存在的文件.txt', 'w') as file:\n",
    "        file.write(\"这是一个新创建的文件\")\n",
    "    print(\"新文件已创建完成！\")"
   ]
  },
  {
   "cell_type": "code",
   "execution_count": 3,
   "id": "66f212cb-0b4f-4665-a07a-639b13a2c61b",
   "metadata": {},
   "outputs": [
    {
     "name": "stdin",
     "output_type": "stream",
     "text": [
      "请输入您的年龄： 20\n"
     ]
    },
    {
     "name": "stdout",
     "output_type": "stream",
     "text": [
      "您的年龄是：20岁\n"
     ]
    }
   ],
   "source": [
    "def get_user_age():\n",
    "    while True:\n",
    "        try:\n",
    "            age = int(input(\"请输入您的年龄：\"))\n",
    "            if age < 0 or age > 120:\n",
    "                print(\"年龄应该在0到120之间，请重新输入\")\n",
    "                continue\n",
    "            return age\n",
    "        except ValueError:\n",
    "            print(\"输入错误！请输入一个有效的数字\")\n",
    "\n",
    "# 使用函数\n",
    "try:\n",
    "    user_age = get_user_age()\n",
    "    print(f\"您的年龄是：{user_age}岁\")\n",
    "except KeyboardInterrupt:\n",
    "    print(\"\\n程序被用户中断\")"
   ]
  },
  {
   "cell_type": "code",
   "execution_count": null,
   "id": "4b0e9422-92a5-4e47-b0cd-f360bfd806a0",
   "metadata": {},
   "outputs": [],
   "source": [
    "import requests\n",
    "\n",
    "def get_website_content(url):\n",
    "    try:\n",
    "        response = requests.get(url, timeout=5)\n",
    "        response.raise_for_status()  # 如果状态码不是200，抛出HTTPError异常\n",
    "        return response.text\n",
    "    except requests.exceptions.HTTPError as e:\n",
    "        print(f\"HTTP错误：{e}\")\n",
    "    except requests.exceptions.ConnectionError:\n",
    "        print(\"连接错误：无法连接到服务器\")\n",
    "    except requests.exceptions.Timeout:\n",
    "        print(\"超时错误：请求超时\")\n",
    "    except requests.exceptions.RequestException as e:\n",
    "        print(f\"请求错误：{e}\")\n",
    "    return None\n",
    "\n",
    "# 使用函数\n",
    "content = get_website_content(\"https://www.example.com\")\n",
    "if content:\n",
    "    print(\"成功获取网页内容\")\n",
    "else:\n",
    "    print(\"获取网页内容失败\")"
   ]
  },
  {
   "cell_type": "code",
   "execution_count": null,
   "id": "eb7d200b-342d-4d52-9e77-72668ff745c5",
   "metadata": {},
   "outputs": [],
   "source": [
    "def function_a():\n",
    "    return function_b()\n",
    "\n",
    "def function_b():\n",
    "    return function_c()\n",
    "\n",
    "def function_c():\n",
    "    return 10 / 0  # 这里会引发ZeroDivisionError\n",
    "\n",
    "try:\n",
    "    function_a()\n",
    "except ZeroDivisionError as e:\n",
    "    print(f\"捕获到除零错误：{e}\")\n",
    "    import traceback\n",
    "    print(\"\\n完整的错误追踪栈：\")\n",
    "    traceback.print_exc()  # 打印完整的错误追踪栈"
   ]
  },
  {
   "cell_type": "markdown",
   "id": "9a5aadc9-bec6-49e3-b21b-002cc4410a17",
   "metadata": {},
   "source": [
    "try-except 语句的基本结构\n",
    "```\n",
    "try:\n",
    "    # 可能引发异常的代码\n",
    "    # ...\n",
    "except 异常类型:\n",
    "    # 当指定异常发生时执行的代码\n",
    "    # ...\n",
    "```\n",
    "\n"
   ]
  },
  {
   "cell_type": "code",
   "execution_count": 1,
   "id": "1772f9fd-b728-491c-8784-650ccb22ec40",
   "metadata": {},
   "outputs": [
    {
     "name": "stdin",
     "output_type": "stream",
     "text": [
      "请输入一个数字:  a\n"
     ]
    },
    {
     "name": "stdout",
     "output_type": "stream",
     "text": [
      "输入无效! 请输入一个数字.\n"
     ]
    },
    {
     "ename": "KeyboardInterrupt",
     "evalue": "Interrupted by user",
     "output_type": "error",
     "traceback": [
      "\u001b[0;31m---------------------------------------------------------------------------\u001b[0m",
      "\u001b[0;31mKeyboardInterrupt\u001b[0m                         Traceback (most recent call last)",
      "Cell \u001b[0;32mIn[1], line 3\u001b[0m\n\u001b[1;32m      1\u001b[0m \u001b[38;5;28;01mwhile\u001b[39;00m \u001b[38;5;28;01mTrue\u001b[39;00m:\n\u001b[1;32m      2\u001b[0m     \u001b[38;5;28;01mtry\u001b[39;00m:\n\u001b[0;32m----> 3\u001b[0m         x \u001b[38;5;241m=\u001b[39m \u001b[38;5;28mint\u001b[39m(\u001b[38;5;28minput\u001b[39m(\u001b[38;5;124m\"\u001b[39m\u001b[38;5;124m请输入一个数字: \u001b[39m\u001b[38;5;124m\"\u001b[39m))\n\u001b[1;32m      4\u001b[0m         \u001b[38;5;28;01mbreak\u001b[39;00m \u001b[38;5;66;03m# 如果成功转换为整数,跳出循环\u001b[39;00m\n\u001b[1;32m      5\u001b[0m     \u001b[38;5;28;01mexcept\u001b[39;00m \u001b[38;5;167;01mValueError\u001b[39;00m:\n",
      "File \u001b[0;32m/opt/homebrew/Caskroom/miniconda/base/lib/python3.12/site-packages/ipykernel/kernelbase.py:1282\u001b[0m, in \u001b[0;36mKernel.raw_input\u001b[0;34m(self, prompt)\u001b[0m\n\u001b[1;32m   1280\u001b[0m     msg \u001b[38;5;241m=\u001b[39m \u001b[38;5;124m\"\u001b[39m\u001b[38;5;124mraw_input was called, but this frontend does not support input requests.\u001b[39m\u001b[38;5;124m\"\u001b[39m\n\u001b[1;32m   1281\u001b[0m     \u001b[38;5;28;01mraise\u001b[39;00m StdinNotImplementedError(msg)\n\u001b[0;32m-> 1282\u001b[0m \u001b[38;5;28;01mreturn\u001b[39;00m \u001b[38;5;28mself\u001b[39m\u001b[38;5;241m.\u001b[39m_input_request(\n\u001b[1;32m   1283\u001b[0m     \u001b[38;5;28mstr\u001b[39m(prompt),\n\u001b[1;32m   1284\u001b[0m     \u001b[38;5;28mself\u001b[39m\u001b[38;5;241m.\u001b[39m_parent_ident[\u001b[38;5;124m\"\u001b[39m\u001b[38;5;124mshell\u001b[39m\u001b[38;5;124m\"\u001b[39m],\n\u001b[1;32m   1285\u001b[0m     \u001b[38;5;28mself\u001b[39m\u001b[38;5;241m.\u001b[39mget_parent(\u001b[38;5;124m\"\u001b[39m\u001b[38;5;124mshell\u001b[39m\u001b[38;5;124m\"\u001b[39m),\n\u001b[1;32m   1286\u001b[0m     password\u001b[38;5;241m=\u001b[39m\u001b[38;5;28;01mFalse\u001b[39;00m,\n\u001b[1;32m   1287\u001b[0m )\n",
      "File \u001b[0;32m/opt/homebrew/Caskroom/miniconda/base/lib/python3.12/site-packages/ipykernel/kernelbase.py:1325\u001b[0m, in \u001b[0;36mKernel._input_request\u001b[0;34m(self, prompt, ident, parent, password)\u001b[0m\n\u001b[1;32m   1322\u001b[0m \u001b[38;5;28;01mexcept\u001b[39;00m \u001b[38;5;167;01mKeyboardInterrupt\u001b[39;00m:\n\u001b[1;32m   1323\u001b[0m     \u001b[38;5;66;03m# re-raise KeyboardInterrupt, to truncate traceback\u001b[39;00m\n\u001b[1;32m   1324\u001b[0m     msg \u001b[38;5;241m=\u001b[39m \u001b[38;5;124m\"\u001b[39m\u001b[38;5;124mInterrupted by user\u001b[39m\u001b[38;5;124m\"\u001b[39m\n\u001b[0;32m-> 1325\u001b[0m     \u001b[38;5;28;01mraise\u001b[39;00m \u001b[38;5;167;01mKeyboardInterrupt\u001b[39;00m(msg) \u001b[38;5;28;01mfrom\u001b[39;00m \u001b[38;5;28;01mNone\u001b[39;00m\n\u001b[1;32m   1326\u001b[0m \u001b[38;5;28;01mexcept\u001b[39;00m \u001b[38;5;167;01mException\u001b[39;00m:\n\u001b[1;32m   1327\u001b[0m     \u001b[38;5;28mself\u001b[39m\u001b[38;5;241m.\u001b[39mlog\u001b[38;5;241m.\u001b[39mwarning(\u001b[38;5;124m\"\u001b[39m\u001b[38;5;124mInvalid Message:\u001b[39m\u001b[38;5;124m\"\u001b[39m, exc_info\u001b[38;5;241m=\u001b[39m\u001b[38;5;28;01mTrue\u001b[39;00m)\n",
      "\u001b[0;31mKeyboardInterrupt\u001b[0m: Interrupted by user"
     ]
    }
   ],
   "source": [
    "while True:\n",
    "    try:\n",
    "        x = int(input(\"请输入一个数字: \"))\n",
    "        break # 如果成功转换为整数,跳出循环\n",
    "    except ValueError:\n",
    "        print(\"输入无效! 请输入一个数字.\")"
   ]
  },
  {
   "cell_type": "markdown",
   "id": "6b9abd22-a0a1-471c-8dee-ba77137199f7",
   "metadata": {},
   "source": [
    "#### 处理多个异常"
   ]
  },
  {
   "cell_type": "code",
   "execution_count": null,
   "id": "b5290373-ed58-4bb7-b047-1e785e3b023f",
   "metadata": {},
   "outputs": [],
   "source": [
    "try:\n",
    "    # 可能引发不同类型异常的代码\n",
    "    file = open(\"数据.txt\",\"r\")\n",
    "    result = int(file.readline().strip())\n",
    "    print(10 /result)\n",
    "    file.close()\n",
    "except FileNotFoundError:\n",
    "    print(\"找不到文件!请确认文件名正确.\")\n",
    "except ValueError:\n",
    "    print(\"文件内容无法转换为整数!\")\n",
    "except ZeroDivisionError:\n",
    "    print(\"不能除以零!文件中的数字不应为 0\")"
   ]
  },
  {
   "cell_type": "code",
   "execution_count": null,
   "id": "2ffe7355-d418-45f5-8fd1-5b9124ccbdfb",
   "metadata": {},
   "outputs": [],
   "source": [
    "# 你也可以在一个except子句中指定多个异常，作为一个元组\n",
    "try:\n",
    "    # 代码\n",
    "    pass\n",
    "except( RuntimeError, typeError,NameError):\n",
    "    # 处理多种类型的异常\n",
    "    pass"
   ]
  },
  {
   "cell_type": "code",
   "execution_count": null,
   "id": "e7c7ab1d-dbd9-44d4-bc0b-c2a8c5296fc9",
   "metadata": {},
   "outputs": [],
   "source": [
    "try:\n",
    "    #代码\n",
    "    pass\n",
    "except Exception: # 捕获几乎所有异常\n",
    "    # 处理代码\n",
    "    pass"
   ]
  },
  {
   "cell_type": "code",
   "execution_count": null,
   "id": "a76a22d8-cefc-4b77-bcad-d4de475f3116",
   "metadata": {},
   "outputs": [],
   "source": [
    "# 可以将异常实例赋值给一个变量\n",
    "try:\n",
    "    raise Exception(\"这是一个错误消息\")\n",
    "except Exception as err:\n",
    "    print(f\"发生错误:{err}\")\n",
    "    print(f\"错误类型:{type(err)}\")\n",
    "    print(f\"错误参数:{err.args}\")"
   ]
  },
  {
   "cell_type": "code",
   "execution_count": null,
   "id": "dbc61a8d-29f7-4126-9ad7-e8a14ab2ea3f",
   "metadata": {},
   "outputs": [],
   "source": [
    "# else 语句是在try子句没有引发异常,之后就执行else 子句\n",
    "try:\n",
    "    num = int(input(\"请输入一个数字: \"))\n",
    "except ValueError:\n",
    "    print(\"这不是一个有效数字!\")\n",
    "else:\n",
    "    print(f\"您输入的数字是: {num}\")\n",
    "    # 这里可以继续处理这个数字"
   ]
  },
  {
   "cell_type": "code",
   "execution_count": null,
   "id": "d13a91f3-f6e1-40bd-913a-c752398182c6",
   "metadata": {},
   "outputs": [],
   "source": [
    "# 异常处理也会捕获在子句中调用函数内部引发的异常\n",
    "def divide_by_zero():\n",
    "    return 10 / 0\n",
    "\n",
    "try:\n",
    "    divide_by_zero()  # 这个函数会引发ZeroDivisionError\n",
    "except ZeroDivisionError as err:\n",
    "    print(f\"捕获了一个错误: {err}\")"
   ]
  },
  {
   "cell_type": "code",
   "execution_count": null,
   "id": "3c3c0ea0-5756-49aa-bd0a-78f5f6ed8a67",
   "metadata": {},
   "outputs": [],
   "source": [
    "# 更加实际的例子\n",
    "def read_customer_data(filename):\n",
    "    try:\n",
    "        with open(filename, 'r', encoding='utf-8') as file:\n",
    "            data = file.readlines()\n",
    "            customers = []\n",
    "            for line in data:\n",
    "                # 尝试解析每一行：姓名,年龄,消费金额\n",
    "                parts = line.strip().split(',')\n",
    "                if len(parts) != 3:\n",
    "                    raise ValueError(f\"数据格式错误: {line}\")\n",
    "                \n",
    "                name = parts[0]\n",
    "                try:\n",
    "                    age = int(parts[1])\n",
    "                    amount = float(parts[2])\n",
    "                except ValueError:\n",
    "                    print(f\"忽略无效数据行: {line}\")\n",
    "                    continue\n",
    "                \n",
    "                customers.append({\"name\": name, \"age\": age, \"amount\": amount})\n",
    "            return customers\n",
    "    except FileNotFoundError:\n",
    "        print(f\"找不到文件 '{filename}'\")\n",
    "        return []\n",
    "    except PermissionError:\n",
    "        print(f\"没有权限读取文件 '{filename}'\")\n",
    "        return []\n",
    "    except Exception as e:\n",
    "        print(f\"读取文件时发生未知错误: {e}\")\n",
    "        return []\n",
    "\n",
    "# 使用这个函数\n",
    "customers = read_customer_data(\"customer_data.txt\")\n",
    "if customers:\n",
    "    print(f\"成功读取了{len(customers)}位客户的数据\")\n",
    "    # 进一步处理这些数据\n",
    "else:\n",
    "    print(\"没有读取到任何客户数据\")"
   ]
  },
  {
   "cell_type": "code",
   "execution_count": null,
   "id": "be8db308-85bb-440f-9818-61d5a952e9ed",
   "metadata": {},
   "outputs": [],
   "source": [
    "# 完整例子\n",
    "def divide_numbers(a, b):\n",
    "    try:\n",
    "        result = a / b\n",
    "    except ZeroDivisionError:\n",
    "        print(\"除数不能为零！\")\n",
    "        return None\n",
    "    except TypeError:\n",
    "        print(\"请确保输入的是数字！\")\n",
    "        return None\n",
    "    else:\n",
    "        print(\"除法操作成功完成！\")\n",
    "        return result\n",
    "\n",
    "# 测试不同情况\n",
    "print(\"情况1：正常除法\")\n",
    "result1 = divide_numbers(10, 2)\n",
    "print(f\"结果：{result1}\\n\")\n",
    "\n",
    "print(\"情况2：除以零\")\n",
    "result2 = divide_numbers(10, 0)\n",
    "print(f\"结果：{result2}\\n\")\n",
    "\n",
    "print(\"情况3：类型错误\")\n",
    "result3 = divide_numbers(10, \"2\")\n",
    "print(f\"结果：{result3}\")"
   ]
  },
  {
   "cell_type": "code",
   "execution_count": null,
   "id": "1102712b-0a56-40e4-b57d-72ab264800f4",
   "metadata": {},
   "outputs": [],
   "source": [
    "# 关于raise的用法\n",
    "# 使用raide 来抛出异常\n",
    "raise 异常类型(\"错误信息\")\n",
    "\n",
    "# 简单实例\n",
    "def divide(a,b):\n",
    "    if b==0:\n",
    "        raise ZeroDivisionError(\"除数不能为零\")\n",
    "    return a/b"
   ]
  },
  {
   "cell_type": "code",
   "execution_count": null,
   "id": "578e9482-10b5-49c0-a72f-6275329f352c",
   "metadata": {},
   "outputs": [],
   "source": [
    "# 实际使用\n",
    "\n",
    "def process_age(age):\n",
    "    if not isinstance(age,int):\n",
    "        raise TypeError(\"年龄必须是整数\")\n",
    "    if age <0 :\n",
    "        raise ValueError(\"年龄不能为负数\")\n",
    "    if age >150:\n",
    "        raise ValueError(\"年龄值不合理\")\n",
    "\n",
    "    # 处理有效的年龄\n",
    "    return f\"您的年龄是{age}岁\"\n",
    "\n",
    "# 使用示例\n",
    "try:\n",
    "    result = process_age(-5):\n",
    "    print(result)\n",
    "except(TypeError,ValueError) as e:\n",
    "    print(f\"输入错误: {e}\")"
   ]
  },
  {
   "cell_type": "code",
   "execution_count": 4,
   "id": "d49a10d6-6e94-47f4-ad7c-a36cecac02db",
   "metadata": {},
   "outputs": [
    {
     "name": "stdout",
     "output_type": "stream",
     "text": [
      "操作失败: 余额不足，当前余额: 100，请求取款: 150\n"
     ]
    }
   ],
   "source": [
    "# 自定义业务规则验证\n",
    "\n",
    "class InsufficientFundsError(Exception):\n",
    "    \"\"\"当账户余额不足时抛出的异常\"\"\"\n",
    "    pass\n",
    "\n",
    "class BankAccount:\n",
    "    def __init__(self, name, balance=0):\n",
    "        self.name = name\n",
    "        self.balance = balance\n",
    "    \n",
    "    def deposit(self, amount):\n",
    "        if amount <= 0:\n",
    "            raise ValueError(\"存款金额必须为正数\")\n",
    "        self.balance += amount\n",
    "        return self.balance\n",
    "    \n",
    "    def withdraw(self, amount):\n",
    "        if amount <= 0:\n",
    "            raise ValueError(\"取款金额必须为正数\")\n",
    "        if amount > self.balance:\n",
    "            raise InsufficientFundsError(f\"余额不足，当前余额: {self.balance}，请求取款: {amount}\")\n",
    "        self.balance -= amount\n",
    "        return self.balance\n",
    "\n",
    "# 使用示例\n",
    "account = BankAccount(\"张三\", 100)\n",
    "\n",
    "try:\n",
    "    account.withdraw(150)\n",
    "except InsufficientFundsError as e:\n",
    "    print(f\"操作失败: {e}\")\n",
    "    # 可能提示用户存款或调整取款金额"
   ]
  },
  {
   "cell_type": "code",
   "execution_count": null,
   "id": "b4059584-5656-4737-806f-dd508b075bd2",
   "metadata": {},
   "outputs": [],
   "source": []
  }
 ],
 "metadata": {
  "kernelspec": {
   "display_name": "Python 3 (ipykernel)",
   "language": "python",
   "name": "python3"
  },
  "language_info": {
   "codemirror_mode": {
    "name": "ipython",
    "version": 3
   },
   "file_extension": ".py",
   "mimetype": "text/x-python",
   "name": "python",
   "nbconvert_exporter": "python",
   "pygments_lexer": "ipython3",
   "version": "3.12.8"
  }
 },
 "nbformat": 4,
 "nbformat_minor": 5
}
