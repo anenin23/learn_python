{
 "cells": [
  {
   "cell_type": "code",
   "execution_count": 4,
   "id": "e28e0c24-f165-4949-827d-39ec9a58b69a",
   "metadata": {},
   "outputs": [],
   "source": [
    "# Create a sample collection \n",
    "users = {'Hans': 'active', 'Éléonore': 'inactive', '奥特曼': 'active'}"
   ]
  },
  {
   "cell_type": "code",
   "execution_count": 5,
   "id": "813b7106-6203-42b4-a676-4ef21586f5d9",
   "metadata": {},
   "outputs": [],
   "source": [
    "# Strategy: Iterate over a copy\n",
    "for user,status in users.copy().items():\n",
    "    if status == 'inactive':\n",
    "        del users[user]\n",
    "\n",
    "# Strategy: Create a new collection\n",
    "active_users = {}\n",
    "for user,status in users.items():\n",
    "    if status == 'active':\n",
    "        active_users[user] = status"
   ]
  },
  {
   "cell_type": "code",
   "execution_count": 7,
   "id": "04d34c1f-f666-4a89-94a8-53984cdbf747",
   "metadata": {},
   "outputs": [
    {
     "name": "stdout",
     "output_type": "stream",
     "text": [
      "{'Hans': 'active', '奥特曼': 'active'}\n"
     ]
    }
   ],
   "source": [
    "print(active_users)"
   ]
  },
  {
   "cell_type": "markdown",
   "id": "e716bc30-2b02-42c7-b2d3-a8203351e972",
   "metadata": {},
   "source": [
    "#### 4.3 The range (Function)-P18"
   ]
  },
  {
   "cell_type": "code",
   "execution_count": 10,
   "id": "757635d1-4dce-4dc9-9b5c-4c2227d17ec4",
   "metadata": {},
   "outputs": [
    {
     "data": {
      "text/plain": [
       "[10, 9, 8, 7, 6, 5, 4, 3, 2]"
      ]
     },
     "execution_count": 10,
     "metadata": {},
     "output_type": "execute_result"
    }
   ],
   "source": [
    "list(range(10,1,-1))"
   ]
  },
  {
   "cell_type": "code",
   "execution_count": 11,
   "id": "bc7f1752-d041-49a3-902f-8eea6b70bfa4",
   "metadata": {},
   "outputs": [],
   "source": [
    "a = ['Mary','had','a','little','lamb']"
   ]
  },
  {
   "cell_type": "code",
   "execution_count": 12,
   "id": "6c1b4cec-fb79-4101-9ed8-4bcbaea8c384",
   "metadata": {},
   "outputs": [
    {
     "name": "stdout",
     "output_type": "stream",
     "text": [
      "0 Mary\n",
      "1 had\n",
      "2 a\n",
      "3 little\n",
      "4 lamb\n"
     ]
    }
   ],
   "source": [
    "for i in range(len(a)):\n",
    "    print(i,a[i])"
   ]
  },
  {
   "cell_type": "code",
   "execution_count": 13,
   "id": "28ff5f00-0d0b-45a2-8c10-c19cc6f264e3",
   "metadata": {},
   "outputs": [
    {
     "name": "stdout",
     "output_type": "stream",
     "text": [
      "0 Mary\n",
      "1 had\n",
      "2 a\n",
      "3 little\n",
      "4 lamb\n"
     ]
    }
   ],
   "source": [
    "# 用enumerate()实现\n",
    "for i, name in enumerate(a):\n",
    "    print(i,name)"
   ]
  },
  {
   "cell_type": "code",
   "execution_count": 14,
   "id": "4439a0d3-dcb1-4ef2-8d65-930de6a5b134",
   "metadata": {},
   "outputs": [
    {
     "data": {
      "text/plain": [
       "6"
      ]
     },
     "execution_count": 14,
     "metadata": {},
     "output_type": "execute_result"
    }
   ],
   "source": [
    "sum(range(4)) # 0,1,2,3"
   ]
  },
  {
   "cell_type": "code",
   "execution_count": 17,
   "id": "e8a6c09e-d350-428d-a70b-c4db1e6641d2",
   "metadata": {},
   "outputs": [
    {
     "name": "stdout",
     "output_type": "stream",
     "text": [
      "4 equals 2 * 2\n",
      "6 equals 2 * 3\n",
      "8 equals 2 * 4\n",
      "9 equals 3 * 3\n"
     ]
    }
   ],
   "source": [
    "# 但两段代码的行为和结果完全不同。\n",
    "# 第一个版本正确地找到了每个数的最小因子，\n",
    "# 第二个版本只检查了每个数是否能被2整除。\n",
    "# 为什么break 是在if 的下面， 改为for 下面会出错吗？\n",
    "for n in range(2,10):\n",
    "    for x in range(2,n):\n",
    "        if n % x == 0:\n",
    "            print(f\"{n} equals {x} * {n//x}\")\n",
    "            break"
   ]
  },
  {
   "cell_type": "code",
   "execution_count": 23,
   "id": "74fad28b-0d07-4a4b-86e4-fd433a7f8c9d",
   "metadata": {},
   "outputs": [
    {
     "name": "stdout",
     "output_type": "stream",
     "text": [
      "4 equals 2 * 2\n",
      "6 equals 2 * 3\n",
      "8 equals 2 * 4\n"
     ]
    }
   ],
   "source": [
    "# 将 break 放在for 下面\n",
    "for n in range(2,10):\n",
    "    for x in range(2,n):\n",
    "        if n % x == 0:\n",
    "            print(f\"{n} equals {x} * {n//x}\")\n",
    "        break"
   ]
  },
  {
   "cell_type": "code",
   "execution_count": 24,
   "id": "89fa9914-0645-49a9-8c73-9517084eb1bb",
   "metadata": {},
   "outputs": [
    {
     "name": "stdout",
     "output_type": "stream",
     "text": [
      "Found an even number 2\n",
      "Found an odd number 3\n",
      "Found an even number 4\n",
      "Found an odd number 5\n",
      "Found an even number 6\n",
      "Found an odd number 7\n",
      "Found an even number 8\n",
      "Found an odd number 9\n"
     ]
    }
   ],
   "source": [
    "# continue语句继续下一次循环迭代\n",
    "for num in range(2,10):\n",
    "    if num % 2 == 0:\n",
    "        print(f\"Found an even number {num}\")\n",
    "        continue # continue 执行之后， 返回到 for 循环\n",
    "    print(f\"Found an odd number {num}\")"
   ]
  },
  {
   "cell_type": "markdown",
   "id": "28ff9ed5-fa83-4cbd-bbac-0cc42969f635",
   "metadata": {},
   "source": [
    "### continue 和 break的差别\n",
    "- break 完全终止循环,break 通常用于找到满足条件就不需要继续循环的情况;\n",
    "- continue 只跳过当前迭代的剩余部分, continue 通常用于跳过特定条件不需要处理的情况，但仍需处理其他情况"
   ]
  },
  {
   "cell_type": "code",
   "execution_count": 25,
   "id": "0c363b5e-4917-4766-8e54-fa75d70e3f29",
   "metadata": {},
   "outputs": [],
   "source": [
    "# Match 语句\n",
    "def http_error(status):\n",
    "    match status:\n",
    "        case 400:\n",
    "            return \"Bad request\"\n",
    "        case 404:\n",
    "            return \"Not found\"\n",
    "        case 418:\n",
    "            return \"I am a teapot\"\n",
    "        case _:\n",
    "            return \"Something wrong\""
   ]
  },
  {
   "cell_type": "code",
   "execution_count": 32,
   "id": "15777813-d94d-4bd8-80f2-116cc8e54a96",
   "metadata": {},
   "outputs": [
    {
     "ename": "SyntaxError",
     "evalue": "invalid syntax (3808139221.py, line 1)",
     "output_type": "error",
     "traceback": [
      "\u001b[0;36m  Cell \u001b[0;32mIn[32], line 1\u001b[0;36m\u001b[0m\n\u001b[0;31m    case 401 | 403 | 405:\u001b[0m\n\u001b[0m         ^\u001b[0m\n\u001b[0;31mSyntaxError\u001b[0m\u001b[0;31m:\u001b[0m invalid syntax\n"
     ]
    }
   ],
   "source": [
    "case 401 | 403 | 405:\n",
    "    return \"Not allowed\""
   ]
  },
  {
   "cell_type": "code",
   "execution_count": 31,
   "id": "56368c26-b754-4e7d-8f71-98949f52c24a",
   "metadata": {},
   "outputs": [
    {
     "name": "stdout",
     "output_type": "stream",
     "text": [
      "3.12.8 | packaged by Anaconda, Inc. | (main, Dec 11 2024, 10:37:40) [Clang 14.0.6 ]\n"
     ]
    }
   ],
   "source": [
    "import sys\n",
    "print(sys.version)"
   ]
  },
  {
   "cell_type": "code",
   "execution_count": 34,
   "id": "3eea21ab-80ce-4b0d-be44-07d4786ac837",
   "metadata": {},
   "outputs": [
    {
     "name": "stdout",
     "output_type": "stream",
     "text": [
      "3\n",
      "4\n"
     ]
    }
   ],
   "source": [
    "class Point:\n",
    "    __match_args__ = ('x','y')\n",
    "    def __init__(self,x,y):\n",
    "        self.x = x\n",
    "        self.y = y\n",
    "        \n",
    "# 创建一个点(3, 4)\n",
    "p = Point(3, 4)\n",
    "\n",
    "# 访问点的坐标\n",
    "print(p.x)  # 输出: 3\n",
    "print(p.y)  # 输出: 4"
   ]
  },
  {
   "cell_type": "code",
   "execution_count": 35,
   "id": "91891e3a-16fa-414f-b421-9f252877bada",
   "metadata": {},
   "outputs": [],
   "source": [
    "# 4.8 Define functions\n",
    "def fib(n):\n",
    "    a, b = 0,1\n",
    "    while a < n:\n",
    "        print(a,end =',')\n",
    "        a,b = b, a+b\n",
    "    print()"
   ]
  },
  {
   "cell_type": "code",
   "execution_count": 36,
   "id": "5c47990e-517a-4a3c-a0ee-528d0a5e4662",
   "metadata": {},
   "outputs": [
    {
     "name": "stdout",
     "output_type": "stream",
     "text": [
      "0,1,1,2,3,5,8,13,21,34,55,89,144,233,377,610,987,1597,2584,\n"
     ]
    }
   ],
   "source": [
    "fib(3000)"
   ]
  },
  {
   "cell_type": "code",
   "execution_count": 39,
   "id": "a3100f98-1da0-4974-8fa1-fc4f4a40be86",
   "metadata": {},
   "outputs": [
    {
     "name": "stdout",
     "output_type": "stream",
     "text": [
      "\n",
      "None\n"
     ]
    }
   ],
   "source": [
    "print(fib(0))"
   ]
  },
  {
   "cell_type": "code",
   "execution_count": 40,
   "id": "6c4197b2-169a-4072-acfa-c9d41c025e85",
   "metadata": {},
   "outputs": [],
   "source": [
    "def ask_ok(prompt, retries=4, reminder='Please try again!'):\n",
    "    while True:\n",
    "        reply = input(prompt)\n",
    "        if reply in {'y', 'ye', 'yes'}:\n",
    "            return True\n",
    "        if reply in {'n', 'no', 'nop', 'nope'}:\n",
    "            return False\n",
    "        retries = retries - 1\n",
    "        if retries < 0:\n",
    "            raise ValueError('invalid user response')\n",
    "        print(reminder)"
   ]
  },
  {
   "cell_type": "code",
   "execution_count": 45,
   "id": "77c2884d-d7d1-4660-9bc8-4301bc10f117",
   "metadata": {},
   "outputs": [
    {
     "name": "stdin",
     "output_type": "stream",
     "text": [
      "Do you really want to quit? --\n"
     ]
    },
    {
     "name": "stdout",
     "output_type": "stream",
     "text": [
      "Please try again!\n"
     ]
    },
    {
     "name": "stdin",
     "output_type": "stream",
     "text": [
      "Do you really want to quit? nop\n"
     ]
    },
    {
     "data": {
      "text/plain": [
       "False"
      ]
     },
     "execution_count": 45,
     "metadata": {},
     "output_type": "execute_result"
    }
   ],
   "source": [
    "ask_ok('Do you really want to quit?')"
   ]
  },
  {
   "cell_type": "code",
   "execution_count": 47,
   "id": "2d4e4b75-608e-47c0-8038-ed01f1ce6e04",
   "metadata": {},
   "outputs": [
    {
     "name": "stdin",
     "output_type": "stream",
     "text": [
      "OK to overwrite the file? u\n"
     ]
    },
    {
     "name": "stdout",
     "output_type": "stream",
     "text": [
      "Please try again!\n"
     ]
    },
    {
     "name": "stdin",
     "output_type": "stream",
     "text": [
      "OK to overwrite the file? w\n"
     ]
    },
    {
     "name": "stdout",
     "output_type": "stream",
     "text": [
      "Please try again!\n"
     ]
    },
    {
     "name": "stdin",
     "output_type": "stream",
     "text": [
      "OK to overwrite the file? w\n"
     ]
    },
    {
     "ename": "ValueError",
     "evalue": "invalid user response",
     "output_type": "error",
     "traceback": [
      "\u001b[0;31m---------------------------------------------------------------------------\u001b[0m",
      "\u001b[0;31mValueError\u001b[0m                                Traceback (most recent call last)",
      "Cell \u001b[0;32mIn[47], line 1\u001b[0m\n\u001b[0;32m----> 1\u001b[0m ask_ok(\u001b[38;5;124m'\u001b[39m\u001b[38;5;124mOK to overwrite the file?\u001b[39m\u001b[38;5;124m'\u001b[39m, \u001b[38;5;241m2\u001b[39m)\n",
      "Cell \u001b[0;32mIn[40], line 10\u001b[0m, in \u001b[0;36mask_ok\u001b[0;34m(prompt, retries, reminder)\u001b[0m\n\u001b[1;32m      8\u001b[0m retries \u001b[38;5;241m=\u001b[39m retries \u001b[38;5;241m-\u001b[39m \u001b[38;5;241m1\u001b[39m\n\u001b[1;32m      9\u001b[0m \u001b[38;5;28;01mif\u001b[39;00m retries \u001b[38;5;241m<\u001b[39m \u001b[38;5;241m0\u001b[39m:\n\u001b[0;32m---> 10\u001b[0m     \u001b[38;5;28;01mraise\u001b[39;00m \u001b[38;5;167;01mValueError\u001b[39;00m(\u001b[38;5;124m'\u001b[39m\u001b[38;5;124minvalid user response\u001b[39m\u001b[38;5;124m'\u001b[39m)\n\u001b[1;32m     11\u001b[0m \u001b[38;5;28mprint\u001b[39m(reminder)\n",
      "\u001b[0;31mValueError\u001b[0m: invalid user response"
     ]
    }
   ],
   "source": [
    "ask_ok('OK to overwrite the file?', 2)"
   ]
  },
  {
   "cell_type": "code",
   "execution_count": 44,
   "id": "8e934fa8-49dc-4e76-a604-3c8b5e6a03a4",
   "metadata": {},
   "outputs": [
    {
     "name": "stdin",
     "output_type": "stream",
     "text": [
      "OK to overwrite the file? no\n"
     ]
    },
    {
     "data": {
      "text/plain": [
       "False"
      ]
     },
     "execution_count": 44,
     "metadata": {},
     "output_type": "execute_result"
    }
   ],
   "source": [
    "ask_ok('OK to overwrite the file?', 2, 'Come on, only yes or no!')"
   ]
  },
  {
   "cell_type": "code",
   "execution_count": 48,
   "id": "b767b723-ed96-4051-99ac-41769b6bbf09",
   "metadata": {},
   "outputs": [],
   "source": [
    "def f(a,L=[]):\n",
    "    L.append(a)\n",
    "    return L"
   ]
  },
  {
   "cell_type": "code",
   "execution_count": 53,
   "id": "60610bc4-fe4c-47db-b89d-df0780cfb89c",
   "metadata": {},
   "outputs": [
    {
     "name": "stdout",
     "output_type": "stream",
     "text": [
      "[1, 1, 2, 3, 1, 2, 3, 1, 2, 3, 1]\n",
      "[1, 1, 2, 3, 1, 2, 3, 1, 2, 3, 1, 2]\n",
      "[1, 1, 2, 3, 1, 2, 3, 1, 2, 3, 1, 2, 3]\n"
     ]
    }
   ],
   "source": [
    "print(f(1))\n",
    "print(f(2))\n",
    "print(f(3))"
   ]
  },
  {
   "cell_type": "code",
   "execution_count": 56,
   "id": "bcb7420d-ab90-4c47-8347-d1b95bf9c777",
   "metadata": {},
   "outputs": [
    {
     "name": "stdout",
     "output_type": "stream",
     "text": [
      "[1]\n",
      "[2]\n",
      "[3]\n"
     ]
    }
   ],
   "source": [
    "# Set default to be shared between subsequent calls\n",
    "def f(a,L=None):\n",
    "    if L is None:\n",
    "        L =[]\n",
    "    L.append(a)\n",
    "    return L\n",
    "print(f(1))\n",
    "print(f(2))\n",
    "print(f(3))"
   ]
  },
  {
   "cell_type": "code",
   "execution_count": 57,
   "id": "8c485508-5e68-4c10-8917-417d95f40943",
   "metadata": {},
   "outputs": [
    {
     "name": "stdout",
     "output_type": "stream",
     "text": [
      "[1]\n",
      "[2]\n",
      "[3]\n"
     ]
    }
   ],
   "source": [
    "print(f(1))\n",
    "print(f(2))\n",
    "print(f(3))"
   ]
  },
  {
   "cell_type": "code",
   "execution_count": 58,
   "id": "0f8045ea-b2cf-4fb8-b6da-6cd0075c4d0a",
   "metadata": {},
   "outputs": [],
   "source": [
    "# 4.9.2 Keyword Arguments\n",
    "def parrot(voltage, state='a stiff', action='voom', type='Norwegian Blue'):\n",
    "    print(\"-- This parrot wouldn't\", action, end=' ')\n",
    "    print(\"if you put\", voltage, \"volts through it.\")\n",
    "    print(\"-- Lovely plumage, the\", type)\n",
    "    print(\"-- It's\", state, \"!\")"
   ]
  },
  {
   "cell_type": "code",
   "execution_count": 60,
   "id": "8710db37-a996-4d19-9021-6616067fd7fe",
   "metadata": {},
   "outputs": [
    {
     "name": "stdout",
     "output_type": "stream",
     "text": [
      "-- This parrot wouldn't voom if you put 1000 volts through it.\n",
      "-- Lovely plumage, the Norwegian Blue\n",
      "-- It's a stiff !\n",
      "-- This parrot wouldn't voom if you put 1000 volts through it.\n",
      "-- Lovely plumage, the Norwegian Blue\n",
      "-- It's a stiff !\n"
     ]
    }
   ],
   "source": [
    "parrot(1000) \n",
    "parrot(voltage=1000)"
   ]
  },
  {
   "cell_type": "markdown",
   "id": "f20d8030-3cef-4cfa-84d9-150c469dd7b9",
   "metadata": {},
   "source": [
    "\n",
    "这个例子展示了Python函数参数中一个重要的概念，关于位置参数和关键字参数之间可能发生的冲突。我来用中文解释一下：\n",
    "\n",
    "首先，这个例子定义了一个函数：\n",
    "```python\n",
    "def foo(name, **kwds):\n",
    "    return 'name' in kwds\n",
    "```\n",
    "\n",
    "这个函数有两个参数：\n",
    "1. `name` - 一个位置参数\n",
    "2. `**kwds` - 一个关键字参数字典\n",
    "\n",
    "函数检查字符串 `'name'` 是否在 `kwds` 字典中作为键存在。\n",
    "\n",
    "当你尝试调用 `foo(1, **{'name': 2})` 时，会发生错误：\n",
    "```\n",
    "TypeError: foo() got multiple values for argument 'name'\n",
    "```\n",
    "\n",
    "这是因为:\n",
    "- 值 `1` 被绑定到位置参数 `name`\n",
    "- 同时，在 `**kwds` 中，也有一个键为 `'name'` 的项目\n",
    "\n",
    "Python解释器发现参数 `name` 被赋值了两次，所以报错。\n",
    "\n",
    "但是，通过使用 `/` 参数分隔符（在Python 3.8及以上版本可用），可以指定前面的参数只能作为位置参数使用：\n",
    "\n",
    "```python\n",
    "def foo(name, /, **kwds):\n",
    "    return 'name' in kwds\n",
    "```\n",
    "\n",
    "现在，`name` 参数只能通过位置提供，不能作为关键字参数。这样，当你调用 `foo(1, **{'name': 2})` 时：\n",
    "- 值 `1` 被绑定到位置参数 `name`\n",
    "- 键 `'name'` 和值 `2` 被放入 `kwds` 字典中\n",
    "- 函数返回 `True`，因为 `'name'` 确实在 `kwds` 中作为键存在\n",
    "\n",
    "这就解决了参数名称冲突的问题。简单来说，`/` 符号帮助我们区分哪些参数只能通过位置传递，避免了与关键字参数的命名冲突。\n",
    "\n",
    "这个例子很好地说明了Python函数参数系统的灵活性和潜在的复杂性。\n",
    "```\n"
   ]
  },
  {
   "cell_type": "markdown",
   "id": "771a722f-3916-4079-8e8a-31eb42274762",
   "metadata": {},
   "source": [
    "# 4.9.4 Arbitrary Argument Lists"
   ]
  },
  {
   "cell_type": "markdown",
   "id": "a2bb91e7-b73a-42ee-a636-9a5507ca1707",
   "metadata": {},
   "source": [
    "# 任意参数列表（Arbitrary Argument Lists）\n",
    "\n",
    "任意参数列表是Python中一个非常有用的功能，它允许你定义一个函数，该函数可以接收不确定数量的参数。这在你不知道函数将被调用时会传递多少个参数的情况下特别有用。\n",
    "\n",
    "## 基本语法\n",
    "\n",
    "在Python中，任意参数列表使用星号（`*`）表示：\n",
    "\n",
    "```python\n",
    "def function_name(*args):\n",
    "    # 函数体\n",
    "    # args是一个元组，包含所有传递给函数的位置参数\n",
    "```\n",
    "\n",
    "## 工作原理\n",
    "\n",
    "当你在函数定义中使用`*args`时：\n",
    "- `args`是一个元组（tuple）\n",
    "- 它包含了所有传递给函数的位置参数\n",
    "- 你可以在函数内部像处理普通元组一样处理`args`\n",
    "\n",
    "## 示例\n",
    "\n",
    "```python\n",
    "def sum_all(*numbers):\n",
    "    result = 0\n",
    "    for num in numbers:\n",
    "        result += num\n",
    "    return result\n",
    "\n",
    "# 调用函数\n",
    "print(sum_all(1, 2))          # 输出: 3\n",
    "print(sum_all(1, 2, 3, 4, 5)) # 输出: 15\n",
    "print(sum_all())              # 输出: 0\n",
    "```\n",
    "\n",
    "## 关键字任意参数\n",
    "\n",
    "除了位置参数，Python还允许你使用双星号（`**`）接收任意数量的关键字参数：\n",
    "\n",
    "```python\n",
    "def function_name(**kwargs):\n",
    "    # 函数体\n",
    "    # kwargs是一个字典，包含所有传递给函数的关键字参数\n",
    "```\n",
    "\n",
    "`kwargs`是\"keyword arguments\"的缩写，它是一个字典，键是参数名，值是传递的参数值。\n",
    "\n",
    "## 关键字任意参数示例\n",
    "\n",
    "```python\n",
    "def print_info(**info):\n",
    "    for key, value in info.items():\n",
    "        print(f\"{key}: {value}\")\n",
    "\n",
    "# 调用函数\n",
    "print_info(name=\"张三\", age=25, city=\"北京\")\n",
    "# 输出:\n",
    "# name: 张三\n",
    "# age: 25\n",
    "# city: 北京\n",
    "```\n",
    "\n",
    "## 混合使用\n",
    "\n",
    "你可以在同一个函数中混合使用普通参数、`*args`和`**kwargs`，但必须按照以下顺序：\n",
    "1. 普通参数\n",
    "2. `*args`\n",
    "3. `**kwargs`\n",
    "\n",
    "```python\n",
    "def mixed_function(a, b, *args, **kwargs):\n",
    "    print(f\"a = {a}\")\n",
    "    print(f\"b = {b}\")\n",
    "    print(f\"args = {args}\")\n",
    "    print(f\"kwargs = {kwargs}\")\n",
    "\n",
    "# 调用函数\n",
    "mixed_function(1, 2, 3, 4, 5, x=\"hello\", y=\"world\")\n",
    "# 输出:\n",
    "# a = 1\n",
    "# b = 2\n",
    "# args = (3, 4, 5)\n",
    "# kwargs = {'x': 'hello', 'y': 'world'}\n",
    "```\n",
    "\n",
    "## 解包参数列表\n",
    "\n",
    "你也可以使用`*`和`**`运算符来解包参数列表：\n",
    "\n",
    "```python\n",
    "def function(a, b, c):\n",
    "    print(a, b, c)\n",
    "\n",
    "args = [1, 2, 3]\n",
    "function(*args)  # 等同于 function(1, 2, 3)\n",
    "\n",
    "kwargs = {'a': 1, 'b': 2, 'c': 3}\n",
    "function(**kwargs)  # 等同于 function(a=1, b=2, c=3)\n",
    "```"
   ]
  },
  {
   "cell_type": "markdown",
   "id": "9c6e214f-4b61-4340-968c-d48edad1cff2",
   "metadata": {},
   "source": [
    "# 4.9.6.Lambda Expressions\n",
    "让我解释一下这行代码：`pairs.sort(key=lambda pair: pair[1])`\n",
    "\n",
    "这是一个排序操作的例子，展示了 lambda 表达式的一个常见用途。让我们逐部分分析：\n",
    "\n",
    "1. `pairs` 是一个需要排序的列表，由元组组成，例如：`[(1, 'one'), (2, 'two'), (3, 'three'), (4, 'four')]`\n",
    "\n",
    "2. `.sort()` 是列表的方法，用于对列表进行原地排序（即直接修改原列表而不返回新列表）\n",
    "\n",
    "3. `key=lambda pair: pair[1]` 是排序的关键所在：\n",
    "   - `key` 参数指定一个函数，这个函数将应用于列表中的每个元素，返回的值将用于比较元素的大小\n",
    "   - `lambda pair: pair[1]` 是一个匿名函数，它接收一个参数 `pair`（列表中的每个元组）\n",
    "   - 函数体 `pair[1]` 表示返回元组的第二个元素（索引为1）\n",
    "   \n",
    "所以这行代码的作用是：将 `pairs` 列表按照每个元组的第二个元素（即字符串部分）进行排序。\n",
    "\n",
    "对于示例数据 `[(1, 'one'), (2, 'two'), (3, 'three'), (4, 'four')]`，结果会是：\n",
    "`[(4, 'four'), (1, 'one'), (3, 'three'), (2, 'two')]`\n",
    "\n",
    "因为按照字母顺序，'four' 排在最前面，然后是 'one'，接着是 'three'，最后是 'two'。\n",
    "\n",
    "这种用法非常实用，因为它允许你以非常简洁的方式定义排序规则，而不必单独定义一个完整的函数。"
   ]
  },
  {
   "cell_type": "code",
   "execution_count": 63,
   "id": "392caafd-5781-4c53-8757-90505f318f7b",
   "metadata": {},
   "outputs": [
    {
     "data": {
      "text/plain": [
       "[(4, 'four'), (1, 'one'), (3, 'three'), (2, 'two')]"
      ]
     },
     "execution_count": 63,
     "metadata": {},
     "output_type": "execute_result"
    }
   ],
   "source": [
    "pairs = [(1, 'one'), (2, 'two'), (3, 'three'), (4, 'four')]\n",
    "pairs.sort(key=lambda pair: pair[1])\n",
    "pairs"
   ]
  },
  {
   "cell_type": "markdown",
   "id": "3170ec3c-e193-447c-9192-086d114782f0",
   "metadata": {},
   "source": [
    "# 4.9.7 Documentation Strings\n",
    "# Python 文档字符串（Documentation Strings）\n",
    "\n",
    "文档字符串（Documentation Strings），通常称为 docstrings，是 Python 中一个非常重要的特性，用于为模块、函数、类和方法提供文档。\n",
    "\n",
    "## 什么是文档字符串\n",
    "\n",
    "根据 Python 教程中的描述，文档字符串是作为函数、模块或类定义中的第一个语句出现的字符串字面量。这个字符串会被自动添加到对象的 `__doc__` 属性中。虽然在执行代码时文档字符串会被忽略，但它对于代码的可读性和维护性非常重要。\n",
    "\n",
    "## 基本语法\n",
    "\n",
    "文档字符串通常使用三重引号（`\"\"\"` 或 `'''`）来定义，这样可以方便地编写多行文档：\n",
    "\n",
    "```python\n",
    "def my_function():\n",
    "    \"\"\"这是一个函数的文档字符串。\n",
    "    \n",
    "    它可以跨越多行，并提供关于函数功能的详细信息。\n",
    "    \"\"\"\n",
    "    pass\n",
    "```\n",
    "\n",
    "## 文档字符串的规范\n",
    "\n",
    "教程中提到了一些关于文档字符串内容和格式的约定：\n",
    "\n",
    "1. 第一行应该是对象目的的简短、精确的摘要。为了简洁，它不应该显式地说明对象的名称或类型，因为这些可以通过其他方式获取。\n",
    "\n",
    "2. 如果文档字符串有多行，第二行应该是空行，从视觉上将摘要与其余描述分开。\n",
    "\n",
    "3. 后面的行可以是一个或多个段落，描述对象的调用约定、副作用等。\n",
    "\n",
    "Python 解析器不会从多行文档字符串中删除缩进，所以处理文档的工具如果需要的话必须自己删除缩进。这是通过以下约定完成的：文档字符串第一行后的第一个非空行决定整个文档字符串的缩进量。然后，所有行开头与这个缩进\"等效\"的空白都被删除。\n",
    "\n",
    "## 访问文档字符串\n",
    "\n",
    "您可以通过对象的 `__doc__` 属性访问文档字符串：\n",
    "\n",
    "```python\n",
    ">>> print(my_function.__doc__)\n",
    "这是一个函数的文档字符串。\n",
    "\n",
    "它可以跨越多行，并提供关于函数功能的详细信息。\n",
    "```\n",
    "\n",
    "## 文档字符串的重要性\n",
    "\n",
    "教程强调了编写文档字符串的重要性：\n",
    "\n",
    "- 它们是生成在线或打印文档的基础\n",
    "- 它们使用户能够交互式地浏览代码\n",
    "- 对于您编写的代码，包含文档字符串是一种良好的实践\n",
    "\n",
    "## 文档字符串示例\n",
    "\n",
    "```python\n",
    "def my_function():\n",
    "    \"\"\"Do nothing, but document it.\n",
    "    \n",
    "    No, really, it doesn't do anything.\n",
    "    \"\"\"\n",
    "    pass\n",
    "\n",
    "print(my_function.__doc__)\n",
    "```\n",
    "\n",
    "输出将是：\n",
    "\n",
    "```\n",
    "Do nothing, but document it.\n",
    "\n",
    "No, really, it doesn't do anything.\n",
    "```\n",
    "\n",
    "总之，文档字符串是 Python 编程中的一个重要特性，它不仅有助于代码的自文档化，也是生成外部文档的基础。良好的文档字符串能够大大提高代码的可维护性和可读性。"
   ]
  },
  {
   "cell_type": "markdown",
   "id": "ed2e74a2-e2dd-4af2-bd96-05bdbd6f21ab",
   "metadata": {},
   "source": [
    "# Function Annotations\n",
    "Function Annotations 是 Python 中的一种机制，允许你为函数的参数和返回值添加注释或标注。这些注释本身并不影响函数的执行，但可以被用于文档、类型检查和其他工具。\n",
    "\n",
    "根据 Python 教程中的内容，函数注释的语法如下：\n",
    "\n",
    "1. 参数注释：在参数名后使用冒号（:）添加，如 `def func(a: int)`\n",
    "2. 返回值注释：在函数参数列表和冒号之间使用箭头（->）添加，如 `def func(a) -> str:`\n",
    "\n",
    "例如：\n",
    "```python\n",
    "def sum_two_numbers(a: int, b: int) -> int:\n",
    "    return a + b\n",
    "```\n",
    "\n",
    "这个函数注释表明 `a` 和 `b` 应该是整数，且函数返回值也应该是整数。\n",
    "\n",
    "函数注释存储在函数的 `__annotations__` 属性中，这是一个字典，其中包含参数名和返回值（用 'return' 键表示）及其对应的注释。例如：\n",
    "\n",
    "```python\n",
    ">>> def f(ham: str, eggs: str = 'eggs') -> str:\n",
    "...     print(\"Annotations:\", f.__annotations__)\n",
    "...     print(\"Arguments:\", ham, eggs)\n",
    "...     return ham + ' and ' + eggs\n",
    "...\n",
    ">>> f('spam')\n",
    "Annotations: {'ham': <class 'str'>, 'return': <class 'str'>, 'eggs': <class 'str'>}\n",
    "Arguments: spam eggs\n",
    "'spam and eggs'\n",
    "```\n",
    "\n",
    "需要注意的是，函数注释在 Python 中主要用于提供类型提示（type hints），特别是与 `typing` 模块结合使用。这些提示可以被静态类型检查工具（如 mypy）用来检查代码中的类型错误，但 Python 解释器本身并不强制执行这些类型约束。\n",
    "\n",
    "## 中文补充建议\n",
    "\n",
    "1. **实际应用场景**：函数注解在大型项目和团队协作中特别有用。它们可以帮助你的团队成员理解你期望的输入和输出类型，减少沟通成本和运行时错误。\n",
    "\n",
    "2. **与 typing 模块结合**：学习 typing 模块可以大大增强函数注解的功能。例如：\n",
    "   ```python\n",
    "   from typing import List, Dict, Optional\n",
    "   \n",
    "   def process_data(items: List[int], config: Optional[Dict[str, str]] = None) -> List[str]:\n",
    "       # 函数实现\n",
    "   ```\n",
    "\n",
    "3. **理解注解的局限性**：记住，Python 是动态类型语言，注解仅为提示。即使添加了类型注解，Python 运行时仍然不会检查或强制执行这些类型。如果需要类型检查，需要使用外部工具如 mypy。\n",
    "\n",
    "4. **学习进阶**：在掌握基本函数注解后，建议学习更复杂的类型提示，如泛型（Generics）、联合类型（Union types）和类型变量（TypeVar）等概念，这些在复杂应用程序中非常有用。\n",
    "\n",
    "5. **文档与注解结合**：将函数注解与详细的文档字符串（docstring）结合使用，可以创建更加全面和有用的API文档。例如：\n",
    "   ```python\n",
    "   def calculate_area(radius: float) -> float:\n",
    "       \"\"\"计算圆的面积。\n",
    "       \n",
    "       Args:\n",
    "           radius: 圆的半径，必须为正数\n",
    "           \n",
    "       Returns:\n",
    "           圆的面积\n",
    "           \n",
    "       Raises:\n",
    "           ValueError: 当半径为负数时\n",
    "       \"\"\"\n",
    "       if radius < 0:\n",
    "           raise ValueError(\"半径不能为负数\")\n",
    "       return 3.14159 * radius * radius\n",
    "   ```\n",
    "\n",
    "函数注解是 Python 3 中的一个强大特性，掌握它可以提高代码质量和可维护性。"
   ]
  },
  {
   "cell_type": "markdown",
   "id": "ee72d474-e124-45a3-a1cb-f855f2a3ea84",
   "metadata": {},
   "source": [
    "#4.9.8. Function Annotations @2025-02-28 18:40"
   ]
  }
 ],
 "metadata": {
  "kernelspec": {
   "display_name": "Python 3 (ipykernel)",
   "language": "python",
   "name": "python3"
  },
  "language_info": {
   "codemirror_mode": {
    "name": "ipython",
    "version": 3
   },
   "file_extension": ".py",
   "mimetype": "text/x-python",
   "name": "python",
   "nbconvert_exporter": "python",
   "pygments_lexer": "ipython3",
   "version": "3.12.8"
  }
 },
 "nbformat": 4,
 "nbformat_minor": 5
}
